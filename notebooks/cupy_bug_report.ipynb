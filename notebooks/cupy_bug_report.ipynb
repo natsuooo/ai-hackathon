{
  "nbformat": 4,
  "nbformat_minor": 0,
  "metadata": {
    "colab": {
      "name": "cupy_bug_report.ipynb",
      "provenance": [],
      "collapsed_sections": []
    },
    "kernelspec": {
      "name": "python3",
      "display_name": "Python 3"
    },
    "language_info": {
      "name": "python"
    },
    "accelerator": "GPU"
  },
  "cells": [
    {
      "cell_type": "code",
      "metadata": {
        "colab": {
          "base_uri": "https://localhost:8080/"
        },
        "id": "B3-rprzUPXPy",
        "outputId": "aba7259b-dc21-4a63-ee9c-1f97c5f784ba"
      },
      "source": [
        "%env CUPY_DUMP_CUDA_SOURCE_ON_ERROR=1\n",
        "%env CUPY_CACHE_SAVE_CUDA_SOURCE=1"
      ],
      "execution_count": null,
      "outputs": [
        {
          "output_type": "stream",
          "text": [
            "env: CUPY_DUMP_CUDA_SOURCE_ON_ERROR=1\n",
            "env: CUPY_CACHE_SAVE_CUDA_SOURCE=1\n"
          ],
          "name": "stdout"
        }
      ]
    },
    {
      "cell_type": "markdown",
      "metadata": {
        "id": "7NL3107JfGeO"
      },
      "source": [
        "## Kernel"
      ]
    },
    {
      "cell_type": "code",
      "metadata": {
        "id": "ZL5vOXxUfJep"
      },
      "source": [
        "#!/usr/bin/env python\n",
        "\n",
        "import torch\n",
        "\n",
        "import cupy\n",
        "import math\n",
        "import re\n",
        "\n",
        "kernel_Correlation_rearrange = '''\n",
        "\textern \"C\" __global__ void kernel_Correlation_rearrange(\n",
        "\t\tconst int n,\n",
        "\t\tconst float* input,\n",
        "\t\tfloat* output\n",
        "\t) {\n",
        "\t  int intIndex = (blockIdx.x * blockDim.x) + threadIdx.x;\n",
        "\n",
        "\t  if (intIndex >= n) {\n",
        "\t    return;\n",
        "\t  }\n",
        "\n",
        "\t  int intSample = blockIdx.z;\n",
        "\t  int intChannel = blockIdx.y;\n",
        "\n",
        "\t  float fltValue = input[(((intSample * SIZE_1(input)) + intChannel) * SIZE_2(input) * SIZE_3(input)) + intIndex];\n",
        "\n",
        "\t  __syncthreads();\n",
        "\n",
        "\t  int intPaddedY = (intIndex / SIZE_3(input)) + 3*{{intStride}};\n",
        "\t  int intPaddedX = (intIndex % SIZE_3(input)) + 3*{{intStride}};\n",
        "\t  int intRearrange = ((SIZE_3(input) + 6*{{intStride}}) * intPaddedY) + intPaddedX;\n",
        "\n",
        "\t  output[(((intSample * SIZE_1(output) * SIZE_2(output)) + intRearrange) * SIZE_1(input)) + intChannel] = fltValue;\n",
        "\t}\n",
        "'''\n",
        "\n",
        "kernel_Correlation_updateOutput = '''\n",
        "\textern \"C\" __global__ void kernel_Correlation_updateOutput(\n",
        "\t  const int n,\n",
        "\t  const float* rbot0,\n",
        "\t  const float* rbot1,\n",
        "\t  float* top\n",
        "\t) {\n",
        "\t  extern __shared__ char patch_data_char[];\n",
        "\t  \n",
        "\t  float *patch_data = (float *)patch_data_char;\n",
        "\t  \n",
        "\t  // First (upper left) position of kernel upper-left corner in current center position of neighborhood in image 1\n",
        "\t  int x1 = (blockIdx.x + 3) * {{intStride}};\n",
        "\t  int y1 = (blockIdx.y + 3) * {{intStride}};\n",
        "\t  int item = blockIdx.z;\n",
        "\t  int ch_off = threadIdx.x;\n",
        "\t  \n",
        "\t  // Load 3D patch into shared shared memory\n",
        "\t  for (int j = 0; j < 1; j++) { // HEIGHT\n",
        "\t    for (int i = 0; i < 1; i++) { // WIDTH\n",
        "\t      int ji_off = (j + i) * SIZE_3(rbot0);\n",
        "\t      for (int ch = ch_off; ch < SIZE_3(rbot0); ch += 32) { // CHANNELS\n",
        "\t        int idx1 = ((item * SIZE_1(rbot0) + y1+j) * SIZE_2(rbot0) + x1+i) * SIZE_3(rbot0) + ch;\n",
        "\t        int idxPatchData = ji_off + ch;\n",
        "\t        patch_data[idxPatchData] = rbot0[idx1];\n",
        "\t      }\n",
        "\t    }\n",
        "\t  }\n",
        "\t  \n",
        "\t  __syncthreads();\n",
        "\t  \n",
        "\t  __shared__ float sum[32];\n",
        "\t  \n",
        "\t  // Compute correlation\n",
        "\t  for (int top_channel = 0; top_channel < SIZE_1(top); top_channel++) {\n",
        "\t    sum[ch_off] = 0;\n",
        "\t  \n",
        "\t    int s2o = (top_channel % 7 - 3) * {{intStride}};\n",
        "\t    int s2p = (top_channel / 7 - 3) * {{intStride}};\n",
        "\t    \n",
        "\t    for (int j = 0; j < 1; j++) { // HEIGHT\n",
        "\t      for (int i = 0; i < 1; i++) { // WIDTH\n",
        "\t        int ji_off = (j + i) * SIZE_3(rbot0);\n",
        "\t        for (int ch = ch_off; ch < SIZE_3(rbot0); ch += 32) { // CHANNELS\n",
        "\t          int x2 = x1 + s2o;\n",
        "\t          int y2 = y1 + s2p;\n",
        "\t          \n",
        "\t          int idxPatchData = ji_off + ch;\n",
        "\t          int idx2 = ((item * SIZE_1(rbot0) + y2+j) * SIZE_2(rbot0) + x2+i) * SIZE_3(rbot0) + ch;\n",
        "\t          \n",
        "\t          sum[ch_off] += patch_data[idxPatchData] * rbot1[idx2];\n",
        "\t        }\n",
        "\t      }\n",
        "\t    }\n",
        "\t    \n",
        "\t    __syncthreads();\n",
        "\t    \n",
        "\t    if (ch_off == 0) {\n",
        "\t      float total_sum = 0;\n",
        "\t      for (int idx = 0; idx < 32; idx++) {\n",
        "\t        total_sum += sum[idx];\n",
        "\t      }\n",
        "\t      const int sumelems = SIZE_3(rbot0);\n",
        "\t      const int index = ((top_channel*SIZE_2(top) + blockIdx.y)*SIZE_3(top))+blockIdx.x;\n",
        "\t      top[index + item*SIZE_1(top)*SIZE_2(top)*SIZE_3(top)] = total_sum / (float)sumelems;\n",
        "\t    }\n",
        "\t  }\n",
        "\t}\n",
        "'''\n",
        "\n",
        "kernel_Correlation_updateGradFirst = '''\n",
        "\t#define ROUND_OFF 50000\n",
        "\n",
        "\textern \"C\" __global__ void kernel_Correlation_updateGradFirst(\n",
        "\t  const int n,\n",
        "\t  const int intSample,\n",
        "\t  const float* rbot0,\n",
        "\t  const float* rbot1,\n",
        "\t  const float* gradOutput,\n",
        "\t  float* gradFirst,\n",
        "\t  float* gradSecond\n",
        "\t) { for (int intIndex = (blockIdx.x * blockDim.x) + threadIdx.x; intIndex < n; intIndex += blockDim.x * gridDim.x) {\n",
        "\t  int n = intIndex % SIZE_1(gradFirst); // channels\n",
        "\t  int l = (intIndex / SIZE_1(gradFirst)) % SIZE_3(gradFirst) + 3*{{intStride}}; // w-pos\n",
        "\t  int m = (intIndex / SIZE_1(gradFirst) / SIZE_3(gradFirst)) % SIZE_2(gradFirst) + 3*{{intStride}}; // h-pos\n",
        "\t  \n",
        "\t  // round_off is a trick to enable integer division with ceil, even for negative numbers\n",
        "\t  // We use a large offset, for the inner part not to become negative.\n",
        "\t  const int round_off = ROUND_OFF;\n",
        "\t  const int round_off_s1 = {{intStride}} * round_off;\n",
        "\t  \n",
        "\t  // We add round_off before_s1 the int division and subtract round_off after it, to ensure the formula matches ceil behavior:\n",
        "\t  int xmin = (l - 3*{{intStride}} + round_off_s1 - 1) / {{intStride}} + 1 - round_off; // ceil (l - 3*{{intStride}}) / {{intStride}}\n",
        "\t  int ymin = (m - 3*{{intStride}} + round_off_s1 - 1) / {{intStride}} + 1 - round_off; // ceil (l - 3*{{intStride}}) / {{intStride}}\n",
        "\t  \n",
        "\t  // Same here:\n",
        "\t  int xmax = (l - 3*{{intStride}} + round_off_s1) / {{intStride}} - round_off; // floor (l - 3*{{intStride}}) / {{intStride}}\n",
        "\t  int ymax = (m - 3*{{intStride}} + round_off_s1) / {{intStride}} - round_off; // floor (m - 3*{{intStride}}) / {{intStride}}\n",
        "\t  \n",
        "\t  float sum = 0;\n",
        "\t  if (xmax>=0 && ymax>=0 && (xmin<=SIZE_3(gradOutput)-1) && (ymin<=SIZE_2(gradOutput)-1)) {\n",
        "\t    xmin = max(0,xmin);\n",
        "\t    xmax = min(SIZE_3(gradOutput)-1,xmax);\n",
        "\t    \n",
        "\t    ymin = max(0,ymin);\n",
        "\t    ymax = min(SIZE_2(gradOutput)-1,ymax);\n",
        "\t    \n",
        "\t    for (int p = -3; p <= 3; p++) {\n",
        "\t      for (int o = -3; o <= 3; o++) {\n",
        "\t        // Get rbot1 data:\n",
        "\t        int s2o = {{intStride}} * o;\n",
        "\t        int s2p = {{intStride}} * p;\n",
        "\t        int idxbot1 = ((intSample * SIZE_1(rbot0) + (m+s2p)) * SIZE_2(rbot0) + (l+s2o)) * SIZE_3(rbot0) + n;\n",
        "\t        float bot1tmp = rbot1[idxbot1]; // rbot1[l+s2o,m+s2p,n]\n",
        "\t        \n",
        "\t        // Index offset for gradOutput in following loops:\n",
        "\t        int op = (p+3) * 7 + (o+3); // index[o,p]\n",
        "\t        int idxopoffset = (intSample * SIZE_1(gradOutput) + op);\n",
        "\t        \n",
        "\t        for (int y = ymin; y <= ymax; y++) {\n",
        "\t          for (int x = xmin; x <= xmax; x++) {\n",
        "\t            int idxgradOutput = (idxopoffset * SIZE_2(gradOutput) + y) * SIZE_3(gradOutput) + x; // gradOutput[x,y,o,p]\n",
        "\t            sum += gradOutput[idxgradOutput] * bot1tmp;\n",
        "\t          }\n",
        "\t        }\n",
        "\t      }\n",
        "\t    }\n",
        "\t  }\n",
        "\t  const int sumelems = SIZE_1(gradFirst);\n",
        "\t  const int bot0index = ((n * SIZE_2(gradFirst)) + (m-3*{{intStride}})) * SIZE_3(gradFirst) + (l-3*{{intStride}});\n",
        "\t  gradFirst[bot0index + intSample*SIZE_1(gradFirst)*SIZE_2(gradFirst)*SIZE_3(gradFirst)] = sum / (float)sumelems;\n",
        "\t} }\n",
        "'''\n",
        "\n",
        "kernel_Correlation_updateGradSecond = '''\n",
        "\t#define ROUND_OFF 50000\n",
        "\n",
        "\textern \"C\" __global__ void kernel_Correlation_updateGradSecond(\n",
        "\t  const int n,\n",
        "\t  const int intSample,\n",
        "\t  const float* rbot0,\n",
        "\t  const float* rbot1,\n",
        "\t  const float* gradOutput,\n",
        "\t  float* gradFirst,\n",
        "\t  float* gradSecond\n",
        "\t) { for (int intIndex = (blockIdx.x * blockDim.x) + threadIdx.x; intIndex < n; intIndex += blockDim.x * gridDim.x) {\n",
        "\t  int n = intIndex % SIZE_1(gradSecond); // channels\n",
        "\t  int l = (intIndex / SIZE_1(gradSecond)) % SIZE_3(gradSecond) + 3*{{intStride}}; // w-pos\n",
        "\t  int m = (intIndex / SIZE_1(gradSecond) / SIZE_3(gradSecond)) % SIZE_2(gradSecond) + 3*{{intStride}}; // h-pos\n",
        "\t  \n",
        "\t  // round_off is a trick to enable integer division with ceil, even for negative numbers\n",
        "\t  // We use a large offset, for the inner part not to become negative.\n",
        "\t  const int round_off = ROUND_OFF;\n",
        "\t  const int round_off_s1 = {{intStride}} * round_off;\n",
        "\t  \n",
        "\t  float sum = 0;\n",
        "\t  for (int p = -3; p <= 3; p++) {\n",
        "\t    for (int o = -3; o <= 3; o++) {\n",
        "\t      int s2o = {{intStride}} * o;\n",
        "\t      int s2p = {{intStride}} * p;\n",
        "\t      \n",
        "\t      //Get X,Y ranges and clamp\n",
        "\t      // We add round_off before_s1 the int division and subtract round_off after it, to ensure the formula matches ceil behavior:\n",
        "\t      int xmin = (l - 3*{{intStride}} - s2o + round_off_s1 - 1) / {{intStride}} + 1 - round_off; // ceil (l - 3*{{intStride}} - s2o) / {{intStride}}\n",
        "\t      int ymin = (m - 3*{{intStride}} - s2p + round_off_s1 - 1) / {{intStride}} + 1 - round_off; // ceil (l - 3*{{intStride}} - s2o) / {{intStride}}\n",
        "\t      \n",
        "\t      // Same here:\n",
        "\t      int xmax = (l - 3*{{intStride}} - s2o + round_off_s1) / {{intStride}} - round_off; // floor (l - 3*{{intStride}} - s2o) / {{intStride}}\n",
        "\t      int ymax = (m - 3*{{intStride}} - s2p + round_off_s1) / {{intStride}} - round_off; // floor (m - 3*{{intStride}} - s2p) / {{intStride}}\n",
        "          \n",
        "\t      if (xmax>=0 && ymax>=0 && (xmin<=SIZE_3(gradOutput)-1) && (ymin<=SIZE_2(gradOutput)-1)) {\n",
        "\t        xmin = max(0,xmin);\n",
        "\t        xmax = min(SIZE_3(gradOutput)-1,xmax);\n",
        "\t        \n",
        "\t        ymin = max(0,ymin);\n",
        "\t        ymax = min(SIZE_2(gradOutput)-1,ymax);\n",
        "\t        \n",
        "\t        // Get rbot0 data:\n",
        "\t        int idxbot0 = ((intSample * SIZE_1(rbot0) + (m-s2p)) * SIZE_2(rbot0) + (l-s2o)) * SIZE_3(rbot0) + n;\n",
        "\t        float bot0tmp = rbot0[idxbot0]; // rbot1[l+s2o,m+s2p,n]\n",
        "\t        \n",
        "\t        // Index offset for gradOutput in following loops:\n",
        "\t        int op = (p+3) * 7 + (o+3); // index[o,p]\n",
        "\t        int idxopoffset = (intSample * SIZE_1(gradOutput) + op);\n",
        "\t        \n",
        "\t        for (int y = ymin; y <= ymax; y++) {\n",
        "\t          for (int x = xmin; x <= xmax; x++) {\n",
        "\t            int idxgradOutput = (idxopoffset * SIZE_2(gradOutput) + y) * SIZE_3(gradOutput) + x; // gradOutput[x,y,o,p]\n",
        "\t            sum += gradOutput[idxgradOutput] * bot0tmp;\n",
        "\t          }\n",
        "\t        }\n",
        "\t      }\n",
        "\t    }\n",
        "\t  }\n",
        "\t  const int sumelems = SIZE_1(gradSecond);\n",
        "\t  const int bot1index = ((n * SIZE_2(gradSecond)) + (m-3*{{intStride}})) * SIZE_3(gradSecond) + (l-3*{{intStride}});\n",
        "\t  gradSecond[bot1index + intSample*SIZE_1(gradSecond)*SIZE_2(gradSecond)*SIZE_3(gradSecond)] = sum / (float)sumelems;\n",
        "\t} }\n",
        "'''\n",
        "\n",
        "def cupy_kernel(strFunction, objVariables):\n",
        "\tstrKernel = globals()[strFunction].replace('{{intStride}}', str(objVariables['intStride']))\n",
        "\n",
        "\twhile True:\n",
        "\t\tobjMatch = re.search('(SIZE_)([0-4])(\\()([^\\)]*)(\\))', strKernel)\n",
        "\n",
        "\t\tif objMatch is None:\n",
        "\t\t\tbreak\n",
        "\t\t# end\n",
        "\n",
        "\t\tintArg = int(objMatch.group(2))\n",
        "\n",
        "\t\tstrTensor = objMatch.group(4)\n",
        "\t\tintSizes = objVariables[strTensor].size()\n",
        "\n",
        "\t\treplaceStr = str(intSizes[intArg]).replace(\"tensor\", \"int\")\n",
        "\t\tstrKernel = strKernel.replace(objMatch.group(), replaceStr)\n",
        "\t# end\n",
        "\n",
        "\twhile True:\n",
        "\t\tobjMatch = re.search('(VALUE_)([0-4])(\\()([^\\)]+)(\\))', strKernel)\n",
        "\n",
        "\t\tif objMatch is None:\n",
        "\t\t\tbreak\n",
        "\t\t# end\n",
        "\n",
        "\t\tintArgs = int(objMatch.group(2))\n",
        "\t\tstrArgs = objMatch.group(4).split(',')\n",
        "\n",
        "\t\tstrTensor = strArgs[0]\n",
        "\t\tintStrides = objVariables[strTensor].stride()\n",
        "\t\tstrIndex = [ '((' + strArgs[intArg + 1].replace('{', '(').replace('}', ')').strip() + ')*' + str(intStrides[intArg]) + ')' for intArg in range(intArgs) ]\n",
        "\n",
        "\t\tstrKernel = strKernel.replace(objMatch.group(0), strTensor + '[' + str.join('+', strIndex) + ']')\n",
        "\t# end\n",
        "\n",
        "\treturn strKernel\n",
        "# end\n",
        "\n",
        "# @cupy.util.memoize(for_each_device=True)\n",
        "def cupy_launch(strFunction, strKernel):\n",
        "\treturn cupy.cuda.compile_with_cache(strKernel).get_function(strFunction)\n",
        "# end\n",
        "\n",
        "class _FunctionCorrelation(torch.autograd.Function):\n",
        "\t@staticmethod\n",
        "\tdef forward(self, first, second, intStride):\n",
        "\t\trbot0 = first.new_zeros([ first.shape[0], first.shape[2] + (6 * intStride), first.shape[3] + (6 * intStride), first.shape[1] ])\n",
        "\t\trbot1 = first.new_zeros([ first.shape[0], first.shape[2] + (6 * intStride), first.shape[3] + (6 * intStride), first.shape[1] ])\n",
        "\n",
        "\t\tself.save_for_backward(first, second, rbot0, rbot1)\n",
        "\n",
        "\t\tself.intStride = intStride\n",
        "\n",
        "\t\tassert(first.is_contiguous() == True)\n",
        "\t\tassert(second.is_contiguous() == True)\n",
        "\n",
        "\t\toutput = first.new_zeros([ first.shape[0], 49, int(math.ceil(first.shape[2] / intStride)), int(math.ceil(first.shape[3] / intStride)) ])\n",
        "\n",
        "\t\tif first.is_cuda == True:\n",
        "\t\t\tn = first.shape[2] * first.shape[3]\n",
        "\t\t\tcupy_launch('kernel_Correlation_rearrange', cupy_kernel('kernel_Correlation_rearrange', {\n",
        "\t\t\t\t'intStride': self.intStride,\n",
        "\t\t\t\t'input': first,\n",
        "\t\t\t\t'output': rbot0\n",
        "\t\t\t}))(\n",
        "\t\t\t\tgrid=tuple([ int((n + 16 - 1) / 16), first.shape[1], first.shape[0] ]),\n",
        "\t\t\t\tblock=tuple([ 16, 1, 1 ]),\n",
        "\t\t\t\targs=[ n, first.data_ptr(), rbot0.data_ptr() ]\n",
        "\t\t\t)\n",
        "\n",
        "\t\t\tn = second.shape[2] * second.shape[3]\n",
        "\t\t\tcupy_launch('kernel_Correlation_rearrange', cupy_kernel('kernel_Correlation_rearrange', {\n",
        "\t\t\t\t'intStride': self.intStride,\n",
        "\t\t\t\t'input': second,\n",
        "\t\t\t\t'output': rbot1\n",
        "\t\t\t}))(\n",
        "\t\t\t\tgrid=tuple([ int((n + 16 - 1) / 16), second.shape[1], second.shape[0] ]),\n",
        "\t\t\t\tblock=tuple([ 16, 1, 1 ]),\n",
        "\t\t\t\targs=[ n, second.data_ptr(), rbot1.data_ptr() ]\n",
        "\t\t\t)\n",
        "\n",
        "\t\t\tn = output.shape[1] * output.shape[2] * output.shape[3]\n",
        "\t\t\tcupy_launch('kernel_Correlation_updateOutput', cupy_kernel('kernel_Correlation_updateOutput', {\n",
        "\t\t\t\t'intStride': self.intStride,\n",
        "\t\t\t\t'rbot0': rbot0,\n",
        "\t\t\t\t'rbot1': rbot1,\n",
        "\t\t\t\t'top': output\n",
        "\t\t\t}))(\n",
        "\t\t\t\tgrid=tuple([ output.shape[3], output.shape[2], output.shape[0] ]),\n",
        "\t\t\t\tblock=tuple([ 32, 1, 1 ]),\n",
        "\t\t\t\tshared_mem=first.shape[1] * 4,\n",
        "\t\t\t\targs=[ n, rbot0.data_ptr(), rbot1.data_ptr(), output.data_ptr() ]\n",
        "\t\t\t)\n",
        "\n",
        "\t\telif first.is_cuda == False:\n",
        "\t\t\traise NotImplementedError()\n",
        "\n",
        "\t\t# end\n",
        "\n",
        "\t\treturn output\n",
        "\t# end\n",
        "\n",
        "\t@staticmethod\n",
        "\tdef backward(self, gradOutput):\n",
        "\t\tfirst, second, rbot0, rbot1 = self.saved_tensors\n",
        "\n",
        "\t\tassert(gradOutput.is_contiguous() == True)\n",
        "\n",
        "\t\tgradFirst = first.new_zeros([ first.shape[0], first.shape[1], first.shape[2], first.shape[3] ]) if self.needs_input_grad[0] == True else None\n",
        "\t\tgradSecond = first.new_zeros([ first.shape[0], first.shape[1], first.shape[2], first.shape[3] ]) if self.needs_input_grad[1] == True else None\n",
        "\n",
        "\t\tif first.is_cuda == True:\n",
        "\t\t\tif gradFirst is not None:\n",
        "\t\t\t\tfor intSample in range(first.shape[0]):\n",
        "\t\t\t\t\tn = first.shape[1] * first.shape[2] * first.shape[3]\n",
        "\t\t\t\t\tcupy_launch('kernel_Correlation_updateGradFirst', cupy_kernel('kernel_Correlation_updateGradFirst', {\n",
        "\t\t\t\t\t\t'intStride': self.intStride,\n",
        "\t\t\t\t\t\t'rbot0': rbot0,\n",
        "\t\t\t\t\t\t'rbot1': rbot1,\n",
        "\t\t\t\t\t\t'gradOutput': gradOutput,\n",
        "\t\t\t\t\t\t'gradFirst': gradFirst,\n",
        "\t\t\t\t\t\t'gradSecond': None\n",
        "\t\t\t\t\t}))(\n",
        "\t\t\t\t\t\tgrid=tuple([ int((n + 512 - 1) / 512), 1, 1 ]),\n",
        "\t\t\t\t\t\tblock=tuple([ 512, 1, 1 ]),\n",
        "\t\t\t\t\t\targs=[ n, intSample, rbot0.data_ptr(), rbot1.data_ptr(), gradOutput.data_ptr(), gradFirst.data_ptr(), None ]\n",
        "\t\t\t\t\t)\n",
        "\t\t\t\t# end\n",
        "\t\t\t# end\n",
        "\n",
        "\t\t\tif gradSecond is not None:\n",
        "\t\t\t\tfor intSample in range(first.shape[0]):\n",
        "\t\t\t\t\tn = first.shape[1] * first.shape[2] * first.shape[3]\n",
        "\t\t\t\t\tcupy_launch('kernel_Correlation_updateGradSecond', cupy_kernel('kernel_Correlation_updateGradSecond', {\n",
        "\t\t\t\t\t\t'intStride': self.intStride,\n",
        "\t\t\t\t\t\t'rbot0': rbot0,\n",
        "\t\t\t\t\t\t'rbot1': rbot1,\n",
        "\t\t\t\t\t\t'gradOutput': gradOutput,\n",
        "\t\t\t\t\t\t'gradFirst': None,\n",
        "\t\t\t\t\t\t'gradSecond': gradSecond\n",
        "\t\t\t\t\t}))(\n",
        "\t\t\t\t\t\tgrid=tuple([ int((n + 512 - 1) / 512), 1, 1 ]),\n",
        "\t\t\t\t\t\tblock=tuple([ 512, 1, 1 ]),\n",
        "\t\t\t\t\t\targs=[ n, intSample, rbot0.data_ptr(), rbot1.data_ptr(), gradOutput.data_ptr(), None, gradSecond.data_ptr() ]\n",
        "\t\t\t\t\t)\n",
        "\t\t\t\t# end\n",
        "\t\t\t# end\n",
        "\n",
        "\t\telif first.is_cuda == False:\n",
        "\t\t\traise NotImplementedError()\n",
        "\n",
        "\t\t# end\n",
        "\n",
        "\t\treturn gradFirst, gradSecond, None\n",
        "\t# end\n",
        "# end\n",
        "\n",
        "def FunctionCorrelation(tenFirst, tenSecond, intStride):\n",
        "\treturn _FunctionCorrelation.apply(tenFirst, tenSecond, intStride)\n",
        "# end\n",
        "\n",
        "class ModuleCorrelation(torch.nn.Module):\n",
        "\tdef __init__(self):\n",
        "\t\tsuper(ModuleCorrelation, self).__init__()\n",
        "\t# end\n",
        "\n",
        "\tdef forward(self, tenFirst, tenSecond, intStride):\n",
        "\t\treturn _FunctionCorrelation.apply(tenFirst, tenSecond, intStride)\n",
        "\t# end\n",
        "# end"
      ],
      "execution_count": null,
      "outputs": []
    },
    {
      "cell_type": "markdown",
      "metadata": {
        "id": "AqvEdCmufIg5"
      },
      "source": [
        "## RUN"
      ]
    },
    {
      "cell_type": "code",
      "metadata": {
        "id": "rIfEiYuPfvGW"
      },
      "source": [
        "# torch.Size([1, 256, 128, 96])\n",
        "# torch.Size([1, 256, 128, 96])\n",
        "\n",
        "x_warp_after = torch.randn([1, 256, 128, 96]).cuda()\n",
        "x_cond = torch.randn([1, 256, 128, 96]).cuda()"
      ],
      "execution_count": null,
      "outputs": []
    },
    {
      "cell_type": "code",
      "metadata": {
        "id": "iaxgV5owf5d-"
      },
      "source": [
        "import torch\n",
        "import torch.nn as nn\n",
        "\n",
        "# compile_with_cache Case\n",
        "class Net(nn.Module):\n",
        "    def __init__(self):\n",
        "        super(Net, self).__init__()\n",
        "\n",
        "    def forward(self, x_warp_after, x_cond):\n",
        "        return FunctionCorrelation(tenFirst=x_warp_after, tenSecond=x_cond, intStride=1)"
      ],
      "execution_count": null,
      "outputs": []
    },
    {
      "cell_type": "code",
      "metadata": {
        "colab": {
          "base_uri": "https://localhost:8080/",
          "height": 552
        },
        "id": "ti3ZBOaggSbO",
        "outputId": "4e6ae088-0722-4e9b-fd8e-663bcc340368"
      },
      "source": [
        "net = Net().cuda()\n",
        "trace_model = torch.jit.trace(net, [x_warp_after, x_cond])"
      ],
      "execution_count": null,
      "outputs": [
        {
          "output_type": "stream",
          "text": [
            "/usr/local/lib/python3.7/dist-packages/ipykernel_launcher.py:293: TracerWarning: Converting a tensor to a Python float might cause the trace to be incorrect. We can't record the data flow of Python values, so this value will be treated as a constant in the future. This means that the trace might not generalize to other inputs!\n",
            "/usr/local/lib/python3.7/dist-packages/torch/tensor.py:590: RuntimeWarning: Iterating over a tensor might cause the trace to be incorrect. Passing a tensor of different shape won't change the number of iterations executed (and might lead to errors or silently give incorrect results).\n",
            "  'incorrect results).', category=RuntimeWarning)\n",
            "/usr/local/lib/python3.7/dist-packages/ipykernel_launcher.py:302: TracerWarning: Converting a tensor to a Python integer might cause the trace to be incorrect. We can't record the data flow of Python values, so this value will be treated as a constant in the future. This means that the trace might not generalize to other inputs!\n",
            "/usr/local/lib/python3.7/dist-packages/ipykernel_launcher.py:304: TracerWarning: Converting a tensor to a Python boolean might cause the trace to be incorrect. We can't record the data flow of Python values, so this value will be treated as a constant in the future. This means that the trace might not generalize to other inputs!\n",
            "/usr/local/lib/python3.7/dist-packages/ipykernel_launcher.py:304: TracerWarning: Converting a tensor to a Python integer might cause the trace to be incorrect. We can't record the data flow of Python values, so this value will be treated as a constant in the future. This means that the trace might not generalize to other inputs!\n"
          ],
          "name": "stderr"
        },
        {
          "output_type": "error",
          "ename": "TypeError",
          "evalue": "ignored",
          "traceback": [
            "\u001b[0;31m---------------------------------------------------------------------------\u001b[0m",
            "\u001b[0;31mTypeError\u001b[0m                                 Traceback (most recent call last)",
            "\u001b[0;32m<ipython-input-22-b92afb3ff62d>\u001b[0m in \u001b[0;36m<module>\u001b[0;34m()\u001b[0m\n\u001b[1;32m      1\u001b[0m \u001b[0mnet\u001b[0m \u001b[0;34m=\u001b[0m \u001b[0mNet\u001b[0m\u001b[0;34m(\u001b[0m\u001b[0;34m)\u001b[0m\u001b[0;34m.\u001b[0m\u001b[0mcuda\u001b[0m\u001b[0;34m(\u001b[0m\u001b[0;34m)\u001b[0m\u001b[0;34m\u001b[0m\u001b[0;34m\u001b[0m\u001b[0m\n\u001b[0;32m----> 2\u001b[0;31m \u001b[0mtrace_model\u001b[0m \u001b[0;34m=\u001b[0m \u001b[0mtorch\u001b[0m\u001b[0;34m.\u001b[0m\u001b[0mjit\u001b[0m\u001b[0;34m.\u001b[0m\u001b[0mtrace\u001b[0m\u001b[0;34m(\u001b[0m\u001b[0mnet\u001b[0m\u001b[0;34m,\u001b[0m \u001b[0;34m[\u001b[0m\u001b[0mx_warp_after\u001b[0m\u001b[0;34m,\u001b[0m \u001b[0mx_cond\u001b[0m\u001b[0;34m]\u001b[0m\u001b[0;34m)\u001b[0m\u001b[0;34m\u001b[0m\u001b[0;34m\u001b[0m\u001b[0m\n\u001b[0m",
            "\u001b[0;32m/usr/local/lib/python3.7/dist-packages/torch/jit/_trace.py\u001b[0m in \u001b[0;36mtrace\u001b[0;34m(func, example_inputs, optimize, check_trace, check_inputs, check_tolerance, strict, _force_outplace, _module_class, _compilation_unit)\u001b[0m\n\u001b[1;32m    740\u001b[0m             \u001b[0mstrict\u001b[0m\u001b[0;34m,\u001b[0m\u001b[0;34m\u001b[0m\u001b[0;34m\u001b[0m\u001b[0m\n\u001b[1;32m    741\u001b[0m             \u001b[0m_force_outplace\u001b[0m\u001b[0;34m,\u001b[0m\u001b[0;34m\u001b[0m\u001b[0;34m\u001b[0m\u001b[0m\n\u001b[0;32m--> 742\u001b[0;31m             \u001b[0m_module_class\u001b[0m\u001b[0;34m,\u001b[0m\u001b[0;34m\u001b[0m\u001b[0;34m\u001b[0m\u001b[0m\n\u001b[0m\u001b[1;32m    743\u001b[0m         )\n\u001b[1;32m    744\u001b[0m \u001b[0;34m\u001b[0m\u001b[0m\n",
            "\u001b[0;32m/usr/local/lib/python3.7/dist-packages/torch/jit/_trace.py\u001b[0m in \u001b[0;36mtrace_module\u001b[0;34m(mod, inputs, optimize, check_trace, check_inputs, check_tolerance, strict, _force_outplace, _module_class, _compilation_unit)\u001b[0m\n\u001b[1;32m    938\u001b[0m                 \u001b[0mvar_lookup_fn\u001b[0m\u001b[0;34m,\u001b[0m\u001b[0;34m\u001b[0m\u001b[0;34m\u001b[0m\u001b[0m\n\u001b[1;32m    939\u001b[0m                 \u001b[0mstrict\u001b[0m\u001b[0;34m,\u001b[0m\u001b[0;34m\u001b[0m\u001b[0;34m\u001b[0m\u001b[0m\n\u001b[0;32m--> 940\u001b[0;31m                 \u001b[0m_force_outplace\u001b[0m\u001b[0;34m,\u001b[0m\u001b[0;34m\u001b[0m\u001b[0;34m\u001b[0m\u001b[0m\n\u001b[0m\u001b[1;32m    941\u001b[0m             )\n\u001b[1;32m    942\u001b[0m             \u001b[0mcheck_trace_method\u001b[0m \u001b[0;34m=\u001b[0m \u001b[0mmodule\u001b[0m\u001b[0;34m.\u001b[0m\u001b[0m_c\u001b[0m\u001b[0;34m.\u001b[0m\u001b[0m_get_method\u001b[0m\u001b[0;34m(\u001b[0m\u001b[0mmethod_name\u001b[0m\u001b[0;34m)\u001b[0m\u001b[0;34m\u001b[0m\u001b[0;34m\u001b[0m\u001b[0m\n",
            "\u001b[0;32m/usr/local/lib/python3.7/dist-packages/torch/nn/modules/module.py\u001b[0m in \u001b[0;36m_call_impl\u001b[0;34m(self, *input, **kwargs)\u001b[0m\n\u001b[1;32m    885\u001b[0m \u001b[0;34m\u001b[0m\u001b[0m\n\u001b[1;32m    886\u001b[0m         \u001b[0;32mif\u001b[0m \u001b[0mtorch\u001b[0m\u001b[0;34m.\u001b[0m\u001b[0m_C\u001b[0m\u001b[0;34m.\u001b[0m\u001b[0m_get_tracing_state\u001b[0m\u001b[0;34m(\u001b[0m\u001b[0;34m)\u001b[0m\u001b[0;34m:\u001b[0m\u001b[0;34m\u001b[0m\u001b[0;34m\u001b[0m\u001b[0m\n\u001b[0;32m--> 887\u001b[0;31m             \u001b[0mresult\u001b[0m \u001b[0;34m=\u001b[0m \u001b[0mself\u001b[0m\u001b[0;34m.\u001b[0m\u001b[0m_slow_forward\u001b[0m\u001b[0;34m(\u001b[0m\u001b[0;34m*\u001b[0m\u001b[0minput\u001b[0m\u001b[0;34m,\u001b[0m \u001b[0;34m**\u001b[0m\u001b[0mkwargs\u001b[0m\u001b[0;34m)\u001b[0m\u001b[0;34m\u001b[0m\u001b[0;34m\u001b[0m\u001b[0m\n\u001b[0m\u001b[1;32m    888\u001b[0m         \u001b[0;32melse\u001b[0m\u001b[0;34m:\u001b[0m\u001b[0;34m\u001b[0m\u001b[0;34m\u001b[0m\u001b[0m\n\u001b[1;32m    889\u001b[0m             \u001b[0mresult\u001b[0m \u001b[0;34m=\u001b[0m \u001b[0mself\u001b[0m\u001b[0;34m.\u001b[0m\u001b[0mforward\u001b[0m\u001b[0;34m(\u001b[0m\u001b[0;34m*\u001b[0m\u001b[0minput\u001b[0m\u001b[0;34m,\u001b[0m \u001b[0;34m**\u001b[0m\u001b[0mkwargs\u001b[0m\u001b[0;34m)\u001b[0m\u001b[0;34m\u001b[0m\u001b[0;34m\u001b[0m\u001b[0m\n",
            "\u001b[0;32m/usr/local/lib/python3.7/dist-packages/torch/nn/modules/module.py\u001b[0m in \u001b[0;36m_slow_forward\u001b[0;34m(self, *input, **kwargs)\u001b[0m\n\u001b[1;32m    858\u001b[0m                 \u001b[0mrecording_scopes\u001b[0m \u001b[0;34m=\u001b[0m \u001b[0;32mFalse\u001b[0m\u001b[0;34m\u001b[0m\u001b[0;34m\u001b[0m\u001b[0m\n\u001b[1;32m    859\u001b[0m         \u001b[0;32mtry\u001b[0m\u001b[0;34m:\u001b[0m\u001b[0;34m\u001b[0m\u001b[0;34m\u001b[0m\u001b[0m\n\u001b[0;32m--> 860\u001b[0;31m             \u001b[0mresult\u001b[0m \u001b[0;34m=\u001b[0m \u001b[0mself\u001b[0m\u001b[0;34m.\u001b[0m\u001b[0mforward\u001b[0m\u001b[0;34m(\u001b[0m\u001b[0;34m*\u001b[0m\u001b[0minput\u001b[0m\u001b[0;34m,\u001b[0m \u001b[0;34m**\u001b[0m\u001b[0mkwargs\u001b[0m\u001b[0;34m)\u001b[0m\u001b[0;34m\u001b[0m\u001b[0;34m\u001b[0m\u001b[0m\n\u001b[0m\u001b[1;32m    861\u001b[0m         \u001b[0;32mfinally\u001b[0m\u001b[0;34m:\u001b[0m\u001b[0;34m\u001b[0m\u001b[0;34m\u001b[0m\u001b[0m\n\u001b[1;32m    862\u001b[0m             \u001b[0;32mif\u001b[0m \u001b[0mrecording_scopes\u001b[0m\u001b[0;34m:\u001b[0m\u001b[0;34m\u001b[0m\u001b[0;34m\u001b[0m\u001b[0m\n",
            "\u001b[0;32m<ipython-input-21-5026bd4d6b72>\u001b[0m in \u001b[0;36mforward\u001b[0;34m(self, x_warp_after, x_cond)\u001b[0m\n\u001b[1;32m      8\u001b[0m \u001b[0;34m\u001b[0m\u001b[0m\n\u001b[1;32m      9\u001b[0m     \u001b[0;32mdef\u001b[0m \u001b[0mforward\u001b[0m\u001b[0;34m(\u001b[0m\u001b[0mself\u001b[0m\u001b[0;34m,\u001b[0m \u001b[0mx_warp_after\u001b[0m\u001b[0;34m,\u001b[0m \u001b[0mx_cond\u001b[0m\u001b[0;34m)\u001b[0m\u001b[0;34m:\u001b[0m\u001b[0;34m\u001b[0m\u001b[0;34m\u001b[0m\u001b[0m\n\u001b[0;32m---> 10\u001b[0;31m         \u001b[0;32mreturn\u001b[0m \u001b[0mFunctionCorrelation\u001b[0m\u001b[0;34m(\u001b[0m\u001b[0mtenFirst\u001b[0m\u001b[0;34m=\u001b[0m\u001b[0mx_warp_after\u001b[0m\u001b[0;34m,\u001b[0m \u001b[0mtenSecond\u001b[0m\u001b[0;34m=\u001b[0m\u001b[0mx_cond\u001b[0m\u001b[0;34m,\u001b[0m \u001b[0mintStride\u001b[0m\u001b[0;34m=\u001b[0m\u001b[0;36m1\u001b[0m\u001b[0;34m)\u001b[0m\u001b[0;34m\u001b[0m\u001b[0;34m\u001b[0m\u001b[0m\n\u001b[0m",
            "\u001b[0;32m<ipython-input-18-4e8ea44a0d68>\u001b[0m in \u001b[0;36mFunctionCorrelation\u001b[0;34m(tenFirst, tenSecond, intStride)\u001b[0m\n\u001b[1;32m    393\u001b[0m \u001b[0;34m\u001b[0m\u001b[0m\n\u001b[1;32m    394\u001b[0m \u001b[0;32mdef\u001b[0m \u001b[0mFunctionCorrelation\u001b[0m\u001b[0;34m(\u001b[0m\u001b[0mtenFirst\u001b[0m\u001b[0;34m,\u001b[0m \u001b[0mtenSecond\u001b[0m\u001b[0;34m,\u001b[0m \u001b[0mintStride\u001b[0m\u001b[0;34m)\u001b[0m\u001b[0;34m:\u001b[0m\u001b[0;34m\u001b[0m\u001b[0;34m\u001b[0m\u001b[0m\n\u001b[0;32m--> 395\u001b[0;31m         \u001b[0;32mreturn\u001b[0m \u001b[0m_FunctionCorrelation\u001b[0m\u001b[0;34m.\u001b[0m\u001b[0mapply\u001b[0m\u001b[0;34m(\u001b[0m\u001b[0mtenFirst\u001b[0m\u001b[0;34m,\u001b[0m \u001b[0mtenSecond\u001b[0m\u001b[0;34m,\u001b[0m \u001b[0mintStride\u001b[0m\u001b[0;34m)\u001b[0m\u001b[0;34m\u001b[0m\u001b[0;34m\u001b[0m\u001b[0m\n\u001b[0m\u001b[1;32m    396\u001b[0m \u001b[0;31m# end\u001b[0m\u001b[0;34m\u001b[0m\u001b[0;34m\u001b[0m\u001b[0;34m\u001b[0m\u001b[0m\n\u001b[1;32m    397\u001b[0m \u001b[0;34m\u001b[0m\u001b[0m\n",
            "\u001b[0;32m<ipython-input-18-4e8ea44a0d68>\u001b[0m in \u001b[0;36mforward\u001b[0;34m(self, first, second, intStride)\u001b[0m\n\u001b[1;32m    302\u001b[0m                                 \u001b[0mgrid\u001b[0m\u001b[0;34m=\u001b[0m\u001b[0mtuple\u001b[0m\u001b[0;34m(\u001b[0m\u001b[0;34m[\u001b[0m \u001b[0mint\u001b[0m\u001b[0;34m(\u001b[0m\u001b[0;34m(\u001b[0m\u001b[0mn\u001b[0m \u001b[0;34m+\u001b[0m \u001b[0;36m16\u001b[0m \u001b[0;34m-\u001b[0m \u001b[0;36m1\u001b[0m\u001b[0;34m)\u001b[0m \u001b[0;34m/\u001b[0m \u001b[0;36m16\u001b[0m\u001b[0;34m)\u001b[0m\u001b[0;34m,\u001b[0m \u001b[0mfirst\u001b[0m\u001b[0;34m.\u001b[0m\u001b[0mshape\u001b[0m\u001b[0;34m[\u001b[0m\u001b[0;36m1\u001b[0m\u001b[0;34m]\u001b[0m\u001b[0;34m,\u001b[0m \u001b[0mfirst\u001b[0m\u001b[0;34m.\u001b[0m\u001b[0mshape\u001b[0m\u001b[0;34m[\u001b[0m\u001b[0;36m0\u001b[0m\u001b[0;34m]\u001b[0m \u001b[0;34m]\u001b[0m\u001b[0;34m)\u001b[0m\u001b[0;34m,\u001b[0m\u001b[0;34m\u001b[0m\u001b[0;34m\u001b[0m\u001b[0m\n\u001b[1;32m    303\u001b[0m                                 \u001b[0mblock\u001b[0m\u001b[0;34m=\u001b[0m\u001b[0mtuple\u001b[0m\u001b[0;34m(\u001b[0m\u001b[0;34m[\u001b[0m \u001b[0;36m16\u001b[0m\u001b[0;34m,\u001b[0m \u001b[0;36m1\u001b[0m\u001b[0;34m,\u001b[0m \u001b[0;36m1\u001b[0m \u001b[0;34m]\u001b[0m\u001b[0;34m)\u001b[0m\u001b[0;34m,\u001b[0m\u001b[0;34m\u001b[0m\u001b[0;34m\u001b[0m\u001b[0m\n\u001b[0;32m--> 304\u001b[0;31m                                 \u001b[0margs\u001b[0m\u001b[0;34m=\u001b[0m\u001b[0;34m[\u001b[0m \u001b[0mn\u001b[0m\u001b[0;34m,\u001b[0m \u001b[0mfirst\u001b[0m\u001b[0;34m.\u001b[0m\u001b[0mdata_ptr\u001b[0m\u001b[0;34m(\u001b[0m\u001b[0;34m)\u001b[0m\u001b[0;34m,\u001b[0m \u001b[0mrbot0\u001b[0m\u001b[0;34m.\u001b[0m\u001b[0mdata_ptr\u001b[0m\u001b[0;34m(\u001b[0m\u001b[0;34m)\u001b[0m \u001b[0;34m]\u001b[0m\u001b[0;34m\u001b[0m\u001b[0;34m\u001b[0m\u001b[0m\n\u001b[0m\u001b[1;32m    305\u001b[0m \t\t\t)\n\u001b[1;32m    306\u001b[0m \u001b[0;34m\u001b[0m\u001b[0m\n",
            "\u001b[0;32mcupy/cuda/function.pyx\u001b[0m in \u001b[0;36mcupy.cuda.function.Function.__call__\u001b[0;34m()\u001b[0m\n",
            "\u001b[0;32mcupy/cuda/function.pyx\u001b[0m in \u001b[0;36mcupy.cuda.function._launch\u001b[0;34m()\u001b[0m\n",
            "\u001b[0;32mcupy/cuda/function.pyx\u001b[0m in \u001b[0;36mcupy.cuda.function._pointer\u001b[0;34m()\u001b[0m\n",
            "\u001b[0;31mTypeError\u001b[0m: Unsupported type <class 'torch.Tensor'>"
          ]
        }
      ]
    },
    {
      "cell_type": "markdown",
      "metadata": {
        "id": "fVWxA82fJKjr"
      },
      "source": [
        "# Pytorch-Correlation-extension"
      ]
    },
    {
      "cell_type": "code",
      "metadata": {
        "id": "pMD-0wP5JQRH"
      },
      "source": [
        "!cp -r /usr/local/cuda-10.1/include/* /usr/include/"
      ],
      "execution_count": null,
      "outputs": []
    },
    {
      "cell_type": "code",
      "metadata": {
        "colab": {
          "base_uri": "https://localhost:8080/"
        },
        "id": "7sANkM1TJRl0",
        "outputId": "107ae213-4722-42ce-99b7-3294e88a5da6"
      },
      "source": [
        "!pip install git+https://github.com/tommy19970714/Pytorch-Correlation-extension.git"
      ],
      "execution_count": null,
      "outputs": [
        {
          "output_type": "stream",
          "text": [
            "Collecting git+https://github.com/tommy19970714/Pytorch-Correlation-extension.git\n",
            "  Cloning https://github.com/tommy19970714/Pytorch-Correlation-extension.git to /tmp/pip-req-build-eoj6z_84\n",
            "  Running command git clone -q https://github.com/tommy19970714/Pytorch-Correlation-extension.git /tmp/pip-req-build-eoj6z_84\n",
            "Requirement already satisfied: torch>=1.1 in /usr/local/lib/python3.7/dist-packages (from spatial-correlation-sampler==0.3.0) (1.9.0+cu102)\n",
            "Requirement already satisfied: numpy in /usr/local/lib/python3.7/dist-packages (from spatial-correlation-sampler==0.3.0) (1.19.5)\n",
            "Requirement already satisfied: typing-extensions in /usr/local/lib/python3.7/dist-packages (from torch>=1.1->spatial-correlation-sampler==0.3.0) (3.7.4.3)\n",
            "Building wheels for collected packages: spatial-correlation-sampler\n",
            "  Building wheel for spatial-correlation-sampler (setup.py) ... \u001b[?25l\u001b[?25hdone\n",
            "  Created wheel for spatial-correlation-sampler: filename=spatial_correlation_sampler-0.3.0-cp37-cp37m-linux_x86_64.whl size=3004136 sha256=338ba99ba8aaa6b2bfec5952973542dbc462727e3d888bb31f38bd45c66bbb54\n",
            "  Stored in directory: /tmp/pip-ephem-wheel-cache-ukcb5_1b/wheels/aa/5e/80/0869a9f9f9f8888056edb7cbad8494f8f6928eda887ddb0d98\n",
            "Successfully built spatial-correlation-sampler\n",
            "Installing collected packages: spatial-correlation-sampler\n",
            "Successfully installed spatial-correlation-sampler-0.3.0\n"
          ],
          "name": "stdout"
        }
      ]
    },
    {
      "cell_type": "code",
      "metadata": {
        "id": "M9PwIJtOJTLk"
      },
      "source": [
        "import torch\n",
        "from spatial_correlation_sampler import SpatialCorrelationSampler"
      ],
      "execution_count": null,
      "outputs": []
    },
    {
      "cell_type": "code",
      "metadata": {
        "id": "ovzyVvBHJXAv"
      },
      "source": [
        "import torch.nn.functional as F\n",
        "def correlate(input1, input2):\n",
        "    correlation_sampler = SpatialCorrelationSampler(\n",
        "                                          kernel_size=1,\n",
        "                                          patch_size=7,\n",
        "                                          stride=1,\n",
        "                                          padding=0,\n",
        "                                          dilation_patch=2)\n",
        "    out_corr = correlation_sampler(input1, input2)\n",
        "    # collate dimensions 1 and 2 in order to be treated as a\n",
        "    # regular 4D tensor\n",
        "    b, ph, pw, h, w = out_corr.size()\n",
        "    out_corr = out_corr.view(b, ph * pw, h, w)/input1.size(1)\n",
        "    return F.leaky_relu_(out_corr, 0.1)"
      ],
      "execution_count": null,
      "outputs": []
    },
    {
      "cell_type": "markdown",
      "metadata": {
        "id": "HqCEekL-JCW_"
      },
      "source": [
        "# 一致判定"
      ]
    },
    {
      "cell_type": "code",
      "metadata": {
        "id": "CdeqwB8FzJCv"
      },
      "source": [
        "device = \"cpu\"\n",
        "batch_size = 1\n",
        "channel = 1\n",
        "H = 10\n",
        "W = 10\n",
        "dtype = torch.float32\n",
        "\n",
        "input1 = torch.randint(1, 4, (batch_size, channel, H, W), dtype=dtype, device=device, requires_grad=True)\n",
        "input2 = torch.randint_like(input1, 1, 4).requires_grad_(True)"
      ],
      "execution_count": null,
      "outputs": []
    },
    {
      "cell_type": "code",
      "metadata": {
        "id": "eXvP1yQKJZQz"
      },
      "source": [
        "outA = correlate(input1, input2)"
      ],
      "execution_count": null,
      "outputs": []
    },
    {
      "cell_type": "code",
      "metadata": {
        "id": "gp_qorxcC79H"
      },
      "source": [
        "import torch.nn.functional as F\n",
        "# input1_cuda = input1.cuda()\n",
        "# input2_cuda = input2.cuda()\n",
        "outB = F.leaky_relu(input=FunctionCorrelation(tenFirst=input1_cuda, tenSecond=input2_cuda, intStride=1), negative_slope=0.1, inplace=False)"
      ],
      "execution_count": null,
      "outputs": []
    },
    {
      "cell_type": "code",
      "metadata": {
        "colab": {
          "base_uri": "https://localhost:8080/"
        },
        "id": "yUaBn20BKTaU",
        "outputId": "6269ee15-4274-45ea-b4c0-88823882a744"
      },
      "source": [
        "outA"
      ],
      "execution_count": null,
      "outputs": [
        {
          "output_type": "execute_result",
          "data": {
            "text/plain": [
              "tensor([[[[0., 0., 0.,  ..., 0., 0., 0.],\n",
              "          [0., 0., 0.,  ..., 0., 0., 0.],\n",
              "          [0., 0., 0.,  ..., 0., 0., 0.],\n",
              "          ...,\n",
              "          [0., 0., 0.,  ..., 3., 6., 3.],\n",
              "          [0., 0., 0.,  ..., 3., 3., 1.],\n",
              "          [0., 0., 0.,  ..., 2., 2., 2.]],\n",
              "\n",
              "         [[0., 0., 0.,  ..., 0., 0., 0.],\n",
              "          [0., 0., 0.,  ..., 0., 0., 0.],\n",
              "          [0., 0., 0.,  ..., 0., 0., 0.],\n",
              "          ...,\n",
              "          [0., 0., 0.,  ..., 1., 3., 3.],\n",
              "          [0., 0., 0.,  ..., 1., 3., 3.],\n",
              "          [0., 0., 0.,  ..., 2., 6., 3.]],\n",
              "\n",
              "         [[0., 0., 0.,  ..., 0., 0., 0.],\n",
              "          [0., 0., 0.,  ..., 0., 0., 0.],\n",
              "          [0., 0., 0.,  ..., 0., 0., 0.],\n",
              "          ...,\n",
              "          [0., 0., 2.,  ..., 1., 3., 3.],\n",
              "          [0., 0., 3.,  ..., 3., 3., 3.],\n",
              "          [0., 0., 2.,  ..., 3., 4., 1.]],\n",
              "\n",
              "         ...,\n",
              "\n",
              "         [[3., 2., 6.,  ..., 3., 0., 0.],\n",
              "          [3., 1., 2.,  ..., 6., 0., 0.],\n",
              "          [4., 3., 6.,  ..., 6., 0., 0.],\n",
              "          ...,\n",
              "          [0., 0., 0.,  ..., 0., 0., 0.],\n",
              "          [0., 0., 0.,  ..., 0., 0., 0.],\n",
              "          [0., 0., 0.,  ..., 0., 0., 0.]],\n",
              "\n",
              "         [[3., 3., 2.,  ..., 0., 0., 0.],\n",
              "          [3., 2., 6.,  ..., 0., 0., 0.],\n",
              "          [6., 3., 4.,  ..., 0., 0., 0.],\n",
              "          ...,\n",
              "          [0., 0., 0.,  ..., 0., 0., 0.],\n",
              "          [0., 0., 0.,  ..., 0., 0., 0.],\n",
              "          [0., 0., 0.,  ..., 0., 0., 0.]],\n",
              "\n",
              "         [[1., 2., 4.,  ..., 0., 0., 0.],\n",
              "          [9., 2., 4.,  ..., 0., 0., 0.],\n",
              "          [4., 3., 6.,  ..., 0., 0., 0.],\n",
              "          ...,\n",
              "          [0., 0., 0.,  ..., 0., 0., 0.],\n",
              "          [0., 0., 0.,  ..., 0., 0., 0.],\n",
              "          [0., 0., 0.,  ..., 0., 0., 0.]]]], grad_fn=<LeakyReluBackward1>)"
            ]
          },
          "metadata": {
            "tags": []
          },
          "execution_count": 23
        }
      ]
    },
    {
      "cell_type": "code",
      "metadata": {
        "colab": {
          "base_uri": "https://localhost:8080/"
        },
        "id": "tQiH4EiUK5Io",
        "outputId": "3b312419-6286-44a9-9bcc-7cca0f2e3871"
      },
      "source": [
        "outB"
      ],
      "execution_count": null,
      "outputs": [
        {
          "output_type": "execute_result",
          "data": {
            "text/plain": [
              "tensor([[[[0., 0., 0.,  ..., 0., 0., 0.],\n",
              "          [0., 0., 0.,  ..., 0., 0., 0.],\n",
              "          [0., 0., 0.,  ..., 0., 0., 0.],\n",
              "          ...,\n",
              "          [0., 0., 0.,  ..., 3., 3., 3.],\n",
              "          [0., 0., 0.,  ..., 1., 1., 2.],\n",
              "          [0., 0., 0.,  ..., 3., 6., 1.]],\n",
              "\n",
              "         [[0., 0., 0.,  ..., 0., 0., 0.],\n",
              "          [0., 0., 0.,  ..., 0., 0., 0.],\n",
              "          [0., 0., 0.,  ..., 0., 0., 0.],\n",
              "          ...,\n",
              "          [0., 0., 6.,  ..., 1., 3., 6.],\n",
              "          [0., 0., 3.,  ..., 1., 2., 3.],\n",
              "          [0., 0., 2.,  ..., 3., 2., 2.]],\n",
              "\n",
              "         [[0., 0., 0.,  ..., 0., 0., 0.],\n",
              "          [0., 0., 0.,  ..., 0., 0., 0.],\n",
              "          [0., 0., 0.,  ..., 0., 0., 0.],\n",
              "          ...,\n",
              "          [0., 9., 2.,  ..., 1., 6., 3.],\n",
              "          [0., 1., 3.,  ..., 2., 3., 2.],\n",
              "          [0., 6., 2.,  ..., 1., 4., 2.]],\n",
              "\n",
              "         ...,\n",
              "\n",
              "         [[2., 1., 4.,  ..., 3., 3., 0.],\n",
              "          [3., 1., 2.,  ..., 2., 9., 0.],\n",
              "          [2., 9., 6.,  ..., 4., 2., 0.],\n",
              "          ...,\n",
              "          [0., 0., 0.,  ..., 0., 0., 0.],\n",
              "          [0., 0., 0.,  ..., 0., 0., 0.],\n",
              "          [0., 0., 0.,  ..., 0., 0., 0.]],\n",
              "\n",
              "         [[1., 2., 6.,  ..., 1., 0., 0.],\n",
              "          [3., 1., 6.,  ..., 6., 0., 0.],\n",
              "          [6., 9., 2.,  ..., 4., 0., 0.],\n",
              "          ...,\n",
              "          [0., 0., 0.,  ..., 0., 0., 0.],\n",
              "          [0., 0., 0.,  ..., 0., 0., 0.],\n",
              "          [0., 0., 0.,  ..., 0., 0., 0.]],\n",
              "\n",
              "         [[2., 3., 6.,  ..., 0., 0., 0.],\n",
              "          [3., 3., 2.,  ..., 0., 0., 0.],\n",
              "          [6., 3., 2.,  ..., 0., 0., 0.],\n",
              "          ...,\n",
              "          [0., 0., 0.,  ..., 0., 0., 0.],\n",
              "          [0., 0., 0.,  ..., 0., 0., 0.],\n",
              "          [0., 0., 0.,  ..., 0., 0., 0.]]]], device='cuda:0',\n",
              "       grad_fn=<LeakyReluBackward0>)"
            ]
          },
          "metadata": {
            "tags": []
          },
          "execution_count": 32
        }
      ]
    },
    {
      "cell_type": "code",
      "metadata": {
        "id": "UtYasu8tgZ1A",
        "colab": {
          "base_uri": "https://localhost:8080/"
        },
        "outputId": "e9abb68b-576f-40a5-8383-55944a97271b"
      },
      "source": [
        "(outA.cuda() - outB) < 1"
      ],
      "execution_count": null,
      "outputs": [
        {
          "output_type": "execute_result",
          "data": {
            "text/plain": [
              "tensor([[[[ True,  True,  True,  ...,  True,  True,  True],\n",
              "          [ True,  True,  True,  ...,  True,  True,  True],\n",
              "          [ True,  True,  True,  ...,  True,  True,  True],\n",
              "          ...,\n",
              "          [ True,  True,  True,  ...,  True, False,  True],\n",
              "          [ True,  True,  True,  ..., False, False,  True],\n",
              "          [ True,  True,  True,  ...,  True,  True, False]],\n",
              "\n",
              "         [[ True,  True,  True,  ...,  True,  True,  True],\n",
              "          [ True,  True,  True,  ...,  True,  True,  True],\n",
              "          [ True,  True,  True,  ...,  True,  True,  True],\n",
              "          ...,\n",
              "          [ True,  True,  True,  ...,  True,  True,  True],\n",
              "          [ True,  True,  True,  ...,  True, False,  True],\n",
              "          [ True,  True,  True,  ...,  True, False, False]],\n",
              "\n",
              "         [[ True,  True,  True,  ...,  True,  True,  True],\n",
              "          [ True,  True,  True,  ...,  True,  True,  True],\n",
              "          [ True,  True,  True,  ...,  True,  True,  True],\n",
              "          ...,\n",
              "          [ True,  True,  True,  ...,  True,  True,  True],\n",
              "          [ True,  True,  True,  ..., False,  True, False],\n",
              "          [ True,  True,  True,  ..., False,  True,  True]],\n",
              "\n",
              "         ...,\n",
              "\n",
              "         [[False, False, False,  ...,  True,  True,  True],\n",
              "          [ True,  True,  True,  ..., False,  True,  True],\n",
              "          [False,  True,  True,  ..., False,  True,  True],\n",
              "          ...,\n",
              "          [ True,  True,  True,  ...,  True,  True,  True],\n",
              "          [ True,  True,  True,  ...,  True,  True,  True],\n",
              "          [ True,  True,  True,  ...,  True,  True,  True]],\n",
              "\n",
              "         [[False, False,  True,  ...,  True,  True,  True],\n",
              "          [ True, False,  True,  ...,  True,  True,  True],\n",
              "          [ True,  True, False,  ...,  True,  True,  True],\n",
              "          ...,\n",
              "          [ True,  True,  True,  ...,  True,  True,  True],\n",
              "          [ True,  True,  True,  ...,  True,  True,  True],\n",
              "          [ True,  True,  True,  ...,  True,  True,  True]],\n",
              "\n",
              "         [[ True,  True,  True,  ...,  True,  True,  True],\n",
              "          [False,  True, False,  ...,  True,  True,  True],\n",
              "          [ True,  True, False,  ...,  True,  True,  True],\n",
              "          ...,\n",
              "          [ True,  True,  True,  ...,  True,  True,  True],\n",
              "          [ True,  True,  True,  ...,  True,  True,  True],\n",
              "          [ True,  True,  True,  ...,  True,  True,  True]]]], device='cuda:0')"
            ]
          },
          "metadata": {
            "tags": []
          },
          "execution_count": 30
        }
      ]
    },
    {
      "cell_type": "code",
      "metadata": {
        "colab": {
          "base_uri": "https://localhost:8080/"
        },
        "id": "dl8iBmwlJ2Ri",
        "outputId": "a5c1f255-6b6a-4d94-919c-db26499d8fc8"
      },
      "source": [
        "outA.cuda() == outB"
      ],
      "execution_count": null,
      "outputs": [
        {
          "output_type": "execute_result",
          "data": {
            "text/plain": [
              "tensor([[[[ True,  True,  True,  ...,  True,  True,  True],\n",
              "          [ True,  True,  True,  ...,  True,  True,  True],\n",
              "          [ True,  True,  True,  ...,  True,  True,  True],\n",
              "          ...,\n",
              "          [ True,  True,  True,  ...,  True, False,  True],\n",
              "          [ True,  True,  True,  ..., False, False, False],\n",
              "          [ True,  True,  True,  ..., False, False, False]],\n",
              "\n",
              "         [[ True,  True,  True,  ...,  True,  True,  True],\n",
              "          [ True,  True,  True,  ...,  True,  True,  True],\n",
              "          [ True,  True,  True,  ...,  True,  True,  True],\n",
              "          ...,\n",
              "          [ True,  True, False,  ...,  True,  True, False],\n",
              "          [ True,  True, False,  ...,  True, False,  True],\n",
              "          [ True,  True, False,  ..., False, False, False]],\n",
              "\n",
              "         [[ True,  True,  True,  ...,  True,  True,  True],\n",
              "          [ True,  True,  True,  ...,  True,  True,  True],\n",
              "          [ True,  True,  True,  ...,  True,  True,  True],\n",
              "          ...,\n",
              "          [ True, False,  True,  ...,  True, False,  True],\n",
              "          [ True, False,  True,  ..., False,  True, False],\n",
              "          [ True, False,  True,  ..., False,  True, False]],\n",
              "\n",
              "         ...,\n",
              "\n",
              "         [[False, False, False,  ...,  True, False,  True],\n",
              "          [ True,  True,  True,  ..., False, False,  True],\n",
              "          [False, False,  True,  ..., False, False,  True],\n",
              "          ...,\n",
              "          [ True,  True,  True,  ...,  True,  True,  True],\n",
              "          [ True,  True,  True,  ...,  True,  True,  True],\n",
              "          [ True,  True,  True,  ...,  True,  True,  True]],\n",
              "\n",
              "         [[False, False, False,  ..., False,  True,  True],\n",
              "          [ True, False,  True,  ..., False,  True,  True],\n",
              "          [ True, False, False,  ..., False,  True,  True],\n",
              "          ...,\n",
              "          [ True,  True,  True,  ...,  True,  True,  True],\n",
              "          [ True,  True,  True,  ...,  True,  True,  True],\n",
              "          [ True,  True,  True,  ...,  True,  True,  True]],\n",
              "\n",
              "         [[False, False, False,  ...,  True,  True,  True],\n",
              "          [False, False, False,  ...,  True,  True,  True],\n",
              "          [False,  True, False,  ...,  True,  True,  True],\n",
              "          ...,\n",
              "          [ True,  True,  True,  ...,  True,  True,  True],\n",
              "          [ True,  True,  True,  ...,  True,  True,  True],\n",
              "          [ True,  True,  True,  ...,  True,  True,  True]]]], device='cuda:0')"
            ]
          },
          "metadata": {
            "tags": []
          },
          "execution_count": 31
        }
      ]
    },
    {
      "cell_type": "code",
      "metadata": {
        "id": "UZyjSwouJ9ON"
      },
      "source": [
        ""
      ],
      "execution_count": null,
      "outputs": []
    }
  ]
}