{
  "nbformat": 4,
  "nbformat_minor": 0,
  "metadata": {
    "colab": {
      "name": "correlation.ipynb",
      "provenance": [],
      "collapsed_sections": []
    },
    "kernelspec": {
      "name": "python3",
      "display_name": "Python 3"
    },
    "language_info": {
      "name": "python"
    }
  },
  "cells": [
    {
      "cell_type": "code",
      "metadata": {
        "id": "Wj0xl53nqJMM"
      },
      "source": [
        "!cp -r /usr/local/cuda-10.1/include/* /usr/include/"
      ],
      "execution_count": null,
      "outputs": []
    },
    {
      "cell_type": "code",
      "metadata": {
        "colab": {
          "base_uri": "https://localhost:8080/"
        },
        "id": "3KCuejR5u4G3",
        "outputId": "ff2751d6-c0da-4ba5-9bde-d2af9c2796b7"
      },
      "source": [
        "!pip install git+https://github.com/tommy19970714/Pytorch-Correlation-extension.git@support-operator"
      ],
      "execution_count": null,
      "outputs": [
        {
          "output_type": "stream",
          "text": [
            "Collecting git+https://github.com/tommy19970714/Pytorch-Correlation-extension.git@support-operator\n",
            "  Cloning https://github.com/tommy19970714/Pytorch-Correlation-extension.git (to revision support-operator) to /tmp/pip-req-build-c3n1ccel\n",
            "  Running command git clone -q https://github.com/tommy19970714/Pytorch-Correlation-extension.git /tmp/pip-req-build-c3n1ccel\n",
            "  Running command git checkout -b support-operator --track origin/support-operator\n",
            "  Switched to a new branch 'support-operator'\n",
            "  Branch 'support-operator' set up to track remote branch 'support-operator' from 'origin'.\n",
            "Requirement already satisfied: torch>=1.1 in /usr/local/lib/python3.7/dist-packages (from spatial-correlation-sampler==0.3.0) (1.9.0+cu102)\n",
            "Requirement already satisfied: numpy in /usr/local/lib/python3.7/dist-packages (from spatial-correlation-sampler==0.3.0) (1.19.5)\n",
            "Requirement already satisfied: typing-extensions in /usr/local/lib/python3.7/dist-packages (from torch>=1.1->spatial-correlation-sampler==0.3.0) (3.7.4.3)\n",
            "Building wheels for collected packages: spatial-correlation-sampler\n",
            "  Building wheel for spatial-correlation-sampler (setup.py) ... \u001b[?25l\u001b[?25hdone\n",
            "  Created wheel for spatial-correlation-sampler: filename=spatial_correlation_sampler-0.3.0-cp37-cp37m-linux_x86_64.whl size=3173003 sha256=9a9f71907662f123152dbbf8590fba34768980c0c5ead6509b40bfe11b9f4413\n",
            "  Stored in directory: /tmp/pip-ephem-wheel-cache-3gzyjinr/wheels/84/c1/c0/397e3ede95a8df8bf8ff91328fa257d0013eb28d69337c0441\n",
            "Successfully built spatial-correlation-sampler\n",
            "Installing collected packages: spatial-correlation-sampler\n",
            "Successfully installed spatial-correlation-sampler-0.3.0\n"
          ],
          "name": "stdout"
        }
      ]
    },
    {
      "cell_type": "markdown",
      "metadata": {
        "id": "DTFAk_M3JK_r"
      },
      "source": [
        "# Operator version"
      ]
    },
    {
      "cell_type": "code",
      "metadata": {
        "id": "lTUa02KUJPaA"
      },
      "source": [
        "import torch\n",
        "torch.ops.load_library(\"/usr/local/lib/python3.7/dist-packages/spatial_correlation_sampler_backend.cpython-37m-x86_64-linux-gnu.so\")"
      ],
      "execution_count": null,
      "outputs": []
    },
    {
      "cell_type": "code",
      "metadata": {
        "colab": {
          "base_uri": "https://localhost:8080/"
        },
        "id": "zE7hLksAJS5s",
        "outputId": "69799912-a4e8-4dd5-8183-aec6e7f78ffc"
      },
      "source": [
        "print(torch.ops.my_ops.forward)\n",
        "print(torch.ops.my_ops.backward)"
      ],
      "execution_count": null,
      "outputs": [
        {
          "output_type": "stream",
          "text": [
            "<built-in method forward of PyCapsule object at 0x7f08c5ce8db0>\n",
            "<built-in method backward of PyCapsule object at 0x7f08c5990780>\n"
          ],
          "name": "stdout"
        }
      ]
    },
    {
      "cell_type": "code",
      "metadata": {
        "id": "rRWO3NIfKuy3"
      },
      "source": [
        "from torch.autograd import Function\n",
        "import torch.nn as nn\n",
        "class SpatialCorrelationSamplerFunction():\n",
        "\n",
        "    @torch.jit.script\n",
        "    def forward(input1, input2):\n",
        "\n",
        "        kH, kW, patchH, patchW, padH, padW, dilationH, dilationW, dilation_patchH, dilation_patchW, dH, dW = 1, 1, 7, 7, 0, 0, 1, 1, 2, 2, 1, 1\n",
        "\n",
        "        output = torch.ops.my_ops.forward(input1, input2,\n",
        "                                     kH, kW, patchH, patchW,\n",
        "                                     padH, padW, dilationH, dilationW,\n",
        "                                     dilation_patchH, dilation_patchW,\n",
        "                                     dH, dW)\n",
        "        return output"
      ],
      "execution_count": null,
      "outputs": []
    },
    {
      "cell_type": "code",
      "metadata": {
        "id": "Fw-9K6lKOfDU"
      },
      "source": [
        "def spatial_correlation_sample(input1,\n",
        "                               input2,\n",
        "                               kernel_size=1,\n",
        "                               patch_size=1,\n",
        "                               stride=1,\n",
        "                               padding=0,\n",
        "                               dilation=1,\n",
        "                               dilation_patch=1):\n",
        "    return SpatialCorrelationSamplerFunction.apply(input1, input2,\n",
        "                                                   kernel_size, patch_size,\n",
        "                                                   stride, padding, dilation, dilation_patch)"
      ],
      "execution_count": null,
      "outputs": []
    },
    {
      "cell_type": "code",
      "metadata": {
        "id": "b-pArUTfJW27"
      },
      "source": [
        "import torch\n",
        "import torch.nn as nn\n",
        "\n",
        "@torch.jit.script\n",
        "def compute(self, input1, input2):\n",
        "    return torch.ops.my_ops.forward(input1, input2, 3, 3, 1, 1, 0, 0, 2, 2, 1, 1, 2, 2)"
      ],
      "execution_count": null,
      "outputs": []
    },
    {
      "cell_type": "code",
      "metadata": {
        "id": "NxRl8SL-Q9X-"
      },
      "source": [
        "compute.save(\"example.pt\")"
      ],
      "execution_count": null,
      "outputs": []
    },
    {
      "cell_type": "markdown",
      "metadata": {
        "id": "OAafe-shQQa2"
      },
      "source": [
        "# TEST"
      ]
    },
    {
      "cell_type": "code",
      "metadata": {
        "id": "M7y0EtopQSG9"
      },
      "source": [
        "import spatial_correlation_sampler_backend as correlation\n",
        "\n",
        "def spatial_correlation_sample(input1,\n",
        "                               input2,\n",
        "                               kernel_size=1,\n",
        "                               patch_size=1,\n",
        "                               stride=1,\n",
        "                               padding=0,\n",
        "                               dilation=1,\n",
        "                               dilation_patch=1):\n",
        "    return SpatialCorrelationSamplerFunction.apply(input1, input2,\n",
        "                                                   kernel_size, patch_size,\n",
        "                                                   stride, padding, dilation, dilation_patch)\n",
        "\n",
        "class SpatialCorrelationSamplerFunction(Function):\n",
        "\n",
        "    @staticmethod\n",
        "    def forward(ctx,\n",
        "                input1,\n",
        "                input2,\n",
        "                kernel_size=1,\n",
        "                patch_size=1,\n",
        "                stride=1,\n",
        "                padding=0,\n",
        "                dilation=1,\n",
        "                dilation_patch=1):\n",
        "\n",
        "        ctx.save_for_backward(input1, input2)\n",
        "        kH, kW = ctx.kernel_size = _pair(kernel_size)\n",
        "        patchH, patchW = ctx.patch_size = _pair(patch_size)\n",
        "        padH, padW = ctx.padding = _pair(padding)\n",
        "        dilationH, dilationW = ctx.dilation = _pair(dilation)\n",
        "        dilation_patchH, dilation_patchW = ctx.dilation_patch = _pair(dilation_patch)\n",
        "        dH, dW = ctx.stride = _pair(stride)\n",
        "\n",
        "        print(kH, kW, patchH, patchW, padH, padW, dilationH, dilationW, dilation_patchH, dilation_patchW, dH, dW)\n",
        "\n",
        "        output = correlation.forward(input1, input2,\n",
        "                                     kH, kW, patchH, patchW,\n",
        "                                     padH, padW, dilationH, dilationW,\n",
        "                                     dilation_patchH, dilation_patchW,\n",
        "                                     dH, dW)\n",
        "\n",
        "        return output\n",
        "\n",
        "    @staticmethod\n",
        "    @once_differentiable\n",
        "    def backward(ctx, grad_output):\n",
        "        input1, input2 = ctx.saved_variables\n",
        "\n",
        "        kH, kW = ctx.kernel_size\n",
        "        patchH, patchW = ctx.patch_size\n",
        "        padH, padW = ctx.padding\n",
        "        dilationH, dilationW = ctx.dilation\n",
        "        dilation_patchH, dilation_patchW = ctx.dilation_patch\n",
        "        dH, dW = ctx.stride\n",
        "\n",
        "        grad_input1, grad_input2 = correlation.backward(input1, input2, grad_output,\n",
        "                                                        kH, kW, patchH, patchW,\n",
        "                                                        padH, padW, dilationH, dilationW,\n",
        "                                                        dilation_patchH, dilation_patchW,\n",
        "                                                        dH, dW)\n",
        "        return grad_input1, grad_input2, None, None, None, None, None, None"
      ],
      "execution_count": null,
      "outputs": []
    },
    {
      "cell_type": "code",
      "metadata": {
        "id": "31KHX_s1Qi5E"
      },
      "source": [
        "device = \"cpu\"\n",
        "batch_size = 1\n",
        "channel = 1\n",
        "H = 10\n",
        "W = 10\n",
        "dtype = torch.float32\n",
        "\n",
        "input1 = torch.randint(1, 4, (batch_size, channel, H, W), dtype=dtype, device=device, requires_grad=True)\n",
        "input2 = torch.randint_like(input1, 1, 4).requires_grad_(True)"
      ],
      "execution_count": null,
      "outputs": []
    },
    {
      "cell_type": "code",
      "metadata": {
        "colab": {
          "base_uri": "https://localhost:8080/"
        },
        "id": "HXgNBSPHQlB7",
        "outputId": "6c342c3b-50b5-495a-ef04-8c3e71013275"
      },
      "source": [
        "out = spatial_correlation_sample(input1, input2, kernel_size=3, patch_size=1, stride=2, padding=0, dilation=2, dilation_patch=1)"
      ],
      "execution_count": null,
      "outputs": [
        {
          "output_type": "stream",
          "text": [
            "3 3 1 1 0 0 2 2 1 1 2 2\n"
          ],
          "name": "stdout"
        }
      ]
    },
    {
      "cell_type": "markdown",
      "metadata": {
        "id": "ww-azJKqJNHO"
      },
      "source": [
        "# Lib version"
      ]
    },
    {
      "cell_type": "code",
      "metadata": {
        "id": "okEhEFTNqzpf"
      },
      "source": [
        "import torch\n",
        "import spatial_correlation_sampler\n",
        "from spatial_correlation_sampler import SpatialCorrelationSampler, spatial_correlation_sample"
      ],
      "execution_count": null,
      "outputs": []
    },
    {
      "cell_type": "code",
      "metadata": {
        "id": "ETYPALDTw-qT"
      },
      "source": [
        "import torch\n",
        "from spatial_correlation_sampler import SpatialCorrelationSampler, spatial_correlation_sample\n",
        "\n",
        "device = \"cpu\"\n",
        "batch_size = 1\n",
        "channel = 1\n",
        "H = 10\n",
        "W = 10\n",
        "dtype = torch.float32\n",
        "\n",
        "input1 = torch.randint(1, 4, (batch_size, channel, H, W), dtype=dtype, device=device, requires_grad=True)\n",
        "input2 = torch.randint_like(input1, 1, 4).requires_grad_(True)\n",
        "\n",
        "#You can either use the function or the module. Note that the module doesn't contain any parameter tensor.\n",
        "\n",
        "#function\n",
        "\n",
        "out = spatial_correlation_sample(input1, input2, kernel_size=3, patch_size=1, stride=2, padding=0, dilation=2, dilation_patch=1)\n",
        "\n",
        "#module\n",
        "\n",
        "correlation_sampler = SpatialCorrelationSampler(\n",
        "    kernel_size=1,\n",
        "    patch_size=21,\n",
        "    stride=1,\n",
        "    padding=0,\n",
        "    dilation=1,\n",
        "    dilation_patch=2)\n",
        "out = correlation_sampler(input1, input2)"
      ],
      "execution_count": null,
      "outputs": []
    },
    {
      "cell_type": "code",
      "metadata": {
        "id": "DWQ3KH-SHnlp"
      },
      "source": [
        "import torch.nn.functional as F\n",
        "def correlate(input1, input2):\n",
        "    correlation_sampler = SpatialCorrelationSampler(\n",
        "                                          kernel_size=1,\n",
        "                                          patch_size=7,\n",
        "                                          stride=1,\n",
        "                                          padding=0,\n",
        "                                          dilation_patch=2)\n",
        "    out_corr = correlation_sampler(input1, input2)\n",
        "    # collate dimensions 1 and 2 in order to be treated as a\n",
        "    # regular 4D tensor\n",
        "    b, ph, pw, h, w = out_corr.size()\n",
        "    out_corr = out_corr.view(b, ph * pw, h, w)/input1.size(1)\n",
        "    return F.leaky_relu_(out_corr, 0.1)"
      ],
      "execution_count": null,
      "outputs": []
    },
    {
      "cell_type": "code",
      "metadata": {
        "colab": {
          "base_uri": "https://localhost:8080/"
        },
        "id": "hhsnyJ7vHqCW",
        "outputId": "db39c633-429b-417a-9513-bebfc93baa96"
      },
      "source": [
        "correlate(input1, input2).size()"
      ],
      "execution_count": null,
      "outputs": [
        {
          "output_type": "execute_result",
          "data": {
            "text/plain": [
              "torch.Size([1, 49, 10, 10])"
            ]
          },
          "metadata": {
            "tags": []
          },
          "execution_count": 6
        }
      ]
    },
    {
      "cell_type": "code",
      "metadata": {
        "id": "9oJJdtgO_jo5"
      },
      "source": [
        "import torch\n",
        "import torch.nn as nn\n",
        "\n",
        "# compile_with_cache Case\n",
        "class Net(nn.Module):\n",
        "    def __init__(self):\n",
        "        super(Net, self).__init__()\n",
        "\n",
        "    def forward(self, input1, input2):\n",
        "        correlation_sampler = SpatialCorrelationSampler(\n",
        "            kernel_size=3,\n",
        "            patch_size=1,\n",
        "            stride=2,\n",
        "            padding=0,\n",
        "            dilation=2,\n",
        "            dilation_patch=1)\n",
        "        return correlation_sampler(input1, input2)\n",
        "        # return spatial_correlation_sample(input1, input2, kernel_size=3, patch_size=1, stride=2, padding=0, dilation=2, dilation_patch=1)\n",
        "        # return traced_correlation_sampler(input1, input2, kernel_size=3, patch_size=1, stride=2, padding=0, dilation=2, dilation_patch=1)"
      ],
      "execution_count": null,
      "outputs": []
    },
    {
      "cell_type": "code",
      "metadata": {
        "id": "yFZn7Sh-_vfu",
        "colab": {
          "base_uri": "https://localhost:8080/",
          "height": 328
        },
        "outputId": "0b3c0bba-b7ef-4c33-8a0f-6ea17d0673e1"
      },
      "source": [
        "net = Net()\n",
        "trace_model = torch.jit.trace(net, [input1, input2])"
      ],
      "execution_count": null,
      "outputs": [
        {
          "output_type": "error",
          "ename": "RuntimeError",
          "evalue": "ignored",
          "traceback": [
            "\u001b[0;31m---------------------------------------------------------------------------\u001b[0m",
            "\u001b[0;31mRuntimeError\u001b[0m                              Traceback (most recent call last)",
            "\u001b[0;32m<ipython-input-23-347a8c0b053d>\u001b[0m in \u001b[0;36m<module>\u001b[0;34m()\u001b[0m\n\u001b[1;32m      1\u001b[0m \u001b[0mnet\u001b[0m \u001b[0;34m=\u001b[0m \u001b[0mNet\u001b[0m\u001b[0;34m(\u001b[0m\u001b[0;34m)\u001b[0m\u001b[0;34m\u001b[0m\u001b[0;34m\u001b[0m\u001b[0m\n\u001b[0;32m----> 2\u001b[0;31m \u001b[0mtrace_model\u001b[0m \u001b[0;34m=\u001b[0m \u001b[0mtorch\u001b[0m\u001b[0;34m.\u001b[0m\u001b[0mjit\u001b[0m\u001b[0;34m.\u001b[0m\u001b[0mtrace\u001b[0m\u001b[0;34m(\u001b[0m\u001b[0mnet\u001b[0m\u001b[0;34m,\u001b[0m \u001b[0;34m[\u001b[0m\u001b[0minput1\u001b[0m\u001b[0;34m,\u001b[0m \u001b[0minput2\u001b[0m\u001b[0;34m]\u001b[0m\u001b[0;34m)\u001b[0m\u001b[0;34m\u001b[0m\u001b[0;34m\u001b[0m\u001b[0m\n\u001b[0m",
            "\u001b[0;32m/usr/local/lib/python3.7/dist-packages/torch/jit/_trace.py\u001b[0m in \u001b[0;36mtrace\u001b[0;34m(func, example_inputs, optimize, check_trace, check_inputs, check_tolerance, strict, _force_outplace, _module_class, _compilation_unit)\u001b[0m\n\u001b[1;32m    742\u001b[0m             \u001b[0mstrict\u001b[0m\u001b[0;34m,\u001b[0m\u001b[0;34m\u001b[0m\u001b[0;34m\u001b[0m\u001b[0m\n\u001b[1;32m    743\u001b[0m             \u001b[0m_force_outplace\u001b[0m\u001b[0;34m,\u001b[0m\u001b[0;34m\u001b[0m\u001b[0;34m\u001b[0m\u001b[0m\n\u001b[0;32m--> 744\u001b[0;31m             \u001b[0m_module_class\u001b[0m\u001b[0;34m,\u001b[0m\u001b[0;34m\u001b[0m\u001b[0;34m\u001b[0m\u001b[0m\n\u001b[0m\u001b[1;32m    745\u001b[0m         )\n\u001b[1;32m    746\u001b[0m \u001b[0;34m\u001b[0m\u001b[0m\n",
            "\u001b[0;32m/usr/local/lib/python3.7/dist-packages/torch/jit/_trace.py\u001b[0m in \u001b[0;36mtrace_module\u001b[0;34m(mod, inputs, optimize, check_trace, check_inputs, check_tolerance, strict, _force_outplace, _module_class, _compilation_unit)\u001b[0m\n\u001b[1;32m    957\u001b[0m                 \u001b[0mstrict\u001b[0m\u001b[0;34m,\u001b[0m\u001b[0;34m\u001b[0m\u001b[0;34m\u001b[0m\u001b[0m\n\u001b[1;32m    958\u001b[0m                 \u001b[0m_force_outplace\u001b[0m\u001b[0;34m,\u001b[0m\u001b[0;34m\u001b[0m\u001b[0;34m\u001b[0m\u001b[0m\n\u001b[0;32m--> 959\u001b[0;31m                 \u001b[0margument_names\u001b[0m\u001b[0;34m,\u001b[0m\u001b[0;34m\u001b[0m\u001b[0;34m\u001b[0m\u001b[0m\n\u001b[0m\u001b[1;32m    960\u001b[0m             )\n\u001b[1;32m    961\u001b[0m             \u001b[0mcheck_trace_method\u001b[0m \u001b[0;34m=\u001b[0m \u001b[0mmodule\u001b[0m\u001b[0;34m.\u001b[0m\u001b[0m_c\u001b[0m\u001b[0;34m.\u001b[0m\u001b[0m_get_method\u001b[0m\u001b[0;34m(\u001b[0m\u001b[0mmethod_name\u001b[0m\u001b[0;34m)\u001b[0m\u001b[0;34m\u001b[0m\u001b[0;34m\u001b[0m\u001b[0m\n",
            "\u001b[0;32m/usr/local/lib/python3.7/dist-packages/torch/nn/modules/module.py\u001b[0m in \u001b[0;36m_call_impl\u001b[0;34m(self, *input, **kwargs)\u001b[0m\n\u001b[1;32m   1049\u001b[0m         if not (self._backward_hooks or self._forward_hooks or self._forward_pre_hooks or _global_backward_hooks\n\u001b[1;32m   1050\u001b[0m                 or _global_forward_hooks or _global_forward_pre_hooks):\n\u001b[0;32m-> 1051\u001b[0;31m             \u001b[0;32mreturn\u001b[0m \u001b[0mforward_call\u001b[0m\u001b[0;34m(\u001b[0m\u001b[0;34m*\u001b[0m\u001b[0minput\u001b[0m\u001b[0;34m,\u001b[0m \u001b[0;34m**\u001b[0m\u001b[0mkwargs\u001b[0m\u001b[0;34m)\u001b[0m\u001b[0;34m\u001b[0m\u001b[0;34m\u001b[0m\u001b[0m\n\u001b[0m\u001b[1;32m   1052\u001b[0m         \u001b[0;31m# Do not call functions when jit is used\u001b[0m\u001b[0;34m\u001b[0m\u001b[0;34m\u001b[0m\u001b[0;34m\u001b[0m\u001b[0m\n\u001b[1;32m   1053\u001b[0m         \u001b[0mfull_backward_hooks\u001b[0m\u001b[0;34m,\u001b[0m \u001b[0mnon_full_backward_hooks\u001b[0m \u001b[0;34m=\u001b[0m \u001b[0;34m[\u001b[0m\u001b[0;34m]\u001b[0m\u001b[0;34m,\u001b[0m \u001b[0;34m[\u001b[0m\u001b[0;34m]\u001b[0m\u001b[0;34m\u001b[0m\u001b[0;34m\u001b[0m\u001b[0m\n",
            "\u001b[0;32m/usr/local/lib/python3.7/dist-packages/torch/nn/modules/module.py\u001b[0m in \u001b[0;36m_slow_forward\u001b[0;34m(self, *input, **kwargs)\u001b[0m\n\u001b[1;32m   1037\u001b[0m                 \u001b[0mrecording_scopes\u001b[0m \u001b[0;34m=\u001b[0m \u001b[0;32mFalse\u001b[0m\u001b[0;34m\u001b[0m\u001b[0;34m\u001b[0m\u001b[0m\n\u001b[1;32m   1038\u001b[0m         \u001b[0;32mtry\u001b[0m\u001b[0;34m:\u001b[0m\u001b[0;34m\u001b[0m\u001b[0;34m\u001b[0m\u001b[0m\n\u001b[0;32m-> 1039\u001b[0;31m             \u001b[0mresult\u001b[0m \u001b[0;34m=\u001b[0m \u001b[0mself\u001b[0m\u001b[0;34m.\u001b[0m\u001b[0mforward\u001b[0m\u001b[0;34m(\u001b[0m\u001b[0;34m*\u001b[0m\u001b[0minput\u001b[0m\u001b[0;34m,\u001b[0m \u001b[0;34m**\u001b[0m\u001b[0mkwargs\u001b[0m\u001b[0;34m)\u001b[0m\u001b[0;34m\u001b[0m\u001b[0;34m\u001b[0m\u001b[0m\n\u001b[0m\u001b[1;32m   1040\u001b[0m         \u001b[0;32mfinally\u001b[0m\u001b[0;34m:\u001b[0m\u001b[0;34m\u001b[0m\u001b[0;34m\u001b[0m\u001b[0m\n\u001b[1;32m   1041\u001b[0m             \u001b[0;32mif\u001b[0m \u001b[0mrecording_scopes\u001b[0m\u001b[0;34m:\u001b[0m\u001b[0;34m\u001b[0m\u001b[0;34m\u001b[0m\u001b[0m\n",
            "\u001b[0;32m<ipython-input-22-4cbe90e06ec8>\u001b[0m in \u001b[0;36mforward\u001b[0;34m(self, input1, input2)\u001b[0m\n\u001b[1;32m     17\u001b[0m         \u001b[0;31m# return correlation_sampler(input1, input2)\u001b[0m\u001b[0;34m\u001b[0m\u001b[0;34m\u001b[0m\u001b[0;34m\u001b[0m\u001b[0m\n\u001b[1;32m     18\u001b[0m         \u001b[0;31m# return spatial_correlation_sample(input1, input2, kernel_size=3, patch_size=1, stride=2, padding=0, dilation=2, dilation_patch=1)\u001b[0m\u001b[0;34m\u001b[0m\u001b[0;34m\u001b[0m\u001b[0;34m\u001b[0m\u001b[0m\n\u001b[0;32m---> 19\u001b[0;31m         \u001b[0;32mreturn\u001b[0m \u001b[0mtraced_correlation_sampler\u001b[0m\u001b[0;34m(\u001b[0m\u001b[0minput1\u001b[0m\u001b[0;34m,\u001b[0m \u001b[0minput2\u001b[0m\u001b[0;34m,\u001b[0m \u001b[0mkernel_size\u001b[0m\u001b[0;34m=\u001b[0m\u001b[0;36m3\u001b[0m\u001b[0;34m,\u001b[0m \u001b[0mpatch_size\u001b[0m\u001b[0;34m=\u001b[0m\u001b[0;36m1\u001b[0m\u001b[0;34m,\u001b[0m \u001b[0mstride\u001b[0m\u001b[0;34m=\u001b[0m\u001b[0;36m2\u001b[0m\u001b[0;34m,\u001b[0m \u001b[0mpadding\u001b[0m\u001b[0;34m=\u001b[0m\u001b[0;36m0\u001b[0m\u001b[0;34m,\u001b[0m \u001b[0mdilation\u001b[0m\u001b[0;34m=\u001b[0m\u001b[0;36m2\u001b[0m\u001b[0;34m,\u001b[0m \u001b[0mdilation_patch\u001b[0m\u001b[0;34m=\u001b[0m\u001b[0;36m1\u001b[0m\u001b[0;34m)\u001b[0m\u001b[0;34m\u001b[0m\u001b[0;34m\u001b[0m\u001b[0m\n\u001b[0m",
            "\u001b[0;32m/usr/local/lib/python3.7/dist-packages/torch/jit/_trace.py\u001b[0m in \u001b[0;36mwrapper\u001b[0;34m(*args, **kwargs)\u001b[0m\n\u001b[1;32m   1112\u001b[0m             \u001b[0;32mreturn\u001b[0m \u001b[0mfn\u001b[0m\u001b[0;34m(\u001b[0m\u001b[0;34m*\u001b[0m\u001b[0margs\u001b[0m\u001b[0;34m,\u001b[0m \u001b[0;34m**\u001b[0m\u001b[0mkwargs\u001b[0m\u001b[0;34m)\u001b[0m\u001b[0;34m\u001b[0m\u001b[0;34m\u001b[0m\u001b[0m\n\u001b[1;32m   1113\u001b[0m \u001b[0;34m\u001b[0m\u001b[0m\n\u001b[0;32m-> 1114\u001b[0;31m         \u001b[0mcompiled_fn\u001b[0m \u001b[0;34m=\u001b[0m \u001b[0mscript\u001b[0m\u001b[0;34m(\u001b[0m\u001b[0mwrapper\u001b[0m\u001b[0;34m.\u001b[0m\u001b[0m__original_fn\u001b[0m\u001b[0;34m)\u001b[0m  \u001b[0;31m# type: ignore[attr-defined]\u001b[0m\u001b[0;34m\u001b[0m\u001b[0;34m\u001b[0m\u001b[0m\n\u001b[0m\u001b[1;32m   1115\u001b[0m         \u001b[0;32mreturn\u001b[0m \u001b[0mcompiled_fn\u001b[0m\u001b[0;34m(\u001b[0m\u001b[0;34m*\u001b[0m\u001b[0margs\u001b[0m\u001b[0;34m,\u001b[0m \u001b[0;34m**\u001b[0m\u001b[0mkwargs\u001b[0m\u001b[0;34m)\u001b[0m\u001b[0;34m\u001b[0m\u001b[0;34m\u001b[0m\u001b[0m\n\u001b[1;32m   1116\u001b[0m \u001b[0;34m\u001b[0m\u001b[0m\n",
            "\u001b[0;32m/usr/local/lib/python3.7/dist-packages/torch/jit/_script.py\u001b[0m in \u001b[0;36mscript\u001b[0;34m(obj, optimize, _frames_up, _rcb)\u001b[0m\n\u001b[1;32m   1095\u001b[0m         \u001b[0mobj\u001b[0m \u001b[0;34m=\u001b[0m \u001b[0mcall_prepare_scriptable_func\u001b[0m\u001b[0;34m(\u001b[0m\u001b[0mobj\u001b[0m\u001b[0;34m)\u001b[0m\u001b[0;34m\u001b[0m\u001b[0;34m\u001b[0m\u001b[0m\n\u001b[1;32m   1096\u001b[0m         return torch.jit._recursive.create_script_module(\n\u001b[0;32m-> 1097\u001b[0;31m             \u001b[0mobj\u001b[0m\u001b[0;34m,\u001b[0m \u001b[0mtorch\u001b[0m\u001b[0;34m.\u001b[0m\u001b[0mjit\u001b[0m\u001b[0;34m.\u001b[0m\u001b[0m_recursive\u001b[0m\u001b[0;34m.\u001b[0m\u001b[0minfer_methods_to_compile\u001b[0m\u001b[0;34m\u001b[0m\u001b[0;34m\u001b[0m\u001b[0m\n\u001b[0m\u001b[1;32m   1098\u001b[0m         )\n\u001b[1;32m   1099\u001b[0m \u001b[0;34m\u001b[0m\u001b[0m\n",
            "\u001b[0;32m/usr/local/lib/python3.7/dist-packages/torch/jit/_recursive.py\u001b[0m in \u001b[0;36mcreate_script_module\u001b[0;34m(nn_module, stubs_fn, share_types)\u001b[0m\n\u001b[1;32m    410\u001b[0m     \u001b[0mconcrete_type\u001b[0m \u001b[0;34m=\u001b[0m \u001b[0mget_module_concrete_type\u001b[0m\u001b[0;34m(\u001b[0m\u001b[0mnn_module\u001b[0m\u001b[0;34m,\u001b[0m \u001b[0mshare_types\u001b[0m\u001b[0;34m)\u001b[0m\u001b[0;34m\u001b[0m\u001b[0;34m\u001b[0m\u001b[0m\n\u001b[1;32m    411\u001b[0m     \u001b[0mAttributeTypeIsSupportedChecker\u001b[0m\u001b[0;34m(\u001b[0m\u001b[0;34m)\u001b[0m\u001b[0;34m.\u001b[0m\u001b[0mcheck\u001b[0m\u001b[0;34m(\u001b[0m\u001b[0mnn_module\u001b[0m\u001b[0;34m)\u001b[0m\u001b[0;34m\u001b[0m\u001b[0;34m\u001b[0m\u001b[0m\n\u001b[0;32m--> 412\u001b[0;31m     \u001b[0;32mreturn\u001b[0m \u001b[0mcreate_script_module_impl\u001b[0m\u001b[0;34m(\u001b[0m\u001b[0mnn_module\u001b[0m\u001b[0;34m,\u001b[0m \u001b[0mconcrete_type\u001b[0m\u001b[0;34m,\u001b[0m \u001b[0mstubs_fn\u001b[0m\u001b[0;34m)\u001b[0m\u001b[0;34m\u001b[0m\u001b[0;34m\u001b[0m\u001b[0m\n\u001b[0m\u001b[1;32m    413\u001b[0m \u001b[0;34m\u001b[0m\u001b[0m\n\u001b[1;32m    414\u001b[0m \u001b[0;32mdef\u001b[0m \u001b[0mcreate_script_module_impl\u001b[0m\u001b[0;34m(\u001b[0m\u001b[0mnn_module\u001b[0m\u001b[0;34m,\u001b[0m \u001b[0mconcrete_type\u001b[0m\u001b[0;34m,\u001b[0m \u001b[0mstubs_fn\u001b[0m\u001b[0;34m)\u001b[0m\u001b[0;34m:\u001b[0m\u001b[0;34m\u001b[0m\u001b[0;34m\u001b[0m\u001b[0m\n",
            "\u001b[0;32m/usr/local/lib/python3.7/dist-packages/torch/jit/_recursive.py\u001b[0m in \u001b[0;36mcreate_script_module_impl\u001b[0;34m(nn_module, concrete_type, stubs_fn)\u001b[0m\n\u001b[1;32m    476\u001b[0m     \u001b[0;31m# Compile methods if necessary\u001b[0m\u001b[0;34m\u001b[0m\u001b[0;34m\u001b[0m\u001b[0;34m\u001b[0m\u001b[0m\n\u001b[1;32m    477\u001b[0m     \u001b[0;32mif\u001b[0m \u001b[0mconcrete_type\u001b[0m \u001b[0;32mnot\u001b[0m \u001b[0;32min\u001b[0m \u001b[0mconcrete_type_store\u001b[0m\u001b[0;34m.\u001b[0m\u001b[0mmethods_compiled\u001b[0m\u001b[0;34m:\u001b[0m\u001b[0;34m\u001b[0m\u001b[0;34m\u001b[0m\u001b[0m\n\u001b[0;32m--> 478\u001b[0;31m         \u001b[0mcreate_methods_and_properties_from_stubs\u001b[0m\u001b[0;34m(\u001b[0m\u001b[0mconcrete_type\u001b[0m\u001b[0;34m,\u001b[0m \u001b[0mmethod_stubs\u001b[0m\u001b[0;34m,\u001b[0m \u001b[0mproperty_stubs\u001b[0m\u001b[0;34m)\u001b[0m\u001b[0;34m\u001b[0m\u001b[0;34m\u001b[0m\u001b[0m\n\u001b[0m\u001b[1;32m    479\u001b[0m         \u001b[0;31m# Create hooks after methods to ensure no name collisions between hooks and methods.\u001b[0m\u001b[0;34m\u001b[0m\u001b[0;34m\u001b[0m\u001b[0;34m\u001b[0m\u001b[0m\n\u001b[1;32m    480\u001b[0m         \u001b[0;31m# If done before, hooks can overshadow methods that aren't exported.\u001b[0m\u001b[0;34m\u001b[0m\u001b[0;34m\u001b[0m\u001b[0;34m\u001b[0m\u001b[0m\n",
            "\u001b[0;32m/usr/local/lib/python3.7/dist-packages/torch/jit/_recursive.py\u001b[0m in \u001b[0;36mcreate_methods_and_properties_from_stubs\u001b[0;34m(concrete_type, method_stubs, property_stubs)\u001b[0m\n\u001b[1;32m    353\u001b[0m     \u001b[0mproperty_rcbs\u001b[0m \u001b[0;34m=\u001b[0m \u001b[0;34m[\u001b[0m\u001b[0mp\u001b[0m\u001b[0;34m.\u001b[0m\u001b[0mresolution_callback\u001b[0m \u001b[0;32mfor\u001b[0m \u001b[0mp\u001b[0m \u001b[0;32min\u001b[0m \u001b[0mproperty_stubs\u001b[0m\u001b[0;34m]\u001b[0m\u001b[0;34m\u001b[0m\u001b[0;34m\u001b[0m\u001b[0m\n\u001b[1;32m    354\u001b[0m \u001b[0;34m\u001b[0m\u001b[0m\n\u001b[0;32m--> 355\u001b[0;31m     \u001b[0mconcrete_type\u001b[0m\u001b[0;34m.\u001b[0m\u001b[0m_create_methods_and_properties\u001b[0m\u001b[0;34m(\u001b[0m\u001b[0mproperty_defs\u001b[0m\u001b[0;34m,\u001b[0m \u001b[0mproperty_rcbs\u001b[0m\u001b[0;34m,\u001b[0m \u001b[0mmethod_defs\u001b[0m\u001b[0;34m,\u001b[0m \u001b[0mmethod_rcbs\u001b[0m\u001b[0;34m,\u001b[0m \u001b[0mmethod_defaults\u001b[0m\u001b[0;34m)\u001b[0m\u001b[0;34m\u001b[0m\u001b[0;34m\u001b[0m\u001b[0m\n\u001b[0m\u001b[1;32m    356\u001b[0m \u001b[0;34m\u001b[0m\u001b[0m\n\u001b[1;32m    357\u001b[0m \u001b[0;32mdef\u001b[0m \u001b[0mcreate_hooks_from_stubs\u001b[0m\u001b[0;34m(\u001b[0m\u001b[0mconcrete_type\u001b[0m\u001b[0;34m,\u001b[0m \u001b[0mhook_stubs\u001b[0m\u001b[0;34m,\u001b[0m \u001b[0mpre_hook_stubs\u001b[0m\u001b[0;34m)\u001b[0m\u001b[0;34m:\u001b[0m\u001b[0;34m\u001b[0m\u001b[0;34m\u001b[0m\u001b[0m\n",
            "\u001b[0;31mRuntimeError\u001b[0m: Can't redefine method: forward on class: __torch__.spatial_correlation_sampler.spatial_correlation_sampler.SpatialCorrelationSampler (of Python compilation unit at: 0x5598e28a09d0)"
          ]
        }
      ]
    },
    {
      "cell_type": "code",
      "metadata": {
        "colab": {
          "base_uri": "https://localhost:8080/",
          "height": 889
        },
        "id": "Ke2U1UC7wytX",
        "outputId": "8275ccd7-28bf-495a-cc57-0b6b33f765aa"
      },
      "source": [
        "torch.jit.save(trace_model, \"trace_model.pt\")"
      ],
      "execution_count": null,
      "outputs": [
        {
          "output_type": "error",
          "ename": "RuntimeError",
          "evalue": "ignored",
          "traceback": [
            "\u001b[0;31m---------------------------------------------------------------------------\u001b[0m",
            "\u001b[0;31mRuntimeError\u001b[0m                              Traceback (most recent call last)",
            "\u001b[0;32m<ipython-input-11-6f1bf2efa74c>\u001b[0m in \u001b[0;36m<module>\u001b[0;34m()\u001b[0m\n\u001b[0;32m----> 1\u001b[0;31m \u001b[0mtorch\u001b[0m\u001b[0;34m.\u001b[0m\u001b[0mjit\u001b[0m\u001b[0;34m.\u001b[0m\u001b[0msave\u001b[0m\u001b[0;34m(\u001b[0m\u001b[0mtrace_model\u001b[0m\u001b[0;34m,\u001b[0m \u001b[0;34m\"trace_model.pt\"\u001b[0m\u001b[0;34m)\u001b[0m\u001b[0;34m\u001b[0m\u001b[0;34m\u001b[0m\u001b[0m\n\u001b[0m",
            "\u001b[0;32m/usr/local/lib/python3.7/dist-packages/torch/jit/_serialization.py\u001b[0m in \u001b[0;36msave\u001b[0;34m(m, f, _extra_files)\u001b[0m\n\u001b[1;32m     79\u001b[0m         \u001b[0m_extra_files\u001b[0m \u001b[0;34m=\u001b[0m \u001b[0;34m{\u001b[0m\u001b[0;34m}\u001b[0m\u001b[0;34m\u001b[0m\u001b[0;34m\u001b[0m\u001b[0m\n\u001b[1;32m     80\u001b[0m     \u001b[0;32mif\u001b[0m \u001b[0misinstance\u001b[0m\u001b[0;34m(\u001b[0m\u001b[0mf\u001b[0m\u001b[0;34m,\u001b[0m \u001b[0mstr\u001b[0m\u001b[0;34m)\u001b[0m \u001b[0;32mor\u001b[0m \u001b[0misinstance\u001b[0m\u001b[0;34m(\u001b[0m\u001b[0mf\u001b[0m\u001b[0;34m,\u001b[0m \u001b[0mpathlib\u001b[0m\u001b[0;34m.\u001b[0m\u001b[0mPath\u001b[0m\u001b[0;34m)\u001b[0m\u001b[0;34m:\u001b[0m\u001b[0;34m\u001b[0m\u001b[0;34m\u001b[0m\u001b[0m\n\u001b[0;32m---> 81\u001b[0;31m         \u001b[0mm\u001b[0m\u001b[0;34m.\u001b[0m\u001b[0msave\u001b[0m\u001b[0;34m(\u001b[0m\u001b[0mf\u001b[0m\u001b[0;34m,\u001b[0m \u001b[0m_extra_files\u001b[0m\u001b[0;34m=\u001b[0m\u001b[0m_extra_files\u001b[0m\u001b[0;34m)\u001b[0m\u001b[0;34m\u001b[0m\u001b[0;34m\u001b[0m\u001b[0m\n\u001b[0m\u001b[1;32m     82\u001b[0m     \u001b[0;32melse\u001b[0m\u001b[0;34m:\u001b[0m\u001b[0;34m\u001b[0m\u001b[0;34m\u001b[0m\u001b[0m\n\u001b[1;32m     83\u001b[0m         \u001b[0mret\u001b[0m \u001b[0;34m=\u001b[0m \u001b[0mm\u001b[0m\u001b[0;34m.\u001b[0m\u001b[0msave_to_buffer\u001b[0m\u001b[0;34m(\u001b[0m\u001b[0m_extra_files\u001b[0m\u001b[0;34m=\u001b[0m\u001b[0m_extra_files\u001b[0m\u001b[0;34m)\u001b[0m\u001b[0;34m\u001b[0m\u001b[0;34m\u001b[0m\u001b[0m\n",
            "\u001b[0;32m/usr/local/lib/python3.7/dist-packages/torch/jit/_script.py\u001b[0m in \u001b[0;36msave\u001b[0;34m(self, f, **kwargs)\u001b[0m\n\u001b[1;32m    594\u001b[0m             \u001b[0mSee\u001b[0m \u001b[0;34m:\u001b[0m\u001b[0mfunc\u001b[0m\u001b[0;34m:\u001b[0m\u001b[0;31m`\u001b[0m\u001b[0mtorch\u001b[0m\u001b[0;34m.\u001b[0m\u001b[0mjit\u001b[0m\u001b[0;34m.\u001b[0m\u001b[0msave\u001b[0m \u001b[0;34m<\u001b[0m\u001b[0mtorch\u001b[0m\u001b[0;34m.\u001b[0m\u001b[0mjit\u001b[0m\u001b[0;34m.\u001b[0m\u001b[0msave\u001b[0m\u001b[0;34m>\u001b[0m\u001b[0;31m`\u001b[0m \u001b[0;32mfor\u001b[0m \u001b[0mdetails\u001b[0m\u001b[0;34m.\u001b[0m\u001b[0;34m\u001b[0m\u001b[0;34m\u001b[0m\u001b[0m\n\u001b[1;32m    595\u001b[0m             \"\"\"\n\u001b[0;32m--> 596\u001b[0;31m             \u001b[0;32mreturn\u001b[0m \u001b[0mself\u001b[0m\u001b[0;34m.\u001b[0m\u001b[0m_c\u001b[0m\u001b[0;34m.\u001b[0m\u001b[0msave\u001b[0m\u001b[0;34m(\u001b[0m\u001b[0mstr\u001b[0m\u001b[0;34m(\u001b[0m\u001b[0mf\u001b[0m\u001b[0;34m)\u001b[0m\u001b[0;34m,\u001b[0m \u001b[0;34m**\u001b[0m\u001b[0mkwargs\u001b[0m\u001b[0;34m)\u001b[0m\u001b[0;34m\u001b[0m\u001b[0;34m\u001b[0m\u001b[0m\n\u001b[0m\u001b[1;32m    597\u001b[0m \u001b[0;34m\u001b[0m\u001b[0m\n\u001b[1;32m    598\u001b[0m         \u001b[0;32mdef\u001b[0m \u001b[0m_save_for_lite_interpreter\u001b[0m\u001b[0;34m(\u001b[0m\u001b[0mself\u001b[0m\u001b[0;34m,\u001b[0m \u001b[0;34m*\u001b[0m\u001b[0margs\u001b[0m\u001b[0;34m,\u001b[0m \u001b[0;34m**\u001b[0m\u001b[0mkwargs\u001b[0m\u001b[0;34m)\u001b[0m\u001b[0;34m:\u001b[0m\u001b[0;34m\u001b[0m\u001b[0;34m\u001b[0m\u001b[0m\n",
            "\u001b[0;31mRuntimeError\u001b[0m: \nCould not export Python function call 'SpatialCorrelationSamplerFunction'. Remove calls to Python functions before export. Did you forget to add @script or @script_method annotation? If this is a nn.ModuleList, add it to __constants__:\n/usr/local/lib/python3.7/dist-packages/spatial_correlation_sampler/spatial_correlation_sampler.py(107): forward\n/usr/local/lib/python3.7/dist-packages/torch/nn/modules/module.py(1039): _slow_forward\n/usr/local/lib/python3.7/dist-packages/torch/nn/modules/module.py(1051): _call_impl\n<ipython-input-7-ec4123c8f136>(17): forward\n/usr/local/lib/python3.7/dist-packages/torch/nn/modules/module.py(1039): _slow_forward\n/usr/local/lib/python3.7/dist-packages/torch/nn/modules/module.py(1051): _call_impl\n/usr/local/lib/python3.7/dist-packages/torch/jit/_trace.py(959): trace_module\n/usr/local/lib/python3.7/dist-packages/torch/jit/_trace.py(744): trace\n<ipython-input-10-1c0de0dd727b>(4): <module>\n/usr/local/lib/python3.7/dist-packages/IPython/core/interactiveshell.py(2882): run_code\n/usr/local/lib/python3.7/dist-packages/IPython/core/interactiveshell.py(2822): run_ast_nodes\n/usr/local/lib/python3.7/dist-packages/IPython/core/interactiveshell.py(2718): run_cell\n/usr/local/lib/python3.7/dist-packages/ipykernel/zmqshell.py(537): run_cell\n/usr/local/lib/python3.7/dist-packages/ipykernel/ipkernel.py(208): do_execute\n/usr/local/lib/python3.7/dist-packages/ipykernel/kernelbase.py(399): execute_request\n/usr/local/lib/python3.7/dist-packages/ipykernel/kernelbase.py(233): dispatch_shell\n/usr/local/lib/python3.7/dist-packages/ipykernel/kernelbase.py(283): dispatcher\n/usr/local/lib/python3.7/dist-packages/tornado/stack_context.py(300): null_wrapper\n/usr/local/lib/python3.7/dist-packages/zmq/eventloop/zmqstream.py(434): _run_callback\n/usr/local/lib/python3.7/dist-packages/zmq/eventloop/zmqstream.py(480): _handle_recv\n/usr/local/lib/python3.7/dist-packages/zmq/eventloop/zmqstream.py(451): _handle_events\n/usr/local/lib/python3.7/dist-packages/tornado/stack_context.py(300): null_wrapper\n/usr/local/lib/python3.7/dist-packages/tornado/platform/asyncio.py(122): _handle_events\n/usr/lib/python3.7/asyncio/events.py(88): _run\n/usr/lib/python3.7/asyncio/base_events.py(1786): _run_once\n/usr/lib/python3.7/asyncio/base_events.py(541): run_forever\n/usr/local/lib/python3.7/dist-packages/tornado/platform/asyncio.py(132): start\n/usr/local/lib/python3.7/dist-packages/ipykernel/kernelapp.py(499): start\n/usr/local/lib/python3.7/dist-packages/traitlets/config/application.py(845): launch_instance\n/usr/local/lib/python3.7/dist-packages/ipykernel_launcher.py(16): <module>\n/usr/lib/python3.7/runpy.py(85): _run_code\n/usr/lib/python3.7/runpy.py(193): _run_module_as_main\n"
          ]
        }
      ]
    },
    {
      "cell_type": "markdown",
      "metadata": {
        "id": "wq8UM0dTs23i"
      },
      "source": [
        "# Reference"
      ]
    },
    {
      "cell_type": "code",
      "metadata": {
        "id": "JPSqdPDq_trl"
      },
      "source": [
        ""
      ],
      "execution_count": null,
      "outputs": []
    },
    {
      "cell_type": "markdown",
      "metadata": {
        "id": "wkAAWKf8s5eh"
      },
      "source": [
        "stackoverflow\n",
        "https://stackoverflow.com/questions/26053982/setup-script-exited-with-error-command-x86-64-linux-gnu-gcc-failed-with-exit\n",
        "\n",
        "https://askubuntu.com/questions/1219870/error-command-x86-64-linux-gnu-gcc-failed-with-exit-status-1-for-lssl-and-lc\n",
        "\n",
        "solutions:\n",
        "\n",
        "!apt-get install libssl-dev portaudio19-dev python3.7-dev\n"
      ]
    },
    {
      "cell_type": "code",
      "metadata": {
        "id": "m6ZLEUo1tG3O"
      },
      "source": [
        ""
      ],
      "execution_count": null,
      "outputs": []
    }
  ]
}