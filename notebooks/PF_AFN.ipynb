{
  "nbformat": 4,
  "nbformat_minor": 0,
  "metadata": {
    "colab": {
      "name": "PF-AFN.ipynb",
      "provenance": [],
      "collapsed_sections": []
    },
    "kernelspec": {
      "name": "python3",
      "display_name": "Python 3"
    },
    "language_info": {
      "name": "python"
    },
    "accelerator": "GPU"
  },
  "cells": [
    {
      "cell_type": "markdown",
      "metadata": {
        "id": "lK852SZEvCqi"
      },
      "source": [
        "# RUN"
      ]
    },
    {
      "cell_type": "code",
      "metadata": {
        "colab": {
          "base_uri": "https://localhost:8080/"
        },
        "id": "vlW_tzYidHP3",
        "outputId": "afdb4261-5239-4063-b09b-86d2e7ec39b4"
      },
      "source": [
        "!git clone https://github.com/geyuying/PF-AFN.git"
      ],
      "execution_count": null,
      "outputs": [
        {
          "output_type": "stream",
          "text": [
            "Cloning into 'PF-AFN'...\n",
            "remote: Enumerating objects: 383, done.\u001b[K\n",
            "remote: Counting objects: 100% (186/186), done.\u001b[K\n",
            "remote: Compressing objects: 100% (140/140), done.\u001b[K\n",
            "remote: Total 383 (delta 74), reused 118 (delta 35), pack-reused 197\u001b[K\n",
            "Receiving objects: 100% (383/383), 4.49 MiB | 5.05 MiB/s, done.\n",
            "Resolving deltas: 100% (129/129), done.\n"
          ],
          "name": "stdout"
        }
      ]
    },
    {
      "cell_type": "code",
      "metadata": {
        "id": "85l6JoV_n2Cj",
        "colab": {
          "base_uri": "https://localhost:8080/"
        },
        "outputId": "e0c49150-22cd-4ead-9d2d-0746b913c76a"
      },
      "source": [
        "!pip install torch==1.1.0 torchvision==0.3.0"
      ],
      "execution_count": null,
      "outputs": [
        {
          "output_type": "stream",
          "text": [
            "Collecting torch==1.1.0\n",
            "\u001b[?25l  Downloading https://files.pythonhosted.org/packages/ac/23/a4b5c189dd624411ec84613b717594a00480282b949e3448d189c4aa4e47/torch-1.1.0-cp37-cp37m-manylinux1_x86_64.whl (676.9MB)\n",
            "\u001b[K     |████████████████████████████████| 676.9MB 27kB/s \n",
            "\u001b[?25hCollecting torchvision==0.3.0\n",
            "\u001b[?25l  Downloading https://files.pythonhosted.org/packages/cc/9b/208f48d5a5013bdb0c27a84a02df4fcf5fd24ab5902667c11e554a12b681/torchvision-0.3.0-cp37-cp37m-manylinux1_x86_64.whl (2.6MB)\n",
            "\u001b[K     |████████████████████████████████| 2.6MB 45.1MB/s \n",
            "\u001b[?25hRequirement already satisfied: numpy in /usr/local/lib/python3.7/dist-packages (from torch==1.1.0) (1.19.5)\n",
            "Requirement already satisfied: six in /usr/local/lib/python3.7/dist-packages (from torchvision==0.3.0) (1.15.0)\n",
            "Requirement already satisfied: pillow>=4.1.1 in /usr/local/lib/python3.7/dist-packages (from torchvision==0.3.0) (7.1.2)\n",
            "\u001b[31mERROR: torchtext 0.10.0 has requirement torch==1.9.0, but you'll have torch 1.1.0 which is incompatible.\u001b[0m\n",
            "Installing collected packages: torch, torchvision\n",
            "  Found existing installation: torch 1.9.0+cu102\n",
            "    Uninstalling torch-1.9.0+cu102:\n",
            "      Successfully uninstalled torch-1.9.0+cu102\n",
            "  Found existing installation: torchvision 0.10.0+cu102\n",
            "    Uninstalling torchvision-0.10.0+cu102:\n",
            "      Successfully uninstalled torchvision-0.10.0+cu102\n",
            "Successfully installed torch-1.1.0 torchvision-0.3.0\n"
          ],
          "name": "stdout"
        }
      ]
    },
    {
      "cell_type": "code",
      "metadata": {
        "id": "OtR2EA37lz94"
      },
      "source": [
        "# !pip install onnx==1.3.0"
      ],
      "execution_count": null,
      "outputs": []
    },
    {
      "cell_type": "code",
      "metadata": {
        "id": "aK4u-XOcRHS4",
        "colab": {
          "base_uri": "https://localhost:8080/"
        },
        "outputId": "80b487ec-95c2-456c-9bf7-968540659993"
      },
      "source": [
        "# !pip install torch==1.0.0\n",
        "!pip install torch==1.6.0\n",
        "# !pip install torch==1.3.0"
      ],
      "execution_count": null,
      "outputs": [
        {
          "output_type": "stream",
          "text": [
            "Collecting torch==1.6.0\n",
            "\u001b[?25l  Downloading https://files.pythonhosted.org/packages/5d/5e/35140615fc1f925023f489e71086a9ecc188053d263d3594237281284d82/torch-1.6.0-cp37-cp37m-manylinux1_x86_64.whl (748.8MB)\n",
            "\u001b[K     |████████████████████████████████| 748.8MB 23kB/s \n",
            "\u001b[?25hRequirement already satisfied: future in /usr/local/lib/python3.7/dist-packages (from torch==1.6.0) (0.16.0)\n",
            "Requirement already satisfied: numpy in /usr/local/lib/python3.7/dist-packages (from torch==1.6.0) (1.19.5)\n",
            "\u001b[31mERROR: torchvision 0.10.0+cu102 has requirement torch==1.9.0, but you'll have torch 1.6.0 which is incompatible.\u001b[0m\n",
            "\u001b[31mERROR: torchtext 0.10.0 has requirement torch==1.9.0, but you'll have torch 1.6.0 which is incompatible.\u001b[0m\n",
            "Installing collected packages: torch\n",
            "  Found existing installation: torch 1.9.0+cu102\n",
            "    Uninstalling torch-1.9.0+cu102:\n",
            "      Successfully uninstalled torch-1.9.0+cu102\n",
            "Successfully installed torch-1.6.0\n"
          ],
          "name": "stdout"
        }
      ]
    },
    {
      "cell_type": "code",
      "metadata": {
        "colab": {
          "base_uri": "https://localhost:8080/"
        },
        "id": "nFRjRCyMdZRX",
        "outputId": "dff03d41-3769-40f4-d797-be9b8404dfb5"
      },
      "source": [
        "%cd PF-AFN\n",
        "%cd PF-AFN_test"
      ],
      "execution_count": null,
      "outputs": [
        {
          "output_type": "stream",
          "text": [
            "/content/PF-AFN\n",
            "/content/PF-AFN/PF-AFN_test\n"
          ],
          "name": "stdout"
        }
      ]
    },
    {
      "cell_type": "code",
      "metadata": {
        "colab": {
          "base_uri": "https://localhost:8080/"
        },
        "id": "q2vuxJsgdeG-",
        "outputId": "455a1a51-3686-4d8a-ee3f-ac5143839164"
      },
      "source": [
        "!pip install gdown"
      ],
      "execution_count": null,
      "outputs": [
        {
          "output_type": "stream",
          "text": [
            "Requirement already satisfied: gdown in /usr/local/lib/python3.7/dist-packages (3.6.4)\n",
            "Requirement already satisfied: requests in /usr/local/lib/python3.7/dist-packages (from gdown) (2.23.0)\n",
            "Requirement already satisfied: six in /usr/local/lib/python3.7/dist-packages (from gdown) (1.15.0)\n",
            "Requirement already satisfied: tqdm in /usr/local/lib/python3.7/dist-packages (from gdown) (4.41.1)\n",
            "Requirement already satisfied: chardet<4,>=3.0.2 in /usr/local/lib/python3.7/dist-packages (from requests->gdown) (3.0.4)\n",
            "Requirement already satisfied: certifi>=2017.4.17 in /usr/local/lib/python3.7/dist-packages (from requests->gdown) (2021.5.30)\n",
            "Requirement already satisfied: idna<3,>=2.5 in /usr/local/lib/python3.7/dist-packages (from requests->gdown) (2.10)\n",
            "Requirement already satisfied: urllib3!=1.25.0,!=1.25.1,<1.26,>=1.21.1 in /usr/local/lib/python3.7/dist-packages (from requests->gdown) (1.24.3)\n"
          ],
          "name": "stdout"
        }
      ]
    },
    {
      "cell_type": "code",
      "metadata": {
        "colab": {
          "base_uri": "https://localhost:8080/"
        },
        "id": "soM1Yqkdfrk2",
        "outputId": "ccdf86ee-ebab-447a-c30a-67c6572d96a3"
      },
      "source": [
        "!gdown --id 1_a0AiN8Y_d_9TNDhHIcRlERz3zptyYWV -O checkpoints.zip\n",
        "# !gdown --id 1Pz2kA65N4Ih9w6NFYBDmdtVdB-nrrdc3 -O checkpoints_github.zip"
      ],
      "execution_count": null,
      "outputs": [
        {
          "output_type": "stream",
          "text": [
            "Downloading...\n",
            "From: https://drive.google.com/uc?id=1_a0AiN8Y_d_9TNDhHIcRlERz3zptyYWV\n",
            "To: /content/PF-AFN/PF-AFN_test/checkpoints.zip\n",
            "271MB [00:03, 82.5MB/s]\n"
          ],
          "name": "stdout"
        }
      ]
    },
    {
      "cell_type": "code",
      "metadata": {
        "colab": {
          "base_uri": "https://localhost:8080/"
        },
        "id": "kNkSexS-f7u6",
        "outputId": "48c8e831-3092-4aaf-bfdf-6a4c30668864"
      },
      "source": [
        "!rm -rf checkpoints\n",
        "!unzip checkpoints.zip"
      ],
      "execution_count": null,
      "outputs": [
        {
          "output_type": "stream",
          "text": [
            "Archive:  checkpoints.zip\n",
            "   creating: checkpoints/\n",
            "  inflating: checkpoints/.DS_Store   \n",
            "  inflating: __MACOSX/checkpoints/._.DS_Store  \n",
            "   creating: checkpoints/PFAFN/\n",
            "  inflating: checkpoints/PFAFN/.DS_Store  \n",
            "  inflating: __MACOSX/checkpoints/PFAFN/._.DS_Store  \n",
            "  inflating: checkpoints/PFAFN/gen_model_final.pth  \n",
            "  inflating: checkpoints/PFAFN/warp_model_final.pth  \n"
          ],
          "name": "stdout"
        }
      ]
    },
    {
      "cell_type": "code",
      "metadata": {
        "id": "sZEg4BZ6lNuv"
      },
      "source": [
        "# !cp checkpoints_github/PFAFN_gen_epoch_101.pth checkpoints/PFAFN/gen_model_final.pth\n",
        "# !cp checkpoints_github/PFAFN_warp_epoch_101.pth checkpoints/PFAFN/warp_model_final.pth  "
      ],
      "execution_count": null,
      "outputs": []
    },
    {
      "cell_type": "code",
      "metadata": {
        "id": "JszUEIJSdotg",
        "colab": {
          "base_uri": "https://localhost:8080/"
        },
        "outputId": "3c4f5ecc-a495-44fd-fd79-024c707cd0cc"
      },
      "source": [
        "!sh test.sh"
      ],
      "execution_count": null,
      "outputs": [
        {
          "output_type": "stream",
          "text": [
            "Traceback (most recent call last):\n",
            "  File \"test.py\", line 5, in <module>\n",
            "    from models.afwm import AFWM\n",
            "  File \"/content/PF-AFN/PF-AFN_test/models/afwm.py\", line 4, in <module>\n",
            "    from .correlation import correlation\n",
            "  File \"/content/PF-AFN/PF-AFN_test/models/correlation/correlation.py\", line 274, in <module>\n",
            "    @cupy.util.memoize(for_each_device=True)\n",
            "  File \"/usr/local/lib/python3.7/dist-packages/cupy/__init__.py\", line 875, in __getattr__\n",
            "    f\"module 'cupy' has no attribute {name!r}\")\n",
            "AttributeError: module 'cupy' has no attribute 'util'\n"
          ],
          "name": "stdout"
        }
      ]
    },
    {
      "cell_type": "markdown",
      "metadata": {
        "id": "9yzo_BndMSRi"
      },
      "source": [
        "# Pytorch-Correlation-extension"
      ]
    },
    {
      "cell_type": "code",
      "metadata": {
        "id": "1D5vLH4aMYtr"
      },
      "source": [
        "!cp -r /usr/local/cuda-10.1/include/* /usr/include/"
      ],
      "execution_count": null,
      "outputs": []
    },
    {
      "cell_type": "code",
      "metadata": {
        "colab": {
          "base_uri": "https://localhost:8080/"
        },
        "id": "s_Z6deWAMaEI",
        "outputId": "32303da1-24c7-4671-8b43-568d0533330a"
      },
      "source": [
        "!pip install git+https://github.com/tommy19970714/Pytorch-Correlation-extension.git@support-operator"
      ],
      "execution_count": null,
      "outputs": [
        {
          "output_type": "stream",
          "text": [
            "Collecting git+https://github.com/tommy19970714/Pytorch-Correlation-extension.git@support-operator\n",
            "  Cloning https://github.com/tommy19970714/Pytorch-Correlation-extension.git (to revision support-operator) to /tmp/pip-req-build-txwwivtf\n",
            "  Running command git clone -q https://github.com/tommy19970714/Pytorch-Correlation-extension.git /tmp/pip-req-build-txwwivtf\n",
            "  Running command git checkout -b support-operator --track origin/support-operator\n",
            "  Switched to a new branch 'support-operator'\n",
            "  Branch 'support-operator' set up to track remote branch 'support-operator' from 'origin'.\n",
            "Requirement already satisfied: torch>=1.1 in /usr/local/lib/python3.7/dist-packages (from spatial-correlation-sampler==0.3.0) (1.6.0)\n",
            "Requirement already satisfied: numpy in /usr/local/lib/python3.7/dist-packages (from spatial-correlation-sampler==0.3.0) (1.19.5)\n",
            "Requirement already satisfied: future in /usr/local/lib/python3.7/dist-packages (from torch>=1.1->spatial-correlation-sampler==0.3.0) (0.16.0)\n",
            "Building wheels for collected packages: spatial-correlation-sampler\n",
            "  Building wheel for spatial-correlation-sampler (setup.py) ... \u001b[?25l\u001b[?25hdone\n",
            "  Created wheel for spatial-correlation-sampler: filename=spatial_correlation_sampler-0.3.0-cp37-cp37m-linux_x86_64.whl size=2616518 sha256=9f35cfb9832ca2360764b24fa168016855485a5aa83d23ac281bd1b1b7ac8cc4\n",
            "  Stored in directory: /tmp/pip-ephem-wheel-cache-i8e4tzxo/wheels/84/c1/c0/397e3ede95a8df8bf8ff91328fa257d0013eb28d69337c0441\n",
            "Successfully built spatial-correlation-sampler\n",
            "Installing collected packages: spatial-correlation-sampler\n",
            "Successfully installed spatial-correlation-sampler-0.3.0\n"
          ],
          "name": "stdout"
        }
      ]
    },
    {
      "cell_type": "code",
      "metadata": {
        "colab": {
          "base_uri": "https://localhost:8080/"
        },
        "id": "ebZe5_6SE_l3",
        "outputId": "d7c6c2a3-8567-42ec-c358-eb5caa381563"
      },
      "source": [
        "!pip install spatial-correlation-sampler"
      ],
      "execution_count": null,
      "outputs": [
        {
          "output_type": "stream",
          "text": [
            "Collecting spatial-correlation-sampler\n",
            "  Downloading https://files.pythonhosted.org/packages/73/99/fbfcb914944c390e59aefd29c17fba2dd7d647a8b58385ca39ed0a32765f/spatial_correlation_sampler-0.3.0.tar.gz\n",
            "Requirement already satisfied: torch>=1.1 in /usr/local/lib/python3.7/dist-packages (from spatial-correlation-sampler) (1.1.0)\n",
            "Requirement already satisfied: numpy in /usr/local/lib/python3.7/dist-packages (from spatial-correlation-sampler) (1.19.5)\n",
            "Building wheels for collected packages: spatial-correlation-sampler\n",
            "  Building wheel for spatial-correlation-sampler (setup.py) ... \u001b[?25lerror\n",
            "\u001b[31m  ERROR: Failed building wheel for spatial-correlation-sampler\u001b[0m\n",
            "\u001b[?25h  Running setup.py clean for spatial-correlation-sampler\n",
            "Failed to build spatial-correlation-sampler\n",
            "Installing collected packages: spatial-correlation-sampler\n",
            "    Running setup.py install for spatial-correlation-sampler ... \u001b[?25l\u001b[?25herror\n",
            "\u001b[31mERROR: Command errored out with exit status 1: /usr/bin/python3 -u -c 'import sys, setuptools, tokenize; sys.argv[0] = '\"'\"'/tmp/pip-install-jx7q29kw/spatial-correlation-sampler/setup.py'\"'\"'; __file__='\"'\"'/tmp/pip-install-jx7q29kw/spatial-correlation-sampler/setup.py'\"'\"';f=getattr(tokenize, '\"'\"'open'\"'\"', open)(__file__);code=f.read().replace('\"'\"'\\r\\n'\"'\"', '\"'\"'\\n'\"'\"');f.close();exec(compile(code, __file__, '\"'\"'exec'\"'\"'))' install --record /tmp/pip-record-6m0bohjh/install-record.txt --single-version-externally-managed --compile Check the logs for full command output.\u001b[0m\n"
          ],
          "name": "stdout"
        }
      ]
    },
    {
      "cell_type": "markdown",
      "metadata": {
        "id": "uNkJrxvnsq5h"
      },
      "source": [
        "# Grid_sample"
      ]
    },
    {
      "cell_type": "code",
      "metadata": {
        "id": "DnGRKnnmssUx"
      },
      "source": [
        "import torch\n",
        "import torch.nn as nn\n",
        "import torch.nn.functional as F\n",
        "\n",
        "class GridSample(torch.autograd.Function):\n",
        "    @staticmethod\n",
        "    def symbolic(g, x, grid):\n",
        "        return g.op('GridSample', x, grid)\n",
        "\n",
        "    @staticmethod\n",
        "    def forward(self, x, grid):\n",
        "        return F.grid_sample(x, grid, 'bilinear', 'border')\n",
        "        # F.grid_sample(x, grid, 'bilinear', 'zeros')"
      ],
      "execution_count": null,
      "outputs": []
    },
    {
      "cell_type": "code",
      "metadata": {
        "id": "qAKd_QEttZAh"
      },
      "source": [
        "class GridSampleModel(nn.Module):\n",
        "    def __init__(self):\n",
        "        super(GridSampleModel, self).__init__()\n",
        "        self.grid_sample = GridSample()\n",
        "\n",
        "    def forward(self, x, grid):\n",
        "        return self.grid_sample.apply(x, grid)"
      ],
      "execution_count": null,
      "outputs": []
    },
    {
      "cell_type": "code",
      "metadata": {
        "colab": {
          "base_uri": "https://localhost:8080/"
        },
        "id": "PJo-QLmItejK",
        "outputId": "d162a99f-5702-4796-ae21-8f905f05660a"
      },
      "source": [
        "from torch.autograd import Variable\n",
        "import numpy as np\n",
        "model = GridSampleModel()\n",
        "inp = Variable(torch.randn([5, 3, 6, 9]))\n",
        "grid = torch.Tensor(np.random.uniform(low=-2, high=2, size=[5, 6, 9, 2]))\n",
        "model.eval()\n",
        "model(inp, grid)"
      ],
      "execution_count": null,
      "outputs": [
        {
          "output_type": "stream",
          "text": [
            "/usr/local/lib/python3.7/dist-packages/torch/nn/functional.py:3982: UserWarning: Default grid_sample and affine_grid behavior has changed to align_corners=False since 1.3.0. Please specify align_corners=True if the old behavior is desired. See the documentation of grid_sample for details.\n",
            "  \"Default grid_sample and affine_grid behavior has changed \"\n"
          ],
          "name": "stderr"
        },
        {
          "output_type": "execute_result",
          "data": {
            "text/plain": [
              "tensor([[[[-3.8512e-01,  7.1817e-02, -4.6175e-01, -7.2922e-01,  1.4785e-01,\n",
              "           -5.6273e-01, -5.0839e-01, -7.9992e-01, -7.2922e-01],\n",
              "          [-7.2922e-01, -7.2922e-01, -7.3690e-01, -7.2922e-01, -5.4745e-01,\n",
              "           -2.3963e+00, -3.4604e-01,  1.3259e+00, -7.2922e-01],\n",
              "          [ 2.1563e-01, -7.2922e-01,  7.1817e-02, -5.0839e-01, -6.8549e-01,\n",
              "           -7.5536e-01, -5.0839e-01, -7.3214e-01, -3.5030e-01],\n",
              "          [-5.5661e-01, -2.8230e-01,  1.5501e+00, -7.2922e-01, -1.3897e-01,\n",
              "            5.4048e-01, -2.7888e-01, -9.2824e-02,  3.6527e-01],\n",
              "          [-7.8821e-02, -5.0839e-01, -3.2358e-01, -1.8499e-01, -5.3043e-01,\n",
              "           -1.5879e+00,  7.1817e-02, -6.8172e-01, -2.4848e-01],\n",
              "          [ 2.0358e-01, -7.4064e-01, -2.6377e+00,  8.1480e-01, -1.8499e-01,\n",
              "           -1.0288e+00, -5.0839e-01, -2.6799e-01,  2.3438e-01]],\n",
              "\n",
              "         [[ 3.2769e-01, -2.6614e-01,  8.8620e-01,  3.8695e-01,  3.9650e-01,\n",
              "            2.3132e-01, -1.0399e+00,  2.5636e-01,  3.8695e-01],\n",
              "          [ 3.8695e-01,  3.8695e-01,  4.1082e-01,  3.8695e-01, -1.2157e+00,\n",
              "            1.1028e+00, -2.3380e-01,  2.1524e-01,  3.8695e-01],\n",
              "          [-1.1102e-01,  3.8695e-01, -2.6614e-01, -1.0399e+00,  5.7421e-01,\n",
              "            4.6820e-01, -1.0399e+00,  3.9605e-01,  6.3901e-01],\n",
              "          [-1.2570e+00,  2.3851e-01,  1.1806e-01,  3.8695e-01,  7.7649e-01,\n",
              "           -6.1295e-01, -9.3920e-02,  2.6927e-01,  6.9877e-01],\n",
              "          [ 5.9605e-04, -1.0399e+00, -1.2228e-01,  1.0477e-01, -1.1391e+00,\n",
              "            1.1337e+00, -2.6614e-01,  3.8747e-01,  2.5056e-01],\n",
              "          [-4.9109e-01, -7.1663e-01,  1.0714e+00,  4.2485e-01,  1.0477e-01,\n",
              "            4.1807e-01, -1.0399e+00,  1.5370e-01,  8.5326e-01]],\n",
              "\n",
              "         [[ 1.4862e+00, -8.1617e-01,  1.2272e-01, -4.8437e-01, -1.2179e-01,\n",
              "           -2.9033e-01, -8.7812e-01, -1.2023e+00, -4.8437e-01],\n",
              "          [-4.8437e-01, -4.8437e-01, -4.4928e-01, -4.8437e-01, -4.1137e-01,\n",
              "            1.5151e+00, -1.0951e+00,  4.2357e-01, -4.8437e-01],\n",
              "          [-6.4424e-02, -4.8437e-01, -8.1617e-01, -8.7812e-01, -1.0921e+00,\n",
              "           -3.6490e-01, -8.7812e-01, -4.7100e-01, -8.1936e-01],\n",
              "          [-3.0183e-01,  1.7505e+00,  5.4618e-01, -4.8437e-01, -4.4857e-01,\n",
              "            8.5999e-01,  6.1171e-01, -2.2442e-01, -1.3360e-01],\n",
              "          [ 5.8089e-01, -8.7812e-01, -1.1251e+00, -1.6487e-01, -6.1466e-01,\n",
              "            8.1941e-01, -8.1617e-01, -4.6474e-01, -1.2254e+00],\n",
              "          [ 1.0104e+00,  5.1333e-01,  1.5653e+00,  4.2302e-02, -1.6487e-01,\n",
              "           -5.5993e-01, -8.7812e-01, -1.1993e+00, -4.3583e-01]]],\n",
              "\n",
              "\n",
              "        [[[ 1.0721e+00, -3.5592e-02,  6.6411e-01, -5.4965e-01,  8.9367e-02,\n",
              "            9.8826e-01, -6.8637e-01, -5.2509e-01, -4.3944e-02],\n",
              "          [ 2.6818e-01, -2.3465e-01,  7.9434e-01, -3.1415e-01, -4.3944e-02,\n",
              "           -1.1065e+00, -1.7790e+00,  2.3161e-01, -8.6337e-01],\n",
              "          [-5.3246e-01, -1.8290e+00,  1.0721e+00,  7.9703e-01, -1.8290e+00,\n",
              "           -7.7027e-01, -5.8238e-01, -6.1815e-01, -1.8290e+00],\n",
              "          [ 1.1522e+00,  3.7528e-01, -5.8238e-01,  8.1487e-03,  1.6152e-01,\n",
              "            8.6084e-01, -1.8290e+00, -7.1516e-01,  1.0721e+00],\n",
              "          [-1.0294e+00, -5.8238e-01, -1.8290e+00, -1.9968e-01,  1.0721e+00,\n",
              "           -4.3944e-02, -1.8290e+00, -4.1525e-01,  7.4307e-02],\n",
              "          [-4.7365e-01, -1.8290e+00,  3.5982e-01, -1.8290e+00, -4.1647e-01,\n",
              "           -7.2556e-01, -1.8290e+00,  1.0873e+00, -7.5824e-01]],\n",
              "\n",
              "         [[-1.0704e+00,  1.4766e+00, -5.2887e-01, -6.0041e-01, -3.0423e-01,\n",
              "           -1.3924e+00,  3.0847e-01,  9.0269e-01, -6.4702e-01],\n",
              "          [-1.0431e+00, -1.8731e-01, -9.2402e-01, -3.3613e-02, -6.4702e-01,\n",
              "           -1.4660e+00, -4.5055e-01, -8.0739e-01, -1.1270e-01],\n",
              "          [-7.8008e-01, -5.8826e-01, -1.0704e+00, -2.1364e-01, -5.8826e-01,\n",
              "            6.1704e-01,  7.3645e-01, -6.2951e-01, -5.8826e-01],\n",
              "          [-1.0500e+00, -1.2482e+00,  7.3645e-01, -5.9705e-01, -1.8826e-01,\n",
              "           -5.6705e-01, -5.8826e-01, -8.2475e-01, -1.0704e+00],\n",
              "          [ 5.1972e-01,  7.3645e-01, -5.8826e-01, -3.2902e-01, -1.0704e+00,\n",
              "           -6.4702e-01, -5.8826e-01,  9.4101e-02, -8.1412e-01],\n",
              "          [-5.6811e-01, -5.8826e-01, -2.1397e-01, -5.8826e-01,  9.5634e-02,\n",
              "            1.1056e+00, -5.8826e-01, -6.4054e-02,  4.6864e-01]],\n",
              "\n",
              "         [[-1.5816e+00, -6.4419e-01,  5.1925e-01, -1.2231e+00,  2.2812e-01,\n",
              "           -1.1377e+00,  1.3189e+00, -8.6188e-02,  7.8008e-01],\n",
              "          [ 4.4214e-01, -2.6068e-01, -1.1185e+00, -5.6899e-01,  7.8008e-01,\n",
              "           -1.6448e+00,  9.1473e-01,  6.2486e-01, -1.3727e+00],\n",
              "          [-3.9579e-02,  2.6103e+00, -1.5816e+00, -5.6698e-02,  2.6103e+00,\n",
              "           -8.4923e-01, -4.3241e-01, -1.3914e+00,  2.6103e+00],\n",
              "          [ 8.6415e-02,  6.7009e-01, -4.3241e-01,  8.2706e-01, -4.2302e-01,\n",
              "           -1.1951e+00,  2.6103e+00,  8.4803e-02, -1.5816e+00],\n",
              "          [-1.0290e+00, -4.3241e-01,  2.6103e+00, -1.4835e-02, -1.5816e+00,\n",
              "            7.8008e-01,  2.6103e+00, -5.6163e-01,  4.7055e-01],\n",
              "          [-1.0364e+00,  2.6103e+00,  1.0113e+00,  2.6103e+00, -5.6154e-01,\n",
              "           -1.2230e+00,  2.6103e+00, -3.4552e-01, -5.7773e-01]]],\n",
              "\n",
              "\n",
              "        [[[-6.5232e-01, -6.8174e-01,  1.1787e+00,  9.0221e-01,  8.6767e-01,\n",
              "           -1.4121e+00, -4.3544e-01, -6.6206e-01,  2.4414e-01],\n",
              "          [-1.4121e+00,  7.7736e-01,  1.2423e+00, -1.4121e+00,  6.7936e-01,\n",
              "           -6.2246e-01,  9.2424e-02, -4.4879e-03, -1.4121e+00],\n",
              "          [ 5.6337e-01,  1.2423e+00,  5.8920e-01,  1.1787e+00,  2.6538e-01,\n",
              "            1.1787e+00,  1.0326e+00, -2.8676e-01, -1.4121e+00],\n",
              "          [ 1.2446e-01,  7.0733e-01, -4.7253e-01, -1.4121e+00, -3.0230e-01,\n",
              "           -3.0230e-01, -4.0066e-01, -5.8750e-01,  6.5641e-01],\n",
              "          [ 5.7506e-02, -6.8454e-01, -3.0230e-01, -3.0230e-01,  1.2423e+00,\n",
              "            1.0886e+00,  1.1787e+00, -1.4121e+00, -7.0641e-01],\n",
              "          [ 1.6467e+00, -1.3287e+00, -1.2817e+00, -3.0230e-01, -3.6291e-01,\n",
              "           -2.6268e+00, -4.7297e-01,  1.1787e+00, -1.4121e+00]],\n",
              "\n",
              "         [[-3.1031e-01,  7.1724e-01,  1.7352e-01,  1.1960e+00,  3.5188e-01,\n",
              "            1.0770e-01, -1.9049e-01, -1.3920e-01, -1.2057e+00],\n",
              "          [ 1.0770e-01, -3.2349e-01, -5.2547e-01,  1.0770e-01,  1.3864e-01,\n",
              "           -5.3913e-01,  1.9156e-01, -6.5666e-01,  1.0770e-01],\n",
              "          [-1.2307e+00, -5.2547e-01,  6.0826e-01,  1.7352e-01, -5.3065e-01,\n",
              "            1.7352e-01, -1.8618e-01, -1.8931e-01,  1.0770e-01],\n",
              "          [-3.7595e-01, -3.1249e-01,  5.8021e-02,  1.0770e-01, -7.1606e-01,\n",
              "           -7.1606e-01, -2.4728e-01, -1.5608e-01,  7.3324e-01],\n",
              "          [-8.3163e-01, -6.8387e-01, -7.1606e-01, -7.1606e-01, -5.2547e-01,\n",
              "            9.6574e-01,  1.7352e-01,  1.0770e-01, -6.9500e-01],\n",
              "          [ 4.5554e-01,  1.1673e-02,  1.6904e-01, -7.1606e-01,  2.6541e-01,\n",
              "            2.5494e-01,  1.0404e+00,  1.7352e-01,  1.0770e-01]],\n",
              "\n",
              "         [[ 1.0600e+00,  1.1179e+00,  2.8941e-01, -6.2975e-01,  3.8203e-01,\n",
              "           -8.9731e-01,  2.4776e-01,  1.2205e-01,  1.8667e-01],\n",
              "          [-8.9731e-01,  7.5594e-01,  3.4848e-01, -8.9731e-01,  1.7438e+00,\n",
              "           -8.9074e-01,  4.9963e-01, -2.6019e-01, -8.9731e-01],\n",
              "          [ 5.4679e-02,  3.4848e-01,  1.0082e-01,  2.8941e-01, -1.0915e+00,\n",
              "            2.8941e-01,  7.0070e-01,  3.7383e-01, -8.9731e-01],\n",
              "          [-1.7423e+00,  1.1124e+00, -5.8901e-01, -8.9731e-01, -1.1658e-01,\n",
              "           -1.1658e-01, -7.5992e-01,  1.6341e-01,  5.3482e-01],\n",
              "          [-1.0220e+00, -6.5864e-01, -1.1658e-01, -1.1658e-01,  3.4848e-01,\n",
              "           -2.1815e-01,  2.8941e-01, -8.9731e-01, -6.9542e-01],\n",
              "          [-1.0692e-01, -2.4775e-01, -8.8223e-01, -1.1658e-01,  8.7894e-01,\n",
              "            3.4733e-01,  1.1536e+00,  2.8941e-01, -8.9731e-01]]],\n",
              "\n",
              "\n",
              "        [[[-9.0273e-01, -1.0785e+00,  3.8056e-01,  3.9459e-01,  3.9459e-01,\n",
              "           -4.5070e-01,  1.4668e+00, -4.3105e-02,  3.9459e-01],\n",
              "          [ 2.2007e+00,  6.7292e-02, -2.8223e-01,  4.1803e-01,  6.2739e-01,\n",
              "            6.2739e-01, -7.1675e-01,  3.8837e-01,  6.2739e-01],\n",
              "          [-1.3864e+00,  1.6792e+00, -7.8163e-01, -1.9842e-01,  6.3869e-01,\n",
              "           -7.6843e-01, -2.1962e-01,  1.6494e+00, -4.3330e-01],\n",
              "          [ 1.4668e+00,  6.2739e-01,  3.9459e-01, -3.0245e-01,  3.9459e-01,\n",
              "            2.0088e-01,  9.9077e-01, -3.8437e-01, -4.7135e-01],\n",
              "          [ 3.8297e-01,  3.4493e-01,  1.2070e+00, -2.1890e-01,  1.4668e+00,\n",
              "            3.9459e-01, -2.0478e-01,  9.5170e-01, -6.4817e-01],\n",
              "          [ 9.4047e-01,  1.4094e+00,  1.3643e+00,  4.9636e-01,  2.1899e+00,\n",
              "            1.1207e+00, -1.0815e+00,  6.2739e-01, -1.1733e+00]],\n",
              "\n",
              "         [[-1.1306e+00,  9.4706e-01,  3.5589e-01, -9.7839e-01, -9.7839e-01,\n",
              "           -1.0775e+00, -1.7788e-01,  1.3171e+00, -9.7839e-01],\n",
              "          [ 1.4108e+00,  1.1713e-01,  1.0147e+00,  9.3903e-02,  7.4322e-01,\n",
              "            7.4322e-01,  1.3747e+00, -5.8220e-01,  7.4322e-01],\n",
              "          [ 5.2161e-01,  1.2067e+00,  1.5350e-01, -1.9901e-01,  4.6680e-01,\n",
              "           -3.7788e-01, -5.2585e-01,  1.3243e+00, -2.2848e-01],\n",
              "          [-1.7788e-01,  7.4322e-01, -9.7839e-01,  3.9870e-01, -9.7839e-01,\n",
              "           -5.0926e-01, -2.7087e-01,  4.2163e-01, -7.5179e-01],\n",
              "          [ 3.8666e-01,  1.7893e-01, -1.3300e-01,  4.1728e-01, -1.7788e-01,\n",
              "           -9.7839e-01,  6.3147e-01,  1.2319e+00, -3.2427e-01],\n",
              "          [-5.3741e-01,  1.2180e+00,  1.1980e+00,  6.3704e-01,  1.4514e+00,\n",
              "            9.5255e-01, -1.2035e-01,  7.4322e-01, -5.4867e-01]],\n",
              "\n",
              "         [[ 9.9795e-01, -1.4684e+00,  1.9424e+00, -1.8344e+00, -1.8344e+00,\n",
              "            1.1041e-02, -2.1280e+00, -2.2781e+00, -1.8344e+00],\n",
              "          [ 5.9859e-01, -6.9779e-01,  6.2925e-02, -3.3644e-01, -2.6394e+00,\n",
              "           -2.6394e+00, -2.6137e+00, -1.7229e+00, -2.6394e+00],\n",
              "          [-3.1839e-01,  7.0885e-02, -1.2059e+00, -8.8159e-01, -7.0986e-01,\n",
              "           -9.1912e-01, -2.9760e-01, -6.4770e-01, -1.9952e-01],\n",
              "          [-2.1280e+00, -2.6394e+00, -1.8344e+00,  1.8026e-01, -1.8344e+00,\n",
              "           -1.0465e-01,  1.3227e+00,  1.0790e-01,  2.2689e-01],\n",
              "          [ 3.7421e-01, -7.8452e-01, -1.9361e+00,  2.4061e-01, -2.1280e+00,\n",
              "           -1.8344e+00,  2.6822e-01, -1.7826e+00, -6.6090e-01],\n",
              "          [-1.5346e-01, -1.4237e+00, -1.5697e+00, -9.0217e-01,  5.7062e-01,\n",
              "           -1.6240e+00, -2.1223e-01, -2.6394e+00,  9.7960e-01]]],\n",
              "\n",
              "\n",
              "        [[[ 1.1814e+00, -1.1836e-01,  1.9722e-01, -3.8484e-01,  5.0351e-01,\n",
              "           -5.2103e-01,  7.2888e-01, -1.0572e-01, -1.0572e-01],\n",
              "          [ 5.2983e-01, -8.6773e-01, -1.2098e-01,  3.3167e-01,  1.4175e+00,\n",
              "            5.6986e-01, -8.6529e-01, -1.3311e+00, -1.0572e-01],\n",
              "          [-1.8618e+00, -1.4334e+00, -4.0347e-01, -1.2875e-01, -6.7217e-01,\n",
              "           -5.5050e-01,  4.2997e-01,  7.1429e-01,  1.0070e+00],\n",
              "          [-1.0572e-01, -8.3157e-01, -4.5407e-01, -2.3523e-02,  3.9394e-01,\n",
              "           -3.2907e-01, -1.9058e+00,  3.3167e-01,  3.5679e-02],\n",
              "          [-1.0572e-01, -7.3188e-01, -8.6529e-01, -7.1699e-01, -2.1825e+00,\n",
              "            9.4100e-03,  9.5531e-01, -2.0418e-01,  5.4011e-01],\n",
              "          [-4.1507e-01, -1.0572e-01,  1.2297e+00,  1.1235e+00, -3.3478e-02,\n",
              "           -1.0572e-01,  1.5207e+00, -5.1594e-01,  3.3167e-01]],\n",
              "\n",
              "         [[ 1.9867e+00,  9.5411e-01,  1.2019e+00,  5.7643e-01,  1.4819e+00,\n",
              "            6.8249e-01,  2.0306e-01, -5.4229e-01, -5.4229e-01],\n",
              "          [-3.0990e-02, -1.1173e+00, -6.3782e-01,  1.1549e+00,  1.3356e+00,\n",
              "           -4.3484e-01, -2.5454e+00,  3.6913e-01, -5.4229e-01],\n",
              "          [-9.3779e-01,  6.5000e-01,  1.1065e-01,  1.7929e-01,  4.8124e-01,\n",
              "           -2.0849e+00,  2.7665e-01, -1.1809e+00,  1.8160e+00],\n",
              "          [-5.4229e-01,  6.7695e-01, -1.9301e+00,  2.1158e-01,  1.1462e+00,\n",
              "           -1.4619e+00,  7.5472e-01,  1.1549e+00,  4.9574e-01],\n",
              "          [-5.4229e-01, -2.8138e-01, -2.5454e+00, -2.3285e+00,  2.2528e-01,\n",
              "           -2.3293e-01, -4.4213e-01, -9.6733e-01, -2.8353e-01],\n",
              "          [ 6.5030e-01, -5.4229e-01,  7.9808e-01,  7.9698e-01, -1.3286e+00,\n",
              "           -5.4229e-01,  1.6311e+00,  4.4661e-01,  1.1549e+00]],\n",
              "\n",
              "         [[-1.4653e+00, -1.9676e-01,  8.0591e-02, -1.7408e+00,  1.1288e+00,\n",
              "           -7.3850e-01, -1.4745e+00, -5.6268e-01, -5.6268e-01],\n",
              "          [-4.8970e-01, -2.8839e-01,  4.1177e-01, -7.6217e-01, -8.3187e-01,\n",
              "            1.2859e-02, -2.5199e-01, -3.5780e-01, -5.6268e-01],\n",
              "          [-1.0707e+00, -9.6059e-01,  5.7178e-02, -4.6539e-01, -1.2845e+00,\n",
              "           -2.8156e-01, -4.1941e-01,  4.3752e-01, -1.3211e+00],\n",
              "          [-5.6268e-01,  2.7994e-02,  6.9934e-03, -4.7868e-01,  6.5938e-01,\n",
              "            9.5144e-01, -7.5961e-01, -7.6217e-01,  2.4670e-02],\n",
              "          [-5.6268e-01,  3.2603e-01, -2.5199e-01, -2.6592e-01,  2.7285e-02,\n",
              "           -5.7560e-01, -1.3181e+00,  6.2755e-01, -7.9067e-02],\n",
              "          [-4.2086e-02, -5.6268e-01, -3.4418e-01, -3.6535e-01, -3.3012e-01,\n",
              "           -5.6268e-01, -1.0999e+00, -1.3509e+00, -7.6217e-01]]]])"
            ]
          },
          "metadata": {
            "tags": []
          },
          "execution_count": 17
        }
      ]
    },
    {
      "cell_type": "markdown",
      "metadata": {
        "id": "B5F22oxPvFFL"
      },
      "source": [
        "# ONNX"
      ]
    },
    {
      "cell_type": "markdown",
      "metadata": {
        "id": "OdMM-PwJbcFU"
      },
      "source": [
        "models/afwm.pyを開いて、4行目のfrom .correlation import correlationをコメントアウトする"
      ]
    },
    {
      "cell_type": "code",
      "metadata": {
        "id": "nCVmpQqQvONT"
      },
      "source": [
        "import time\n",
        "from options.test_options import TestOptions\n",
        "from data.data_loader_test import CreateDataLoader\n",
        "from models.networks import ResUnetGenerator, load_checkpoint\n",
        "from models.afwm import *\n",
        "import torch.nn as nn\n",
        "import os\n",
        "import numpy as np\n",
        "import torch\n",
        "import cv2\n",
        "import torch.nn.functional as F"
      ],
      "execution_count": null,
      "outputs": []
    },
    {
      "cell_type": "code",
      "metadata": {
        "colab": {
          "base_uri": "https://localhost:8080/"
        },
        "id": "-OquPUrEFRaN",
        "outputId": "49840af0-687a-45d3-9fba-e0f7ba3249b9"
      },
      "source": [
        "!pip show spatial_correlation_sampler"
      ],
      "execution_count": null,
      "outputs": [
        {
          "output_type": "stream",
          "text": [
            "\u001b[33mWARNING: Package(s) not found: spatial_correlation_sampler\u001b[0m\n"
          ],
          "name": "stdout"
        }
      ]
    },
    {
      "cell_type": "code",
      "metadata": {
        "id": "96E42x5DrQSe",
        "cellView": "code",
        "colab": {
          "base_uri": "https://localhost:8080/",
          "height": 430
        },
        "outputId": "b856fe78-2801-40c4-9dcf-f6a87dc7d8e8"
      },
      "source": [
        "torch.ops.load_library(\"/usr/local/lib/python3.7/dist-packages/spatial_correlation_sampler_backend.cpython-37m-x86_64-linux-gnu.so\")\n",
        "\n",
        "@torch.jit.script\n",
        "def correlate(input1, input2):\n",
        "    kH, kW, patchH, patchW, padH, padW, dilationH, dilationW, dilation_patchH, dilation_patchW, dH, dW = 1, 1, 7, 7, 0, 0, 1, 1, 2, 2, 1, 1\n",
        "    out_corr = torch.ops.my_ops.forward(input1, input2,\n",
        "                                  kH, kW, patchH, patchW,\n",
        "                                  padH, padW, dilationH, dilationW,\n",
        "                                  dilation_patchH, dilation_patchW,\n",
        "                                  dH, dW)\n",
        "    b, ph, pw, h, w = out_corr.size()\n",
        "    out_corr = out_corr.view(b, ph * pw, h, w)/input1.size(1)\n",
        "    return F.leaky_relu_(out_corr, 0.1)\n",
        "\n",
        "# class AFlowNet2(nn.Module):\n",
        "#     def __init__(self, num_pyramid, fpn_dim=256):\n",
        "#         super(AFlowNet2, self).__init__()\n",
        "#         print(\"AFlowNet2 init 1\")\n",
        "#         self.netMain = []\n",
        "#         self.netRefine = []\n",
        "#         for i in range(num_pyramid):\n",
        "#             netMain_layer = torch.nn.Sequential(\n",
        "#                 torch.nn.Conv2d(in_channels=49, out_channels=128, kernel_size=3, stride=1, padding=1),\n",
        "#                 torch.nn.LeakyReLU(inplace=False, negative_slope=0.1),\n",
        "#                 torch.nn.Conv2d(in_channels=128, out_channels=64, kernel_size=3, stride=1, padding=1),\n",
        "#                 torch.nn.LeakyReLU(inplace=False, negative_slope=0.1),\n",
        "#                 torch.nn.Conv2d(in_channels=64, out_channels=32, kernel_size=3, stride=1, padding=1),\n",
        "#                 torch.nn.LeakyReLU(inplace=False, negative_slope=0.1),\n",
        "#                 torch.nn.Conv2d(in_channels=32, out_channels=2, kernel_size=3, stride=1, padding=1)\n",
        "#             )\n",
        "#             print(\"AFlowNet2 init 2\")\n",
        "\n",
        "#             netRefine_layer = torch.nn.Sequential(\n",
        "#                 torch.nn.Conv2d(2 * fpn_dim, out_channels=128, kernel_size=3, stride=1, padding=1),\n",
        "#                 torch.nn.LeakyReLU(inplace=False, negative_slope=0.1),\n",
        "#                 torch.nn.Conv2d(in_channels=128, out_channels=64, kernel_size=3, stride=1, padding=1),\n",
        "#                 torch.nn.LeakyReLU(inplace=False, negative_slope=0.1),\n",
        "#                 torch.nn.Conv2d(in_channels=64, out_channels=32, kernel_size=3, stride=1, padding=1),\n",
        "#                 torch.nn.LeakyReLU(inplace=False, negative_slope=0.1),\n",
        "#                 torch.nn.Conv2d(in_channels=32, out_channels=2, kernel_size=3, stride=1, padding=1)\n",
        "#             )\n",
        "#             self.netMain.append(netMain_layer)\n",
        "#             self.netRefine.append(netRefine_layer)\n",
        "#             print(\"AFlowNet2 init 3\")\n",
        "\n",
        "#         self.netMain = nn.ModuleList(self.netMain)\n",
        "#         self.netRefine = nn.ModuleList(self.netRefine)\n",
        "#         # self.grid_sample = GridSampleModel()\n",
        "#         print(\"AFlowNet2 init 3\")\n",
        "\n",
        "\n",
        "#     def forward(self, x, x_warps, x_conds, warp_feature=True):\n",
        "#         last_flow = None\n",
        "#         print(\"AFlowNet2 forward 1\")\n",
        "\n",
        "#         for i in range(len(x_warps)):\n",
        "#           x_warp = x_warps[len(x_warps) - 1 - i]\n",
        "#           x_cond = x_conds[len(x_warps) - 1 - i]\n",
        "#           print(\"AFlowNet2 forward 2\")\n",
        "\n",
        "#           if last_flow is not None and warp_feature:\n",
        "#               # x_warp_after = F.grid_sample(x_warp, last_flow.detach().permute(0, 2, 3, 1),\n",
        "#               #      mode='bilinear', padding_mode='border')\n",
        "#               x_warp_after = F.grid_sample(x_warp, last_flow.detach().permute(0, 2, 3, 1),\n",
        "#                    mode='bilinear', padding_mode='border')\n",
        "#           else:\n",
        "#               x_warp_after = x_warp\n",
        "\n",
        "#           # tenCorrelation = F.leaky_relu(input=correlation.FunctionCorrelation(tenFirst=x_warp_after, tenSecond=x_cond, intStride=1), negative_slope=0.1, inplace=False)\n",
        "#           tenCorrelation = correlate(x_warp_after, x_cond)\n",
        "#           flow = self.netMain[i](tenCorrelation)\n",
        "#           flow = apply_offset(flow)\n",
        "#           print(\"AFlowNet2 forward 3\")\n",
        "\n",
        "#           if last_flow is not None:\n",
        "#               flow = F.grid_sample(last_flow, flow, mode='bilinear', padding_mode='border')\n",
        "#               # flow = self.grid_sample(last_flow, flow)\n",
        "#           else:\n",
        "#               flow = flow.permute(0, 3, 1, 2)\n",
        "\n",
        "#           last_flow = flow\n",
        "#           print(\"AFlowNet2 forward 4\")\n",
        "#           x_warp = F.grid_sample(x_warp, flow.permute(0, 2, 3, 1),mode='bilinear', padding_mode='border')\n",
        "#           # x_warp = self.grid_sample(x_warp, flow.permute(0, 2, 3, 1))\n",
        "#           concat = torch.cat([x_warp,x_cond],1)\n",
        "#           flow = self.netRefine[i](concat)\n",
        "#           flow = apply_offset(flow)\n",
        "#           flow = F.grid_sample(last_flow, flow, mode='bilinear', padding_mode='border')\n",
        "#           # flow = self.grid_sample(last_flow, flow)\n",
        "\n",
        "#           last_flow = F.interpolate(flow, scale_factor=2, mode='bilinear')\n",
        "#           print(\"AFlowNet2 forward 5\")\n",
        "\n",
        "#         x_warp = F.grid_sample(x, last_flow.permute(0, 2, 3, 1),\n",
        "#                      mode='bilinear', padding_mode='border')\n",
        "#         # x_warp = self.grid_sample(x, last_flow.permute(0, 2, 3, 1))\n",
        "#         return x_warp, last_flow,"
      ],
      "execution_count": null,
      "outputs": [
        {
          "output_type": "error",
          "ename": "OSError",
          "evalue": "ignored",
          "traceback": [
            "\u001b[0;31m---------------------------------------------------------------------------\u001b[0m",
            "\u001b[0;31mOSError\u001b[0m                                   Traceback (most recent call last)",
            "\u001b[0;32m<ipython-input-32-814ff7ac0b9d>\u001b[0m in \u001b[0;36m<module>\u001b[0;34m()\u001b[0m\n\u001b[0;32m----> 1\u001b[0;31m \u001b[0mtorch\u001b[0m\u001b[0;34m.\u001b[0m\u001b[0mops\u001b[0m\u001b[0;34m.\u001b[0m\u001b[0mload_library\u001b[0m\u001b[0;34m(\u001b[0m\u001b[0;34m\"/usr/local/lib/python3.7/dist-packages/spatial_correlation_sampler_backend.cpython-37m-x86_64-linux-gnu.so\"\u001b[0m\u001b[0;34m)\u001b[0m\u001b[0;34m\u001b[0m\u001b[0;34m\u001b[0m\u001b[0m\n\u001b[0m\u001b[1;32m      2\u001b[0m \u001b[0;34m\u001b[0m\u001b[0m\n\u001b[1;32m      3\u001b[0m \u001b[0;34m@\u001b[0m\u001b[0mtorch\u001b[0m\u001b[0;34m.\u001b[0m\u001b[0mjit\u001b[0m\u001b[0;34m.\u001b[0m\u001b[0mscript\u001b[0m\u001b[0;34m\u001b[0m\u001b[0;34m\u001b[0m\u001b[0m\n\u001b[1;32m      4\u001b[0m \u001b[0;32mdef\u001b[0m \u001b[0mcorrelate\u001b[0m\u001b[0;34m(\u001b[0m\u001b[0minput1\u001b[0m\u001b[0;34m,\u001b[0m \u001b[0minput2\u001b[0m\u001b[0;34m)\u001b[0m\u001b[0;34m:\u001b[0m\u001b[0;34m\u001b[0m\u001b[0;34m\u001b[0m\u001b[0m\n\u001b[1;32m      5\u001b[0m     \u001b[0mkH\u001b[0m\u001b[0;34m,\u001b[0m \u001b[0mkW\u001b[0m\u001b[0;34m,\u001b[0m \u001b[0mpatchH\u001b[0m\u001b[0;34m,\u001b[0m \u001b[0mpatchW\u001b[0m\u001b[0;34m,\u001b[0m \u001b[0mpadH\u001b[0m\u001b[0;34m,\u001b[0m \u001b[0mpadW\u001b[0m\u001b[0;34m,\u001b[0m \u001b[0mdilationH\u001b[0m\u001b[0;34m,\u001b[0m \u001b[0mdilationW\u001b[0m\u001b[0;34m,\u001b[0m \u001b[0mdilation_patchH\u001b[0m\u001b[0;34m,\u001b[0m \u001b[0mdilation_patchW\u001b[0m\u001b[0;34m,\u001b[0m \u001b[0mdH\u001b[0m\u001b[0;34m,\u001b[0m \u001b[0mdW\u001b[0m \u001b[0;34m=\u001b[0m \u001b[0;36m1\u001b[0m\u001b[0;34m,\u001b[0m \u001b[0;36m1\u001b[0m\u001b[0;34m,\u001b[0m \u001b[0;36m7\u001b[0m\u001b[0;34m,\u001b[0m \u001b[0;36m7\u001b[0m\u001b[0;34m,\u001b[0m \u001b[0;36m0\u001b[0m\u001b[0;34m,\u001b[0m \u001b[0;36m0\u001b[0m\u001b[0;34m,\u001b[0m \u001b[0;36m1\u001b[0m\u001b[0;34m,\u001b[0m \u001b[0;36m1\u001b[0m\u001b[0;34m,\u001b[0m \u001b[0;36m2\u001b[0m\u001b[0;34m,\u001b[0m \u001b[0;36m2\u001b[0m\u001b[0;34m,\u001b[0m \u001b[0;36m1\u001b[0m\u001b[0;34m,\u001b[0m \u001b[0;36m1\u001b[0m\u001b[0;34m\u001b[0m\u001b[0;34m\u001b[0m\u001b[0m\n",
            "\u001b[0;32m/usr/local/lib/python3.7/dist-packages/torch/_ops.py\u001b[0m in \u001b[0;36mload_library\u001b[0;34m(self, path)\u001b[0m\n\u001b[1;32m    100\u001b[0m             \u001b[0;31m# static (global) initialization code in order to register custom\u001b[0m\u001b[0;34m\u001b[0m\u001b[0;34m\u001b[0m\u001b[0;34m\u001b[0m\u001b[0m\n\u001b[1;32m    101\u001b[0m             \u001b[0;31m# operators with the JIT.\u001b[0m\u001b[0;34m\u001b[0m\u001b[0;34m\u001b[0m\u001b[0;34m\u001b[0m\u001b[0m\n\u001b[0;32m--> 102\u001b[0;31m             \u001b[0mctypes\u001b[0m\u001b[0;34m.\u001b[0m\u001b[0mCDLL\u001b[0m\u001b[0;34m(\u001b[0m\u001b[0mpath\u001b[0m\u001b[0;34m)\u001b[0m\u001b[0;34m\u001b[0m\u001b[0;34m\u001b[0m\u001b[0m\n\u001b[0m\u001b[1;32m    103\u001b[0m         \u001b[0mself\u001b[0m\u001b[0;34m.\u001b[0m\u001b[0mloaded_libraries\u001b[0m\u001b[0;34m.\u001b[0m\u001b[0madd\u001b[0m\u001b[0;34m(\u001b[0m\u001b[0mpath\u001b[0m\u001b[0;34m)\u001b[0m\u001b[0;34m\u001b[0m\u001b[0;34m\u001b[0m\u001b[0m\n\u001b[1;32m    104\u001b[0m \u001b[0;34m\u001b[0m\u001b[0m\n",
            "\u001b[0;32m/usr/lib/python3.7/ctypes/__init__.py\u001b[0m in \u001b[0;36m__init__\u001b[0;34m(self, name, mode, handle, use_errno, use_last_error)\u001b[0m\n\u001b[1;32m    362\u001b[0m \u001b[0;34m\u001b[0m\u001b[0m\n\u001b[1;32m    363\u001b[0m         \u001b[0;32mif\u001b[0m \u001b[0mhandle\u001b[0m \u001b[0;32mis\u001b[0m \u001b[0;32mNone\u001b[0m\u001b[0;34m:\u001b[0m\u001b[0;34m\u001b[0m\u001b[0;34m\u001b[0m\u001b[0m\n\u001b[0;32m--> 364\u001b[0;31m             \u001b[0mself\u001b[0m\u001b[0;34m.\u001b[0m\u001b[0m_handle\u001b[0m \u001b[0;34m=\u001b[0m \u001b[0m_dlopen\u001b[0m\u001b[0;34m(\u001b[0m\u001b[0mself\u001b[0m\u001b[0;34m.\u001b[0m\u001b[0m_name\u001b[0m\u001b[0;34m,\u001b[0m \u001b[0mmode\u001b[0m\u001b[0;34m)\u001b[0m\u001b[0;34m\u001b[0m\u001b[0;34m\u001b[0m\u001b[0m\n\u001b[0m\u001b[1;32m    365\u001b[0m         \u001b[0;32melse\u001b[0m\u001b[0;34m:\u001b[0m\u001b[0;34m\u001b[0m\u001b[0;34m\u001b[0m\u001b[0m\n\u001b[1;32m    366\u001b[0m             \u001b[0mself\u001b[0m\u001b[0;34m.\u001b[0m\u001b[0m_handle\u001b[0m \u001b[0;34m=\u001b[0m \u001b[0mhandle\u001b[0m\u001b[0;34m\u001b[0m\u001b[0;34m\u001b[0m\u001b[0m\n",
            "\u001b[0;31mOSError\u001b[0m: /usr/local/lib/python3.7/dist-packages/spatial_correlation_sampler_backend.cpython-37m-x86_64-linux-gnu.so: cannot open shared object file: No such file or directory"
          ]
        }
      ]
    },
    {
      "cell_type": "code",
      "metadata": {
        "id": "M51ok48Ws0ts"
      },
      "source": [
        "class AFlowNet2(nn.Module):\n",
        "    def __init__(self, num_pyramid, fpn_dim=256):\n",
        "        super(AFlowNet2, self).__init__()\n",
        "        self.netMain = []\n",
        "        self.netRefine = []\n",
        "        for i in range(num_pyramid):\n",
        "            netMain_layer = torch.nn.Sequential(\n",
        "                torch.nn.Conv2d(in_channels=49, out_channels=128, kernel_size=3, stride=1, padding=1),\n",
        "                torch.nn.LeakyReLU(inplace=False, negative_slope=0.1),\n",
        "                torch.nn.Conv2d(in_channels=128, out_channels=64, kernel_size=3, stride=1, padding=1),\n",
        "                torch.nn.LeakyReLU(inplace=False, negative_slope=0.1),\n",
        "                torch.nn.Conv2d(in_channels=64, out_channels=32, kernel_size=3, stride=1, padding=1),\n",
        "                torch.nn.LeakyReLU(inplace=False, negative_slope=0.1),\n",
        "                torch.nn.Conv2d(in_channels=32, out_channels=2, kernel_size=3, stride=1, padding=1)\n",
        "            )\n",
        "\n",
        "            netRefine_layer = torch.nn.Sequential(\n",
        "                torch.nn.Conv2d(2 * fpn_dim, out_channels=128, kernel_size=3, stride=1, padding=1),\n",
        "                torch.nn.LeakyReLU(inplace=False, negative_slope=0.1),\n",
        "                torch.nn.Conv2d(in_channels=128, out_channels=64, kernel_size=3, stride=1, padding=1),\n",
        "                torch.nn.LeakyReLU(inplace=False, negative_slope=0.1),\n",
        "                torch.nn.Conv2d(in_channels=64, out_channels=32, kernel_size=3, stride=1, padding=1),\n",
        "                torch.nn.LeakyReLU(inplace=False, negative_slope=0.1),\n",
        "                torch.nn.Conv2d(in_channels=32, out_channels=2, kernel_size=3, stride=1, padding=1)\n",
        "            )\n",
        "            self.netMain.append(netMain_layer)\n",
        "            self.netRefine.append(netRefine_layer)\n",
        "\n",
        "        self.netMain = nn.ModuleList(self.netMain)\n",
        "        self.netRefine = nn.ModuleList(self.netRefine)\n",
        "\n",
        "\n",
        "    def forward(self, x, x_warps, x_conds, warp_feature=True):\n",
        "        last_flow = None\n",
        "\n",
        "        for i in range(len(x_warps)):\n",
        "          x_warp = x_warps[len(x_warps) - 1 - i]\n",
        "          x_cond = x_conds[len(x_warps) - 1 - i]\n",
        "\n",
        "          if last_flow is not None and warp_feature:\n",
        "              x_warp_after = F.grid_sample(x_warp, last_flow.detach().permute(0, 2, 3, 1),\n",
        "                   mode='bilinear', padding_mode='border')\n",
        "          else:\n",
        "              x_warp_after = x_warp\n",
        "\n",
        "          tenCorrelation = F.leaky_relu(input=correlation.FunctionCorrelation(tenFirst=x_warp_after, tenSecond=x_cond, intStride=1), negative_slope=0.1, inplace=False)\n",
        "          # tenCorrelation = correlate(x_warp_after, x_cond)\n",
        "          flow = self.netMain[i](tenCorrelation)\n",
        "          flow = apply_offset(flow)\n",
        "\n",
        "          if last_flow is not None:\n",
        "              flow = F.grid_sample(last_flow, flow, mode='bilinear', padding_mode='border')\n",
        "          else:\n",
        "              flow = flow.permute(0, 3, 1, 2)\n",
        "\n",
        "          last_flow = flow\n",
        "          x_warp = F.grid_sample(x_warp, flow.permute(0, 2, 3, 1),mode='bilinear', padding_mode='border')\n",
        "          concat = torch.cat([x_warp,x_cond],1)\n",
        "          flow = self.netRefine[i](concat)\n",
        "          flow = apply_offset(flow)\n",
        "          flow = F.grid_sample(last_flow, flow, mode='bilinear', padding_mode='border')\n",
        "\n",
        "          last_flow = F.interpolate(flow, scale_factor=2, mode='bilinear')\n",
        "\n",
        "        x_warp = F.grid_sample(x, last_flow.permute(0, 2, 3, 1),\n",
        "                     mode='bilinear', padding_mode='border')\n",
        "        return x_warp, last_flow,"
      ],
      "execution_count": null,
      "outputs": []
    },
    {
      "cell_type": "code",
      "metadata": {
        "id": "cAvcfD6vVKgd"
      },
      "source": [
        "class AFWM2(nn.Module):\n",
        "    def __init__(self, opt, input_nc):\n",
        "        super(AFWM2, self).__init__()\n",
        "        num_filters = [64,128,256,256,256]\n",
        "        self.image_features = FeatureEncoder(3, num_filters) \n",
        "        self.cond_features = FeatureEncoder(input_nc, num_filters)\n",
        "        self.image_FPN = RefinePyramid(num_filters)\n",
        "        self.cond_FPN = RefinePyramid(num_filters)\n",
        "        self.aflow_net = AFlowNet2(len(num_filters))\n",
        "\n",
        "    def forward(self, cond_input, image_input):\n",
        "        print(\"AFWM2 forward 1\")\n",
        "        cond_pyramids = self.cond_FPN(self.cond_features(cond_input)) # maybe use nn.Sequential\n",
        "        print(\"AFWM2 forward 2\")\n",
        "        image_pyramids = self.image_FPN(self.image_features(image_input))\n",
        "        print(\"AFWM2 forward 3\")\n",
        "\n",
        "        x_warp, last_flow  = self.aflow_net(image_input, image_pyramids, cond_pyramids)\n",
        "        print(\"AFWM2 forward 4\")\n",
        "\n",
        "        return x_warp, last_flow"
      ],
      "execution_count": null,
      "outputs": []
    },
    {
      "cell_type": "code",
      "metadata": {
        "id": "zvxav2FAxIp7"
      },
      "source": [
        "class MyTestOptions(TestOptions):\n",
        "  def parse(self, save=True):\n",
        "    if not self.initialized:\n",
        "      self.initialize()\n",
        "    args=[\"--name\", \"demo\", \"--resize_or_crop\", \"None\", \"--batchSize\", \"1\" ,\"--gpu_ids\", \"0\"]\n",
        "    self.opt = self.parser.parse_args(args=args)\n",
        "    self.opt.isTrain = self.isTrain   # train or test\n",
        "\n",
        "    str_ids = self.opt.gpu_ids.split(',')\n",
        "    self.opt.gpu_ids = []\n",
        "    for str_id in str_ids:\n",
        "      id = int(str_id)\n",
        "      if id >= 0:\n",
        "        self.opt.gpu_ids.append(id)\n",
        "\n",
        "    if len(self.opt.gpu_ids) > 0:\n",
        "      torch.cuda.set_device(self.opt.gpu_ids[0])\n",
        "\n",
        "    args = vars(self.opt)\n",
        "\n",
        "    print('------------ Options -------------')\n",
        "    for k, v in sorted(args.items()):\n",
        "        print('%s: %s' % (str(k), str(v)))\n",
        "    print('-------------- End ----------------')\n",
        "\n",
        "    return self.opt"
      ],
      "execution_count": null,
      "outputs": []
    },
    {
      "cell_type": "code",
      "metadata": {
        "colab": {
          "base_uri": "https://localhost:8080/"
        },
        "id": "sXjrmX78xfm9",
        "outputId": "79e6c185-511b-415c-dcc0-b5622c6b4166"
      },
      "source": [
        "opt = MyTestOptions().parse()"
      ],
      "execution_count": null,
      "outputs": [
        {
          "output_type": "stream",
          "text": [
            "------------ Options -------------\n",
            "batchSize: 1\n",
            "data_type: 32\n",
            "dataroot: dataset/\n",
            "display_winsize: 512\n",
            "fineSize: 512\n",
            "gen_checkpoint: checkpoints/PFAFN/gen_model_final.pth\n",
            "gpu_ids: [0]\n",
            "input_nc: 3\n",
            "isTrain: False\n",
            "loadSize: 512\n",
            "max_dataset_size: inf\n",
            "nThreads: 1\n",
            "name: demo\n",
            "no_flip: False\n",
            "norm: instance\n",
            "output_nc: 3\n",
            "phase: test\n",
            "resize_or_crop: None\n",
            "serial_batches: False\n",
            "tf_log: False\n",
            "use_dropout: False\n",
            "verbose: False\n",
            "warp_checkpoint: checkpoints/PFAFN/warp_model_final.pth\n",
            "-------------- End ----------------\n"
          ],
          "name": "stdout"
        }
      ]
    },
    {
      "cell_type": "code",
      "metadata": {
        "id": "XxgiaNERvOqQ"
      },
      "source": [
        "warp_model = AFWM2(opt, 3)"
      ],
      "execution_count": null,
      "outputs": []
    },
    {
      "cell_type": "code",
      "metadata": {
        "id": "X7DZnt6qwlEd"
      },
      "source": [
        "warp_model.eval()\n",
        "warp_model.cuda()\n",
        "# warp_model.cpu()\n",
        "load_checkpoint(warp_model, opt.warp_checkpoint)"
      ],
      "execution_count": null,
      "outputs": []
    },
    {
      "cell_type": "code",
      "metadata": {
        "colab": {
          "base_uri": "https://localhost:8080/"
        },
        "id": "7GD0p8Nj5jSa",
        "outputId": "90d60dce-a3e1-4be2-f662-974268e23742"
      },
      "source": [
        "gen_model = ResUnetGenerator(7, 4, 5, ngf=64, norm_layer=nn.BatchNorm2d)\n",
        "print(gen_model)\n",
        "gen_model.eval()\n",
        "gen_model.cuda()\n",
        "# gen_model.cpu()\n",
        "load_checkpoint(gen_model, opt.gen_checkpoint)"
      ],
      "execution_count": null,
      "outputs": [
        {
          "output_type": "stream",
          "text": [
            "ResUnetGenerator(\n",
            "  (model): ResUnetSkipConnectionBlock(\n",
            "    (model): Sequential(\n",
            "      (0): Conv2d(7, 64, kernel_size=(3, 3), stride=(2, 2), padding=(1, 1), bias=False)\n",
            "      (1): ReLU(inplace)\n",
            "      (2): ResidualBlock(\n",
            "        (relu): ReLU(inplace)\n",
            "        (block): Sequential(\n",
            "          (0): Conv2d(64, 64, kernel_size=(3, 3), stride=(1, 1), padding=(1, 1), bias=False)\n",
            "          (1): BatchNorm2d(64, eps=1e-05, momentum=0.1, affine=True, track_running_stats=True)\n",
            "          (2): ReLU(inplace)\n",
            "          (3): Conv2d(64, 64, kernel_size=(3, 3), stride=(1, 1), padding=(1, 1), bias=False)\n",
            "          (4): BatchNorm2d(64, eps=1e-05, momentum=0.1, affine=True, track_running_stats=True)\n",
            "        )\n",
            "      )\n",
            "      (3): ResidualBlock(\n",
            "        (relu): ReLU(inplace)\n",
            "        (block): Sequential(\n",
            "          (0): Conv2d(64, 64, kernel_size=(3, 3), stride=(1, 1), padding=(1, 1), bias=False)\n",
            "          (1): BatchNorm2d(64, eps=1e-05, momentum=0.1, affine=True, track_running_stats=True)\n",
            "          (2): ReLU(inplace)\n",
            "          (3): Conv2d(64, 64, kernel_size=(3, 3), stride=(1, 1), padding=(1, 1), bias=False)\n",
            "          (4): BatchNorm2d(64, eps=1e-05, momentum=0.1, affine=True, track_running_stats=True)\n",
            "        )\n",
            "      )\n",
            "      (4): ResUnetSkipConnectionBlock(\n",
            "        (model): Sequential(\n",
            "          (0): Conv2d(64, 128, kernel_size=(3, 3), stride=(2, 2), padding=(1, 1), bias=False)\n",
            "          (1): BatchNorm2d(128, eps=1e-05, momentum=0.1, affine=True, track_running_stats=True)\n",
            "          (2): ReLU(inplace)\n",
            "          (3): ResidualBlock(\n",
            "            (relu): ReLU(inplace)\n",
            "            (block): Sequential(\n",
            "              (0): Conv2d(128, 128, kernel_size=(3, 3), stride=(1, 1), padding=(1, 1), bias=False)\n",
            "              (1): BatchNorm2d(128, eps=1e-05, momentum=0.1, affine=True, track_running_stats=True)\n",
            "              (2): ReLU(inplace)\n",
            "              (3): Conv2d(128, 128, kernel_size=(3, 3), stride=(1, 1), padding=(1, 1), bias=False)\n",
            "              (4): BatchNorm2d(128, eps=1e-05, momentum=0.1, affine=True, track_running_stats=True)\n",
            "            )\n",
            "          )\n",
            "          (4): ResidualBlock(\n",
            "            (relu): ReLU(inplace)\n",
            "            (block): Sequential(\n",
            "              (0): Conv2d(128, 128, kernel_size=(3, 3), stride=(1, 1), padding=(1, 1), bias=False)\n",
            "              (1): BatchNorm2d(128, eps=1e-05, momentum=0.1, affine=True, track_running_stats=True)\n",
            "              (2): ReLU(inplace)\n",
            "              (3): Conv2d(128, 128, kernel_size=(3, 3), stride=(1, 1), padding=(1, 1), bias=False)\n",
            "              (4): BatchNorm2d(128, eps=1e-05, momentum=0.1, affine=True, track_running_stats=True)\n",
            "            )\n",
            "          )\n",
            "          (5): ResUnetSkipConnectionBlock(\n",
            "            (model): Sequential(\n",
            "              (0): Conv2d(128, 256, kernel_size=(3, 3), stride=(2, 2), padding=(1, 1), bias=False)\n",
            "              (1): BatchNorm2d(256, eps=1e-05, momentum=0.1, affine=True, track_running_stats=True)\n",
            "              (2): ReLU(inplace)\n",
            "              (3): ResidualBlock(\n",
            "                (relu): ReLU(inplace)\n",
            "                (block): Sequential(\n",
            "                  (0): Conv2d(256, 256, kernel_size=(3, 3), stride=(1, 1), padding=(1, 1), bias=False)\n",
            "                  (1): BatchNorm2d(256, eps=1e-05, momentum=0.1, affine=True, track_running_stats=True)\n",
            "                  (2): ReLU(inplace)\n",
            "                  (3): Conv2d(256, 256, kernel_size=(3, 3), stride=(1, 1), padding=(1, 1), bias=False)\n",
            "                  (4): BatchNorm2d(256, eps=1e-05, momentum=0.1, affine=True, track_running_stats=True)\n",
            "                )\n",
            "              )\n",
            "              (4): ResidualBlock(\n",
            "                (relu): ReLU(inplace)\n",
            "                (block): Sequential(\n",
            "                  (0): Conv2d(256, 256, kernel_size=(3, 3), stride=(1, 1), padding=(1, 1), bias=False)\n",
            "                  (1): BatchNorm2d(256, eps=1e-05, momentum=0.1, affine=True, track_running_stats=True)\n",
            "                  (2): ReLU(inplace)\n",
            "                  (3): Conv2d(256, 256, kernel_size=(3, 3), stride=(1, 1), padding=(1, 1), bias=False)\n",
            "                  (4): BatchNorm2d(256, eps=1e-05, momentum=0.1, affine=True, track_running_stats=True)\n",
            "                )\n",
            "              )\n",
            "              (5): ResUnetSkipConnectionBlock(\n",
            "                (model): Sequential(\n",
            "                  (0): Conv2d(256, 512, kernel_size=(3, 3), stride=(2, 2), padding=(1, 1), bias=False)\n",
            "                  (1): BatchNorm2d(512, eps=1e-05, momentum=0.1, affine=True, track_running_stats=True)\n",
            "                  (2): ReLU(inplace)\n",
            "                  (3): ResidualBlock(\n",
            "                    (relu): ReLU(inplace)\n",
            "                    (block): Sequential(\n",
            "                      (0): Conv2d(512, 512, kernel_size=(3, 3), stride=(1, 1), padding=(1, 1), bias=False)\n",
            "                      (1): BatchNorm2d(512, eps=1e-05, momentum=0.1, affine=True, track_running_stats=True)\n",
            "                      (2): ReLU(inplace)\n",
            "                      (3): Conv2d(512, 512, kernel_size=(3, 3), stride=(1, 1), padding=(1, 1), bias=False)\n",
            "                      (4): BatchNorm2d(512, eps=1e-05, momentum=0.1, affine=True, track_running_stats=True)\n",
            "                    )\n",
            "                  )\n",
            "                  (4): ResidualBlock(\n",
            "                    (relu): ReLU(inplace)\n",
            "                    (block): Sequential(\n",
            "                      (0): Conv2d(512, 512, kernel_size=(3, 3), stride=(1, 1), padding=(1, 1), bias=False)\n",
            "                      (1): BatchNorm2d(512, eps=1e-05, momentum=0.1, affine=True, track_running_stats=True)\n",
            "                      (2): ReLU(inplace)\n",
            "                      (3): Conv2d(512, 512, kernel_size=(3, 3), stride=(1, 1), padding=(1, 1), bias=False)\n",
            "                      (4): BatchNorm2d(512, eps=1e-05, momentum=0.1, affine=True, track_running_stats=True)\n",
            "                    )\n",
            "                  )\n",
            "                  (5): ResUnetSkipConnectionBlock(\n",
            "                    (model): Sequential(\n",
            "                      (0): Conv2d(512, 512, kernel_size=(3, 3), stride=(2, 2), padding=(1, 1), bias=False)\n",
            "                      (1): ReLU(inplace)\n",
            "                      (2): ResidualBlock(\n",
            "                        (relu): ReLU(inplace)\n",
            "                        (block): Sequential(\n",
            "                          (0): Conv2d(512, 512, kernel_size=(3, 3), stride=(1, 1), padding=(1, 1), bias=False)\n",
            "                          (1): BatchNorm2d(512, eps=1e-05, momentum=0.1, affine=True, track_running_stats=True)\n",
            "                          (2): ReLU(inplace)\n",
            "                          (3): Conv2d(512, 512, kernel_size=(3, 3), stride=(1, 1), padding=(1, 1), bias=False)\n",
            "                          (4): BatchNorm2d(512, eps=1e-05, momentum=0.1, affine=True, track_running_stats=True)\n",
            "                        )\n",
            "                      )\n",
            "                      (3): ResidualBlock(\n",
            "                        (relu): ReLU(inplace)\n",
            "                        (block): Sequential(\n",
            "                          (0): Conv2d(512, 512, kernel_size=(3, 3), stride=(1, 1), padding=(1, 1), bias=False)\n",
            "                          (1): BatchNorm2d(512, eps=1e-05, momentum=0.1, affine=True, track_running_stats=True)\n",
            "                          (2): ReLU(inplace)\n",
            "                          (3): Conv2d(512, 512, kernel_size=(3, 3), stride=(1, 1), padding=(1, 1), bias=False)\n",
            "                          (4): BatchNorm2d(512, eps=1e-05, momentum=0.1, affine=True, track_running_stats=True)\n",
            "                        )\n",
            "                      )\n",
            "                      (4): Upsample(scale_factor=2.0, mode=nearest)\n",
            "                      (5): Conv2d(512, 512, kernel_size=(3, 3), stride=(1, 1), padding=(1, 1), bias=False)\n",
            "                      (6): BatchNorm2d(512, eps=1e-05, momentum=0.1, affine=True, track_running_stats=True)\n",
            "                      (7): ReLU(inplace)\n",
            "                      (8): ResidualBlock(\n",
            "                        (relu): ReLU(inplace)\n",
            "                        (block): Sequential(\n",
            "                          (0): Conv2d(512, 512, kernel_size=(3, 3), stride=(1, 1), padding=(1, 1), bias=False)\n",
            "                          (1): BatchNorm2d(512, eps=1e-05, momentum=0.1, affine=True, track_running_stats=True)\n",
            "                          (2): ReLU(inplace)\n",
            "                          (3): Conv2d(512, 512, kernel_size=(3, 3), stride=(1, 1), padding=(1, 1), bias=False)\n",
            "                          (4): BatchNorm2d(512, eps=1e-05, momentum=0.1, affine=True, track_running_stats=True)\n",
            "                        )\n",
            "                      )\n",
            "                      (9): ResidualBlock(\n",
            "                        (relu): ReLU(inplace)\n",
            "                        (block): Sequential(\n",
            "                          (0): Conv2d(512, 512, kernel_size=(3, 3), stride=(1, 1), padding=(1, 1), bias=False)\n",
            "                          (1): BatchNorm2d(512, eps=1e-05, momentum=0.1, affine=True, track_running_stats=True)\n",
            "                          (2): ReLU(inplace)\n",
            "                          (3): Conv2d(512, 512, kernel_size=(3, 3), stride=(1, 1), padding=(1, 1), bias=False)\n",
            "                          (4): BatchNorm2d(512, eps=1e-05, momentum=0.1, affine=True, track_running_stats=True)\n",
            "                        )\n",
            "                      )\n",
            "                    )\n",
            "                  )\n",
            "                  (6): Upsample(scale_factor=2.0, mode=nearest)\n",
            "                  (7): Conv2d(1024, 256, kernel_size=(3, 3), stride=(1, 1), padding=(1, 1), bias=False)\n",
            "                  (8): BatchNorm2d(256, eps=1e-05, momentum=0.1, affine=True, track_running_stats=True)\n",
            "                  (9): ReLU(inplace)\n",
            "                  (10): ResidualBlock(\n",
            "                    (relu): ReLU(inplace)\n",
            "                    (block): Sequential(\n",
            "                      (0): Conv2d(256, 256, kernel_size=(3, 3), stride=(1, 1), padding=(1, 1), bias=False)\n",
            "                      (1): BatchNorm2d(256, eps=1e-05, momentum=0.1, affine=True, track_running_stats=True)\n",
            "                      (2): ReLU(inplace)\n",
            "                      (3): Conv2d(256, 256, kernel_size=(3, 3), stride=(1, 1), padding=(1, 1), bias=False)\n",
            "                      (4): BatchNorm2d(256, eps=1e-05, momentum=0.1, affine=True, track_running_stats=True)\n",
            "                    )\n",
            "                  )\n",
            "                  (11): ResidualBlock(\n",
            "                    (relu): ReLU(inplace)\n",
            "                    (block): Sequential(\n",
            "                      (0): Conv2d(256, 256, kernel_size=(3, 3), stride=(1, 1), padding=(1, 1), bias=False)\n",
            "                      (1): BatchNorm2d(256, eps=1e-05, momentum=0.1, affine=True, track_running_stats=True)\n",
            "                      (2): ReLU(inplace)\n",
            "                      (3): Conv2d(256, 256, kernel_size=(3, 3), stride=(1, 1), padding=(1, 1), bias=False)\n",
            "                      (4): BatchNorm2d(256, eps=1e-05, momentum=0.1, affine=True, track_running_stats=True)\n",
            "                    )\n",
            "                  )\n",
            "                )\n",
            "              )\n",
            "              (6): Upsample(scale_factor=2.0, mode=nearest)\n",
            "              (7): Conv2d(512, 128, kernel_size=(3, 3), stride=(1, 1), padding=(1, 1), bias=False)\n",
            "              (8): BatchNorm2d(128, eps=1e-05, momentum=0.1, affine=True, track_running_stats=True)\n",
            "              (9): ReLU(inplace)\n",
            "              (10): ResidualBlock(\n",
            "                (relu): ReLU(inplace)\n",
            "                (block): Sequential(\n",
            "                  (0): Conv2d(128, 128, kernel_size=(3, 3), stride=(1, 1), padding=(1, 1), bias=False)\n",
            "                  (1): BatchNorm2d(128, eps=1e-05, momentum=0.1, affine=True, track_running_stats=True)\n",
            "                  (2): ReLU(inplace)\n",
            "                  (3): Conv2d(128, 128, kernel_size=(3, 3), stride=(1, 1), padding=(1, 1), bias=False)\n",
            "                  (4): BatchNorm2d(128, eps=1e-05, momentum=0.1, affine=True, track_running_stats=True)\n",
            "                )\n",
            "              )\n",
            "              (11): ResidualBlock(\n",
            "                (relu): ReLU(inplace)\n",
            "                (block): Sequential(\n",
            "                  (0): Conv2d(128, 128, kernel_size=(3, 3), stride=(1, 1), padding=(1, 1), bias=False)\n",
            "                  (1): BatchNorm2d(128, eps=1e-05, momentum=0.1, affine=True, track_running_stats=True)\n",
            "                  (2): ReLU(inplace)\n",
            "                  (3): Conv2d(128, 128, kernel_size=(3, 3), stride=(1, 1), padding=(1, 1), bias=False)\n",
            "                  (4): BatchNorm2d(128, eps=1e-05, momentum=0.1, affine=True, track_running_stats=True)\n",
            "                )\n",
            "              )\n",
            "            )\n",
            "          )\n",
            "          (6): Upsample(scale_factor=2.0, mode=nearest)\n",
            "          (7): Conv2d(256, 64, kernel_size=(3, 3), stride=(1, 1), padding=(1, 1), bias=False)\n",
            "          (8): BatchNorm2d(64, eps=1e-05, momentum=0.1, affine=True, track_running_stats=True)\n",
            "          (9): ReLU(inplace)\n",
            "          (10): ResidualBlock(\n",
            "            (relu): ReLU(inplace)\n",
            "            (block): Sequential(\n",
            "              (0): Conv2d(64, 64, kernel_size=(3, 3), stride=(1, 1), padding=(1, 1), bias=False)\n",
            "              (1): BatchNorm2d(64, eps=1e-05, momentum=0.1, affine=True, track_running_stats=True)\n",
            "              (2): ReLU(inplace)\n",
            "              (3): Conv2d(64, 64, kernel_size=(3, 3), stride=(1, 1), padding=(1, 1), bias=False)\n",
            "              (4): BatchNorm2d(64, eps=1e-05, momentum=0.1, affine=True, track_running_stats=True)\n",
            "            )\n",
            "          )\n",
            "          (11): ResidualBlock(\n",
            "            (relu): ReLU(inplace)\n",
            "            (block): Sequential(\n",
            "              (0): Conv2d(64, 64, kernel_size=(3, 3), stride=(1, 1), padding=(1, 1), bias=False)\n",
            "              (1): BatchNorm2d(64, eps=1e-05, momentum=0.1, affine=True, track_running_stats=True)\n",
            "              (2): ReLU(inplace)\n",
            "              (3): Conv2d(64, 64, kernel_size=(3, 3), stride=(1, 1), padding=(1, 1), bias=False)\n",
            "              (4): BatchNorm2d(64, eps=1e-05, momentum=0.1, affine=True, track_running_stats=True)\n",
            "            )\n",
            "          )\n",
            "        )\n",
            "      )\n",
            "      (5): Upsample(scale_factor=2.0, mode=nearest)\n",
            "      (6): Conv2d(128, 4, kernel_size=(3, 3), stride=(1, 1), padding=(1, 1), bias=False)\n",
            "    )\n",
            "  )\n",
            ")\n"
          ],
          "name": "stdout"
        }
      ]
    },
    {
      "cell_type": "markdown",
      "metadata": {
        "id": "mlCdjkW7yLZP"
      },
      "source": [
        "## Dataset"
      ]
    },
    {
      "cell_type": "code",
      "metadata": {
        "colab": {
          "base_uri": "https://localhost:8080/"
        },
        "id": "TXw41x7gwqxc",
        "outputId": "e9613b41-dfd7-4485-a071-ee2c2b056349"
      },
      "source": [
        "data_loader = CreateDataLoader(opt)\n",
        "dataset = data_loader.load_data()"
      ],
      "execution_count": null,
      "outputs": [
        {
          "output_type": "stream",
          "text": [
            "CustomDatasetDataLoader\n",
            "dataset [AlignedDataset] was created\n"
          ],
          "name": "stdout"
        }
      ]
    },
    {
      "cell_type": "code",
      "metadata": {
        "id": "grg7O-woydZy"
      },
      "source": [
        "for data in dataset:\n",
        "  break"
      ],
      "execution_count": null,
      "outputs": []
    },
    {
      "cell_type": "code",
      "metadata": {
        "id": "OAI8LrZXykQE"
      },
      "source": [
        "real_image = data['image']\n",
        "clothes = data['clothes']\n",
        "\n",
        "edge = data['edge']\n",
        "edge = torch.FloatTensor((edge.detach().numpy() > 0.5).astype(np.int))\n",
        "clothes = clothes * edge"
      ],
      "execution_count": null,
      "outputs": []
    },
    {
      "cell_type": "code",
      "metadata": {
        "colab": {
          "base_uri": "https://localhost:8080/"
        },
        "id": "5lz7fc-syyFP",
        "outputId": "d2d4754d-4e30-41d6-c1a1-dc54beb2f4be"
      },
      "source": [
        "# flow_out = warp_model(real_image.cpu(), clothes.cpu())\n",
        "flow_out = warp_model(real_image.cuda(), clothes.cuda())"
      ],
      "execution_count": null,
      "outputs": [
        {
          "output_type": "stream",
          "text": [
            "AFWM2 forward 1\n",
            "AFWM2 forward 2\n",
            "AFWM2 forward 3\n"
          ],
          "name": "stdout"
        },
        {
          "output_type": "stream",
          "text": [
            "/usr/local/lib/python3.7/dist-packages/torch/nn/functional.py:2539: UserWarning: Default upsampling behavior when mode=bilinear is changed to align_corners=False since 0.4.0. Please specify align_corners=True if the old behavior is desired. See the documentation of nn.Upsample for details.\n",
            "  \"See the documentation of nn.Upsample for details.\".format(mode))\n"
          ],
          "name": "stderr"
        },
        {
          "output_type": "stream",
          "text": [
            "AFWM2 forward 4\n"
          ],
          "name": "stdout"
        }
      ]
    },
    {
      "cell_type": "code",
      "metadata": {
        "id": "67lXEYlD5xF_"
      },
      "source": [
        "warped_cloth, last_flow, = flow_out\n",
        "# warped_edge = F.grid_sample(edge.cpu(), last_flow.permute(0, 2, 3, 1),\n",
        "#                   mode='bilinear', padding_mode='zeros')\n",
        "warped_edge = F.grid_sample(edge.cuda(), last_flow.permute(0, 2, 3, 1),\n",
        "                  mode='bilinear', padding_mode='zeros')"
      ],
      "execution_count": null,
      "outputs": []
    },
    {
      "cell_type": "code",
      "metadata": {
        "id": "i6opnchg5pml"
      },
      "source": [
        "gen_inputs = torch.cat([real_image.cuda(), warped_cloth, warped_edge], 1)\n",
        "# gen_inputs = torch.cat([real_image.cpu(), warped_cloth.cpu(), warped_edge.cpu()], 1)\n",
        "gen_outputs = gen_model(gen_inputs)"
      ],
      "execution_count": null,
      "outputs": []
    },
    {
      "cell_type": "code",
      "metadata": {
        "colab": {
          "base_uri": "https://localhost:8080/"
        },
        "id": "HRBU1eAvCqoq",
        "outputId": "2775122e-cdb4-427b-a7c1-35c3d7cf479c"
      },
      "source": [
        "%env CUPY_DUMP_CUDA_SOURCE_ON_ERROR=1\n",
        "%env CUPY_CACHE_SAVE_CUDA_SOURCE=1"
      ],
      "execution_count": null,
      "outputs": [
        {
          "output_type": "stream",
          "text": [
            "env: CUPY_DUMP_CUDA_SOURCE_ON_ERROR=1\n",
            "env: CUPY_CACHE_SAVE_CUDA_SOURCE=1\n"
          ],
          "name": "stdout"
        }
      ]
    },
    {
      "cell_type": "code",
      "metadata": {
        "colab": {
          "base_uri": "https://localhost:8080/"
        },
        "id": "eJ8gT0ITPh1Y",
        "outputId": "2858a27d-f0ea-428a-d86f-be3be8325d93"
      },
      "source": [
        "# warp_model(real_image.cpu(), clothes.cpu())\n",
        "warp_model(real_image.cuda(), clothes.cuda())"
      ],
      "execution_count": null,
      "outputs": [
        {
          "output_type": "stream",
          "text": [
            "AFWM2 forward 1\n",
            "AFWM2 forward 2\n",
            "AFWM2 forward 3\n",
            "AFWM2 forward 4\n"
          ],
          "name": "stdout"
        },
        {
          "output_type": "stream",
          "text": [
            "/usr/local/lib/python3.7/dist-packages/torch/nn/functional.py:2539: UserWarning: Default upsampling behavior when mode=bilinear is changed to align_corners=False since 0.4.0. Please specify align_corners=True if the old behavior is desired. See the documentation of nn.Upsample for details.\n",
            "  \"See the documentation of nn.Upsample for details.\".format(mode))\n"
          ],
          "name": "stderr"
        },
        {
          "output_type": "execute_result",
          "data": {
            "text/plain": [
              "(tensor([[[[0., 0., 0.,  ..., 0., 0., 0.],\n",
              "           [0., 0., 0.,  ..., 0., 0., 0.],\n",
              "           [0., 0., 0.,  ..., 0., 0., 0.],\n",
              "           ...,\n",
              "           [0., 0., 0.,  ..., 0., 0., 0.],\n",
              "           [0., 0., 0.,  ..., 0., 0., 0.],\n",
              "           [0., 0., 0.,  ..., 0., 0., 0.]],\n",
              " \n",
              "          [[0., 0., 0.,  ..., 0., 0., 0.],\n",
              "           [0., 0., 0.,  ..., 0., 0., 0.],\n",
              "           [0., 0., 0.,  ..., 0., 0., 0.],\n",
              "           ...,\n",
              "           [0., 0., 0.,  ..., 0., 0., 0.],\n",
              "           [0., 0., 0.,  ..., 0., 0., 0.],\n",
              "           [0., 0., 0.,  ..., 0., 0., 0.]],\n",
              " \n",
              "          [[0., 0., 0.,  ..., 0., 0., 0.],\n",
              "           [0., 0., 0.,  ..., 0., 0., 0.],\n",
              "           [0., 0., 0.,  ..., 0., 0., 0.],\n",
              "           ...,\n",
              "           [0., 0., 0.,  ..., 0., 0., 0.],\n",
              "           [0., 0., 0.,  ..., 0., 0., 0.],\n",
              "           [0., 0., 0.,  ..., 0., 0., 0.]]]], device='cuda:0',\n",
              "        grad_fn=<GridSampler2DBackward>),\n",
              " tensor([[[[-1.5054, -1.5018, -1.4946,  ...,  1.5140,  1.5205,  1.5238],\n",
              "           [-1.5046, -1.5010, -1.4937,  ...,  1.5135,  1.5201,  1.5234],\n",
              "           [-1.5032, -1.4994, -1.4918,  ...,  1.5125,  1.5193,  1.5227],\n",
              "           ...,\n",
              "           [-1.4881, -1.4844, -1.4770,  ...,  1.5227,  1.5301,  1.5337],\n",
              "           [-1.4894, -1.4858, -1.4787,  ...,  1.5243,  1.5314,  1.5350],\n",
              "           [-1.4901, -1.4865, -1.4795,  ...,  1.5252,  1.5321,  1.5356]],\n",
              " \n",
              "          [[-1.7415, -1.7410, -1.7399,  ..., -1.6986, -1.6994, -1.6997],\n",
              "           [-1.7391, -1.7385, -1.7374,  ..., -1.6965, -1.6973, -1.6977],\n",
              "           [-1.7343, -1.7337, -1.7324,  ..., -1.6923, -1.6933, -1.6938],\n",
              "           ...,\n",
              "           [ 1.6821,  1.6817,  1.6809,  ...,  1.6979,  1.6990,  1.6995],\n",
              "           [ 1.6869,  1.6866,  1.6860,  ...,  1.7033,  1.7042,  1.7046],\n",
              "           [ 1.6893,  1.6890,  1.6885,  ...,  1.7060,  1.7068,  1.7071]]]],\n",
              "        device='cuda:0', grad_fn=<UpsampleBilinear2DBackward>))"
            ]
          },
          "metadata": {
            "tags": []
          },
          "execution_count": 23
        }
      ]
    },
    {
      "cell_type": "code",
      "metadata": {
        "id": "DT99IP97bupr"
      },
      "source": [
        "# torch.onnx.export(warp_model, (real_image.cpu(), clothes.cpu()), 'warp_model_mnet.onnx', opset_version=11)"
      ],
      "execution_count": null,
      "outputs": []
    },
    {
      "cell_type": "code",
      "metadata": {
        "colab": {
          "base_uri": "https://localhost:8080/",
          "height": 620
        },
        "id": "baFTNE__y1Da",
        "outputId": "1c9db9db-4d27-4f01-a2db-b9cac0ddd829"
      },
      "source": [
        "torch.onnx.export(\n",
        "    warp_model,\n",
        "    (real_image.cpu(), clothes.cpu()),\n",
        "    \"warp_model_mnet.onnx\",\n",
        "    input_names = ['input'],\n",
        "    output_names = ['ouput'],\n",
        "    # operator_export_type=torch.onnx.OperatorExportTypes.ONNX_ATEN_FALLBACK,\n",
        "    opset_version=11,\n",
        "    verbose=True\n",
        ")\n",
        "# torch.onnx.export(\n",
        "#     gen_model,\n",
        "#     gen_inputs,\n",
        "#     \"gen_model_mnet.onnx\",\n",
        "#     input_names = ['input'],\n",
        "#     output_names = ['ouput'],\n",
        "#     verbose=True\n",
        "# )"
      ],
      "execution_count": null,
      "outputs": [
        {
          "output_type": "stream",
          "text": [
            "AFWM2 forward 1\n",
            "AFWM2 forward 2\n",
            "AFWM2 forward 3\n"
          ],
          "name": "stdout"
        },
        {
          "output_type": "stream",
          "text": [
            "/usr/local/lib/python3.7/dist-packages/torch/nn/functional.py:3384: UserWarning: Default grid_sample and affine_grid behavior has changed to align_corners=False since 1.3.0. Please specify align_corners=True if the old behavior is desired. See the documentation of grid_sample for details.\n",
            "  warnings.warn(\"Default grid_sample and affine_grid behavior has changed \"\n",
            "/usr/local/lib/python3.7/dist-packages/torch/nn/functional.py:3121: UserWarning: Default upsampling behavior when mode=bilinear is changed to align_corners=False since 0.4.0. Please specify align_corners=True if the old behavior is desired. See the documentation of nn.Upsample for details.\n",
            "  \"See the documentation of nn.Upsample for details.\".format(mode))\n"
          ],
          "name": "stderr"
        },
        {
          "output_type": "stream",
          "text": [
            "AFWM2 forward 4\n"
          ],
          "name": "stdout"
        },
        {
          "output_type": "error",
          "ename": "RuntimeError",
          "evalue": "ignored",
          "traceback": [
            "\u001b[0;31m---------------------------------------------------------------------------\u001b[0m",
            "\u001b[0;31mRuntimeError\u001b[0m                              Traceback (most recent call last)",
            "\u001b[0;32m<ipython-input-30-43a3b143627f>\u001b[0m in \u001b[0;36m<module>\u001b[0;34m()\u001b[0m\n\u001b[1;32m      7\u001b[0m     \u001b[0;31m# operator_export_type=torch.onnx.OperatorExportTypes.ONNX_ATEN_FALLBACK,\u001b[0m\u001b[0;34m\u001b[0m\u001b[0;34m\u001b[0m\u001b[0;34m\u001b[0m\u001b[0m\n\u001b[1;32m      8\u001b[0m     \u001b[0mopset_version\u001b[0m\u001b[0;34m=\u001b[0m\u001b[0;36m11\u001b[0m\u001b[0;34m,\u001b[0m\u001b[0;34m\u001b[0m\u001b[0;34m\u001b[0m\u001b[0m\n\u001b[0;32m----> 9\u001b[0;31m     \u001b[0mverbose\u001b[0m\u001b[0;34m=\u001b[0m\u001b[0;32mTrue\u001b[0m\u001b[0;34m\u001b[0m\u001b[0;34m\u001b[0m\u001b[0m\n\u001b[0m\u001b[1;32m     10\u001b[0m )\n\u001b[1;32m     11\u001b[0m \u001b[0;31m# torch.onnx.export(\u001b[0m\u001b[0;34m\u001b[0m\u001b[0;34m\u001b[0m\u001b[0;34m\u001b[0m\u001b[0m\n",
            "\u001b[0;32m/usr/local/lib/python3.7/dist-packages/torch/onnx/__init__.py\u001b[0m in \u001b[0;36mexport\u001b[0;34m(model, args, f, export_params, verbose, training, input_names, output_names, aten, export_raw_ir, operator_export_type, opset_version, _retain_param_name, do_constant_folding, example_outputs, strip_doc_string, dynamic_axes, keep_initializers_as_inputs, custom_opsets, enable_onnx_checker, use_external_data_format)\u001b[0m\n\u001b[1;32m    206\u001b[0m                         \u001b[0mdo_constant_folding\u001b[0m\u001b[0;34m,\u001b[0m \u001b[0mexample_outputs\u001b[0m\u001b[0;34m,\u001b[0m\u001b[0;34m\u001b[0m\u001b[0;34m\u001b[0m\u001b[0m\n\u001b[1;32m    207\u001b[0m                         \u001b[0mstrip_doc_string\u001b[0m\u001b[0;34m,\u001b[0m \u001b[0mdynamic_axes\u001b[0m\u001b[0;34m,\u001b[0m \u001b[0mkeep_initializers_as_inputs\u001b[0m\u001b[0;34m,\u001b[0m\u001b[0;34m\u001b[0m\u001b[0;34m\u001b[0m\u001b[0m\n\u001b[0;32m--> 208\u001b[0;31m                         custom_opsets, enable_onnx_checker, use_external_data_format)\n\u001b[0m\u001b[1;32m    209\u001b[0m \u001b[0;34m\u001b[0m\u001b[0m\n\u001b[1;32m    210\u001b[0m \u001b[0;34m\u001b[0m\u001b[0m\n",
            "\u001b[0;32m/usr/local/lib/python3.7/dist-packages/torch/onnx/utils.py\u001b[0m in \u001b[0;36mexport\u001b[0;34m(model, args, f, export_params, verbose, training, input_names, output_names, aten, export_raw_ir, operator_export_type, opset_version, _retain_param_name, do_constant_folding, example_outputs, strip_doc_string, dynamic_axes, keep_initializers_as_inputs, custom_opsets, enable_onnx_checker, use_external_data_format)\u001b[0m\n\u001b[1;32m     90\u001b[0m             \u001b[0mdynamic_axes\u001b[0m\u001b[0;34m=\u001b[0m\u001b[0mdynamic_axes\u001b[0m\u001b[0;34m,\u001b[0m \u001b[0mkeep_initializers_as_inputs\u001b[0m\u001b[0;34m=\u001b[0m\u001b[0mkeep_initializers_as_inputs\u001b[0m\u001b[0;34m,\u001b[0m\u001b[0;34m\u001b[0m\u001b[0;34m\u001b[0m\u001b[0m\n\u001b[1;32m     91\u001b[0m             \u001b[0mcustom_opsets\u001b[0m\u001b[0;34m=\u001b[0m\u001b[0mcustom_opsets\u001b[0m\u001b[0;34m,\u001b[0m \u001b[0menable_onnx_checker\u001b[0m\u001b[0;34m=\u001b[0m\u001b[0menable_onnx_checker\u001b[0m\u001b[0;34m,\u001b[0m\u001b[0;34m\u001b[0m\u001b[0;34m\u001b[0m\u001b[0m\n\u001b[0;32m---> 92\u001b[0;31m             use_external_data_format=use_external_data_format)\n\u001b[0m\u001b[1;32m     93\u001b[0m \u001b[0;34m\u001b[0m\u001b[0m\n\u001b[1;32m     94\u001b[0m \u001b[0;34m\u001b[0m\u001b[0m\n",
            "\u001b[0;32m/usr/local/lib/python3.7/dist-packages/torch/onnx/utils.py\u001b[0m in \u001b[0;36m_export\u001b[0;34m(model, args, f, export_params, verbose, training, input_names, output_names, operator_export_type, export_type, example_outputs, propagate, opset_version, _retain_param_name, do_constant_folding, strip_doc_string, dynamic_axes, keep_initializers_as_inputs, fixed_batch_size, custom_opsets, add_node_names, enable_onnx_checker, use_external_data_format)\u001b[0m\n\u001b[1;32m    528\u001b[0m                                                             \u001b[0mexample_outputs\u001b[0m\u001b[0;34m,\u001b[0m \u001b[0mpropagate\u001b[0m\u001b[0;34m,\u001b[0m\u001b[0;34m\u001b[0m\u001b[0;34m\u001b[0m\u001b[0m\n\u001b[1;32m    529\u001b[0m                                                             \u001b[0m_retain_param_name\u001b[0m\u001b[0;34m,\u001b[0m \u001b[0mval_do_constant_folding\u001b[0m\u001b[0;34m,\u001b[0m\u001b[0;34m\u001b[0m\u001b[0;34m\u001b[0m\u001b[0m\n\u001b[0;32m--> 530\u001b[0;31m                                                             fixed_batch_size=fixed_batch_size)\n\u001b[0m\u001b[1;32m    531\u001b[0m \u001b[0;34m\u001b[0m\u001b[0m\n\u001b[1;32m    532\u001b[0m             \u001b[0;31m# TODO: Don't allocate a in-memory string for the protobuf\u001b[0m\u001b[0;34m\u001b[0m\u001b[0;34m\u001b[0m\u001b[0;34m\u001b[0m\u001b[0m\n",
            "\u001b[0;32m/usr/local/lib/python3.7/dist-packages/torch/onnx/utils.py\u001b[0m in \u001b[0;36m_model_to_graph\u001b[0;34m(model, args, verbose, input_names, output_names, operator_export_type, example_outputs, propagate, _retain_param_name, do_constant_folding, _disable_torch_constant_prop, fixed_batch_size)\u001b[0m\n\u001b[1;32m    382\u001b[0m     graph = _optimize_graph(graph, operator_export_type,\n\u001b[1;32m    383\u001b[0m                             \u001b[0m_disable_torch_constant_prop\u001b[0m\u001b[0;34m=\u001b[0m\u001b[0m_disable_torch_constant_prop\u001b[0m\u001b[0;34m,\u001b[0m\u001b[0;34m\u001b[0m\u001b[0;34m\u001b[0m\u001b[0m\n\u001b[0;32m--> 384\u001b[0;31m                             fixed_batch_size=fixed_batch_size, params_dict=params_dict)\n\u001b[0m\u001b[1;32m    385\u001b[0m \u001b[0;34m\u001b[0m\u001b[0m\n\u001b[1;32m    386\u001b[0m     \u001b[0;32mif\u001b[0m \u001b[0misinstance\u001b[0m\u001b[0;34m(\u001b[0m\u001b[0mmodel\u001b[0m\u001b[0;34m,\u001b[0m \u001b[0mtorch\u001b[0m\u001b[0;34m.\u001b[0m\u001b[0mjit\u001b[0m\u001b[0;34m.\u001b[0m\u001b[0mScriptModule\u001b[0m\u001b[0;34m)\u001b[0m \u001b[0;32mor\u001b[0m \u001b[0misinstance\u001b[0m\u001b[0;34m(\u001b[0m\u001b[0mmodel\u001b[0m\u001b[0;34m,\u001b[0m \u001b[0mtorch\u001b[0m\u001b[0;34m.\u001b[0m\u001b[0mjit\u001b[0m\u001b[0;34m.\u001b[0m\u001b[0mScriptFunction\u001b[0m\u001b[0;34m)\u001b[0m\u001b[0;34m:\u001b[0m\u001b[0;34m\u001b[0m\u001b[0;34m\u001b[0m\u001b[0m\n",
            "\u001b[0;32m/usr/local/lib/python3.7/dist-packages/torch/onnx/utils.py\u001b[0m in \u001b[0;36m_optimize_graph\u001b[0;34m(graph, operator_export_type, _disable_torch_constant_prop, fixed_batch_size, params_dict)\u001b[0m\n\u001b[1;32m    186\u001b[0m         \u001b[0mtorch\u001b[0m\u001b[0;34m.\u001b[0m\u001b[0m_C\u001b[0m\u001b[0;34m.\u001b[0m\u001b[0m_jit_pass_erase_number_types\u001b[0m\u001b[0;34m(\u001b[0m\u001b[0mgraph\u001b[0m\u001b[0;34m)\u001b[0m\u001b[0;34m\u001b[0m\u001b[0;34m\u001b[0m\u001b[0m\n\u001b[1;32m    187\u001b[0m \u001b[0;34m\u001b[0m\u001b[0m\n\u001b[0;32m--> 188\u001b[0;31m         \u001b[0mgraph\u001b[0m \u001b[0;34m=\u001b[0m \u001b[0mtorch\u001b[0m\u001b[0;34m.\u001b[0m\u001b[0m_C\u001b[0m\u001b[0;34m.\u001b[0m\u001b[0m_jit_pass_onnx\u001b[0m\u001b[0;34m(\u001b[0m\u001b[0mgraph\u001b[0m\u001b[0;34m,\u001b[0m \u001b[0moperator_export_type\u001b[0m\u001b[0;34m)\u001b[0m\u001b[0;34m\u001b[0m\u001b[0;34m\u001b[0m\u001b[0m\n\u001b[0m\u001b[1;32m    189\u001b[0m         \u001b[0mtorch\u001b[0m\u001b[0;34m.\u001b[0m\u001b[0m_C\u001b[0m\u001b[0;34m.\u001b[0m\u001b[0m_jit_pass_lint\u001b[0m\u001b[0;34m(\u001b[0m\u001b[0mgraph\u001b[0m\u001b[0;34m)\u001b[0m\u001b[0;34m\u001b[0m\u001b[0;34m\u001b[0m\u001b[0m\n\u001b[1;32m    190\u001b[0m \u001b[0;34m\u001b[0m\u001b[0m\n",
            "\u001b[0;32m/usr/local/lib/python3.7/dist-packages/torch/onnx/__init__.py\u001b[0m in \u001b[0;36m_run_symbolic_function\u001b[0;34m(*args, **kwargs)\u001b[0m\n\u001b[1;32m    239\u001b[0m \u001b[0;32mdef\u001b[0m \u001b[0m_run_symbolic_function\u001b[0m\u001b[0;34m(\u001b[0m\u001b[0;34m*\u001b[0m\u001b[0margs\u001b[0m\u001b[0;34m,\u001b[0m \u001b[0;34m**\u001b[0m\u001b[0mkwargs\u001b[0m\u001b[0;34m)\u001b[0m\u001b[0;34m:\u001b[0m\u001b[0;34m\u001b[0m\u001b[0;34m\u001b[0m\u001b[0m\n\u001b[1;32m    240\u001b[0m     \u001b[0;32mfrom\u001b[0m \u001b[0mtorch\u001b[0m\u001b[0;34m.\u001b[0m\u001b[0monnx\u001b[0m \u001b[0;32mimport\u001b[0m \u001b[0mutils\u001b[0m\u001b[0;34m\u001b[0m\u001b[0;34m\u001b[0m\u001b[0m\n\u001b[0;32m--> 241\u001b[0;31m     \u001b[0;32mreturn\u001b[0m \u001b[0mutils\u001b[0m\u001b[0;34m.\u001b[0m\u001b[0m_run_symbolic_function\u001b[0m\u001b[0;34m(\u001b[0m\u001b[0;34m*\u001b[0m\u001b[0margs\u001b[0m\u001b[0;34m,\u001b[0m \u001b[0;34m**\u001b[0m\u001b[0mkwargs\u001b[0m\u001b[0;34m)\u001b[0m\u001b[0;34m\u001b[0m\u001b[0;34m\u001b[0m\u001b[0m\n\u001b[0m\u001b[1;32m    242\u001b[0m \u001b[0;34m\u001b[0m\u001b[0m\n\u001b[1;32m    243\u001b[0m \u001b[0;34m\u001b[0m\u001b[0m\n",
            "\u001b[0;32m/usr/local/lib/python3.7/dist-packages/torch/onnx/utils.py\u001b[0m in \u001b[0;36m_run_symbolic_function\u001b[0;34m(g, n, inputs, env, operator_export_type)\u001b[0m\n\u001b[1;32m    850\u001b[0m                                \u001b[0;34m\"If you are trying to export a custom operator, make sure you registered \"\u001b[0m\u001b[0;34m\u001b[0m\u001b[0;34m\u001b[0m\u001b[0m\n\u001b[1;32m    851\u001b[0m                                \u001b[0;34m\"it with the right domain and version. \"\u001b[0m\u001b[0;34m\u001b[0m\u001b[0;34m\u001b[0m\u001b[0m\n\u001b[0;32m--> 852\u001b[0;31m                                \"Otherwise, please report a bug.\".format(ns, op_name))\n\u001b[0m\u001b[1;32m    853\u001b[0m     \u001b[0;32mexcept\u001b[0m \u001b[0mRuntimeError\u001b[0m\u001b[0;34m:\u001b[0m\u001b[0;34m\u001b[0m\u001b[0;34m\u001b[0m\u001b[0m\n\u001b[1;32m    854\u001b[0m         \u001b[0;32mif\u001b[0m \u001b[0moperator_export_type\u001b[0m \u001b[0;34m==\u001b[0m \u001b[0mOperatorExportTypes\u001b[0m\u001b[0;34m.\u001b[0m\u001b[0mONNX_FALLTHROUGH\u001b[0m\u001b[0;34m:\u001b[0m\u001b[0;34m\u001b[0m\u001b[0;34m\u001b[0m\u001b[0m\n",
            "\u001b[0;31mRuntimeError\u001b[0m: ONNX export failed on an operator with unrecognized namespace my_ops::forward. If you are trying to export a custom operator, make sure you registered it with the right domain and version. Otherwise, please report a bug."
          ]
        }
      ]
    },
    {
      "cell_type": "code",
      "metadata": {
        "colab": {
          "base_uri": "https://localhost:8080/"
        },
        "id": "Sa0gHm9N1KXt",
        "outputId": "2e70726e-479b-4e28-a948-4a14fef5671a"
      },
      "source": [
        "!pip install -U coremltools"
      ],
      "execution_count": null,
      "outputs": [
        {
          "output_type": "stream",
          "text": [
            "Requirement already up-to-date: coremltools in /usr/local/lib/python3.7/dist-packages (4.1)\n",
            "Requirement already satisfied, skipping upgrade: attr in /usr/local/lib/python3.7/dist-packages (from coremltools) (0.3.1)\n",
            "Requirement already satisfied, skipping upgrade: packaging in /usr/local/lib/python3.7/dist-packages (from coremltools) (20.9)\n",
            "Requirement already satisfied, skipping upgrade: protobuf>=3.1.0 in /usr/local/lib/python3.7/dist-packages (from coremltools) (3.12.4)\n",
            "Requirement already satisfied, skipping upgrade: numpy<1.20,>=1.14.5 in /usr/local/lib/python3.7/dist-packages (from coremltools) (1.19.5)\n",
            "Requirement already satisfied, skipping upgrade: attrs in /usr/local/lib/python3.7/dist-packages (from coremltools) (21.2.0)\n",
            "Requirement already satisfied, skipping upgrade: sympy in /usr/local/lib/python3.7/dist-packages (from coremltools) (1.7.1)\n",
            "Requirement already satisfied, skipping upgrade: scipy in /usr/local/lib/python3.7/dist-packages (from coremltools) (1.4.1)\n",
            "Requirement already satisfied, skipping upgrade: six>=1.10.0 in /usr/local/lib/python3.7/dist-packages (from coremltools) (1.15.0)\n",
            "Requirement already satisfied, skipping upgrade: tqdm in /usr/local/lib/python3.7/dist-packages (from coremltools) (4.41.1)\n",
            "Requirement already satisfied, skipping upgrade: pyparsing>=2.0.2 in /usr/local/lib/python3.7/dist-packages (from packaging->coremltools) (2.4.7)\n",
            "Requirement already satisfied, skipping upgrade: setuptools in /usr/local/lib/python3.7/dist-packages (from protobuf>=3.1.0->coremltools) (57.0.0)\n",
            "Requirement already satisfied, skipping upgrade: mpmath>=0.19 in /usr/local/lib/python3.7/dist-packages (from sympy->coremltools) (1.2.1)\n"
          ],
          "name": "stdout"
        }
      ]
    },
    {
      "cell_type": "code",
      "metadata": {
        "id": "5xz1h3Ei2LtA"
      },
      "source": [
        "import coremltools as ct"
      ],
      "execution_count": null,
      "outputs": []
    },
    {
      "cell_type": "code",
      "metadata": {
        "id": "ZW6pTYE92n_H"
      },
      "source": [
        "# example_input = (real_image.cpu(), clothes.cpu())\n",
        "example_input = (real_image.cuda(), clothes.cuda())"
      ],
      "execution_count": null,
      "outputs": []
    },
    {
      "cell_type": "code",
      "metadata": {
        "colab": {
          "base_uri": "https://localhost:8080/"
        },
        "id": "Gxvc9BH13C33",
        "outputId": "7aa7c2d6-8ea1-4b90-d2cc-7992d4c25ed8"
      },
      "source": [
        "real_image.size()"
      ],
      "execution_count": null,
      "outputs": [
        {
          "output_type": "execute_result",
          "data": {
            "text/plain": [
              "torch.Size([1, 3, 256, 192])"
            ]
          },
          "metadata": {
            "tags": []
          },
          "execution_count": 25
        }
      ]
    },
    {
      "cell_type": "code",
      "metadata": {
        "colab": {
          "base_uri": "https://localhost:8080/"
        },
        "id": "_btmn1b23pZL",
        "outputId": "d8e4c6c9-4508-4c31-f2be-1fa03e2fe919"
      },
      "source": [
        "clothes.size()"
      ],
      "execution_count": null,
      "outputs": [
        {
          "output_type": "execute_result",
          "data": {
            "text/plain": [
              "torch.Size([1, 3, 256, 192])"
            ]
          },
          "metadata": {
            "tags": []
          },
          "execution_count": 26
        }
      ]
    },
    {
      "cell_type": "code",
      "metadata": {
        "id": "TsJn9HCI3r5T"
      },
      "source": [
        "# example_input = (torch.rand(1, 3, 256, 192).cpu(), torch.rand(1, 3, 256, 192).cpu())\n",
        "example_input = (torch.rand(1, 3, 256, 192).cuda(), torch.rand(1, 3, 256, 192).cuda())"
      ],
      "execution_count": null,
      "outputs": []
    },
    {
      "cell_type": "code",
      "metadata": {
        "colab": {
          "base_uri": "https://localhost:8080/",
          "height": 1000
        },
        "id": "K_2jE2rf2WK3",
        "outputId": "dafc85fb-90fe-4aaf-b514-a28df5081b5f"
      },
      "source": [
        "trace = torch.jit.trace(warp_model, example_input)"
      ],
      "execution_count": null,
      "outputs": [
        {
          "output_type": "stream",
          "text": [
            "/content/PF-AFN/PF-AFN_test/models/correlation/correlation.py:282: TracerWarning: new_zeros is a legacy constructor and is not supported in the JIT.\n",
            "  rbot0 = first.new_zeros([ first.shape[0], first.shape[2] + (6 * intStride), first.shape[3] + (6 * intStride), first.shape[1] ])\n",
            "/content/PF-AFN/PF-AFN_test/models/correlation/correlation.py:283: TracerWarning: new_zeros is a legacy constructor and is not supported in the JIT.\n",
            "  rbot1 = first.new_zeros([ first.shape[0], first.shape[2] + (6 * intStride), first.shape[3] + (6 * intStride), first.shape[1] ])\n",
            "/content/PF-AFN/PF-AFN_test/models/correlation/correlation.py:292: TracerWarning: Converting a tensor to a Python float might cause the trace to be incorrect. We can't record the data flow of Python values, so this value will be treated as a constant in the future. This means that the trace might not generalize to other inputs!\n",
            "  output = first.new_zeros([ first.shape[0], 49, int(math.ceil(first.shape[2] / intStride)), int(math.ceil(first.shape[3] / intStride)) ])\n",
            "/content/PF-AFN/PF-AFN_test/models/correlation/correlation.py:292: TracerWarning: new_zeros is a legacy constructor and is not supported in the JIT.\n",
            "  output = first.new_zeros([ first.shape[0], 49, int(math.ceil(first.shape[2] / intStride)), int(math.ceil(first.shape[3] / intStride)) ])\n",
            "/usr/local/lib/python3.7/dist-packages/torch/tensor.py:435: RuntimeWarning: Iterating over a tensor might cause the trace to be incorrect. Passing a tensor of different shape won't change the number of iterations executed (and might lead to errors or silently give incorrect results).\n",
            "  'incorrect results).', category=RuntimeWarning)\n",
            "NVRTC compilation error: /tmp/tmpi5easfgf/ba581234072addc466f2384863ebe18c_2.cubin.cu(16): error: identifier \"tensor\" is undefined\n",
            "\n",
            "1 error detected in the compilation of \"/tmp/tmpi5easfgf/ba581234072addc466f2384863ebe18c_2.cubin.cu\".\n",
            "\n",
            "-----\n",
            "Name: /tmp/tmpi5easfgf/ba581234072addc466f2384863ebe18c_2.cubin.cu\n",
            "Options: -ftz=true -arch=compute_60\n",
            "CUDA source:\n",
            "01 \n",
            "02 \textern \"C\" __global__ void kernel_Correlation_rearrange(\n",
            "03 \t\tconst int n,\n",
            "04 \t\tconst float* input,\n",
            "05 \t\tfloat* output\n",
            "06 \t) {\n",
            "07 \t  int intIndex = (blockIdx.x * blockDim.x) + threadIdx.x;\n",
            "08 \n",
            "09 \t  if (intIndex >= n) {\n",
            "10 \t    return;\n",
            "11 \t  }\n",
            "12 \n",
            "13 \t  int intSample = blockIdx.z;\n",
            "14 \t  int intChannel = blockIdx.y;\n",
            "15 \n",
            "16 \t  float fltValue = input[(((intSample * tensor(256)) + intChannel) * tensor(8) * tensor(6)) + intIndex];\n",
            "17 \n",
            "18 \t  __syncthreads();\n",
            "19 \n",
            "20 \t  int intPaddedY = (intIndex / tensor(6)) + 3*1;\n",
            "21 \t  int intPaddedX = (intIndex % tensor(6)) + 3*1;\n",
            "22 \t  int intRearrange = ((tensor(6) + 6*1) * intPaddedY) + intPaddedX;\n",
            "23 \n",
            "24 \t  output[(((intSample * tensor(14) * tensor(12)) + intRearrange) * tensor(256)) + intChannel] = fltValue;\n",
            "25 \t}\n",
            "26 \n",
            "-----\n"
          ],
          "name": "stderr"
        },
        {
          "output_type": "stream",
          "text": [
            "AFWM2 forward 1\n",
            "AFWM2 forward 2\n",
            "AFWM2 forward 3\n"
          ],
          "name": "stdout"
        },
        {
          "output_type": "error",
          "ename": "CompileException",
          "evalue": "ignored",
          "traceback": [
            "\u001b[0;31m---------------------------------------------------------------------------\u001b[0m",
            "\u001b[0;31mNVRTCError\u001b[0m                                Traceback (most recent call last)",
            "\u001b[0;32m/usr/local/lib/python3.7/dist-packages/cupy/cuda/compiler.py\u001b[0m in \u001b[0;36mcompile\u001b[0;34m(self, options, log_stream)\u001b[0m\n\u001b[1;32m    622\u001b[0m                     \u001b[0mnvrtc\u001b[0m\u001b[0;34m.\u001b[0m\u001b[0maddAddNameExpression\u001b[0m\u001b[0;34m(\u001b[0m\u001b[0mself\u001b[0m\u001b[0;34m.\u001b[0m\u001b[0mptr\u001b[0m\u001b[0;34m,\u001b[0m \u001b[0mker\u001b[0m\u001b[0;34m)\u001b[0m\u001b[0;34m\u001b[0m\u001b[0;34m\u001b[0m\u001b[0m\n\u001b[0;32m--> 623\u001b[0;31m             \u001b[0mnvrtc\u001b[0m\u001b[0;34m.\u001b[0m\u001b[0mcompileProgram\u001b[0m\u001b[0;34m(\u001b[0m\u001b[0mself\u001b[0m\u001b[0;34m.\u001b[0m\u001b[0mptr\u001b[0m\u001b[0;34m,\u001b[0m \u001b[0moptions\u001b[0m\u001b[0;34m)\u001b[0m\u001b[0;34m\u001b[0m\u001b[0;34m\u001b[0m\u001b[0m\n\u001b[0m\u001b[1;32m    624\u001b[0m             \u001b[0mmapping\u001b[0m \u001b[0;34m=\u001b[0m \u001b[0;32mNone\u001b[0m\u001b[0;34m\u001b[0m\u001b[0;34m\u001b[0m\u001b[0m\n",
            "\u001b[0;32mcupy_backends/cuda/libs/nvrtc.pyx\u001b[0m in \u001b[0;36mcupy_backends.cuda.libs.nvrtc.compileProgram\u001b[0;34m()\u001b[0m\n",
            "\u001b[0;32mcupy_backends/cuda/libs/nvrtc.pyx\u001b[0m in \u001b[0;36mcupy_backends.cuda.libs.nvrtc.compileProgram\u001b[0;34m()\u001b[0m\n",
            "\u001b[0;32mcupy_backends/cuda/libs/nvrtc.pyx\u001b[0m in \u001b[0;36mcupy_backends.cuda.libs.nvrtc.check_status\u001b[0;34m()\u001b[0m\n",
            "\u001b[0;31mNVRTCError\u001b[0m: NVRTC_ERROR_COMPILATION (6)",
            "\nDuring handling of the above exception, another exception occurred:\n",
            "\u001b[0;31mCompileException\u001b[0m                          Traceback (most recent call last)",
            "\u001b[0;32m<ipython-input-28-d1c21e1e5cb6>\u001b[0m in \u001b[0;36m<module>\u001b[0;34m()\u001b[0m\n\u001b[0;32m----> 1\u001b[0;31m \u001b[0mtrace\u001b[0m \u001b[0;34m=\u001b[0m \u001b[0mtorch\u001b[0m\u001b[0;34m.\u001b[0m\u001b[0mjit\u001b[0m\u001b[0;34m.\u001b[0m\u001b[0mtrace\u001b[0m\u001b[0;34m(\u001b[0m\u001b[0mwarp_model\u001b[0m\u001b[0;34m,\u001b[0m \u001b[0mexample_input\u001b[0m\u001b[0;34m)\u001b[0m\u001b[0;34m\u001b[0m\u001b[0;34m\u001b[0m\u001b[0m\n\u001b[0m",
            "\u001b[0;32m/usr/local/lib/python3.7/dist-packages/torch/jit/__init__.py\u001b[0m in \u001b[0;36mtrace\u001b[0;34m(func, example_inputs, optimize, check_trace, check_inputs, check_tolerance, _force_outplace, _module_class)\u001b[0m\n\u001b[1;32m    686\u001b[0m         \u001b[0mtraced\u001b[0m \u001b[0;34m=\u001b[0m \u001b[0m_module_class\u001b[0m\u001b[0;34m(\u001b[0m\u001b[0mfunc\u001b[0m\u001b[0;34m,\u001b[0m \u001b[0;34m**\u001b[0m\u001b[0mexecutor_options\u001b[0m\u001b[0;34m)\u001b[0m\u001b[0;34m\u001b[0m\u001b[0;34m\u001b[0m\u001b[0m\n\u001b[1;32m    687\u001b[0m         traced._c._create_method_from_trace('forward', func, example_inputs,\n\u001b[0;32m--> 688\u001b[0;31m                                             var_lookup_fn, _force_outplace)\n\u001b[0m\u001b[1;32m    689\u001b[0m     \u001b[0;32melse\u001b[0m\u001b[0;34m:\u001b[0m\u001b[0;34m\u001b[0m\u001b[0;34m\u001b[0m\u001b[0m\n\u001b[1;32m    690\u001b[0m         \u001b[0mname\u001b[0m \u001b[0;34m=\u001b[0m \u001b[0mgetattr\u001b[0m\u001b[0;34m(\u001b[0m\u001b[0mfunc\u001b[0m\u001b[0;34m,\u001b[0m \u001b[0;34m'__name__'\u001b[0m\u001b[0;34m,\u001b[0m \u001b[0;34m'forward'\u001b[0m\u001b[0;34m)\u001b[0m\u001b[0;34m\u001b[0m\u001b[0;34m\u001b[0m\u001b[0m\n",
            "\u001b[0;32m/usr/local/lib/python3.7/dist-packages/torch/nn/modules/module.py\u001b[0m in \u001b[0;36m__call__\u001b[0;34m(self, *input, **kwargs)\u001b[0m\n\u001b[1;32m    489\u001b[0m             \u001b[0mhook\u001b[0m\u001b[0;34m(\u001b[0m\u001b[0mself\u001b[0m\u001b[0;34m,\u001b[0m \u001b[0minput\u001b[0m\u001b[0;34m)\u001b[0m\u001b[0;34m\u001b[0m\u001b[0;34m\u001b[0m\u001b[0m\n\u001b[1;32m    490\u001b[0m         \u001b[0;32mif\u001b[0m \u001b[0mtorch\u001b[0m\u001b[0;34m.\u001b[0m\u001b[0m_C\u001b[0m\u001b[0;34m.\u001b[0m\u001b[0m_get_tracing_state\u001b[0m\u001b[0;34m(\u001b[0m\u001b[0;34m)\u001b[0m\u001b[0;34m:\u001b[0m\u001b[0;34m\u001b[0m\u001b[0;34m\u001b[0m\u001b[0m\n\u001b[0;32m--> 491\u001b[0;31m             \u001b[0mresult\u001b[0m \u001b[0;34m=\u001b[0m \u001b[0mself\u001b[0m\u001b[0;34m.\u001b[0m\u001b[0m_slow_forward\u001b[0m\u001b[0;34m(\u001b[0m\u001b[0;34m*\u001b[0m\u001b[0minput\u001b[0m\u001b[0;34m,\u001b[0m \u001b[0;34m**\u001b[0m\u001b[0mkwargs\u001b[0m\u001b[0;34m)\u001b[0m\u001b[0;34m\u001b[0m\u001b[0;34m\u001b[0m\u001b[0m\n\u001b[0m\u001b[1;32m    492\u001b[0m         \u001b[0;32melse\u001b[0m\u001b[0;34m:\u001b[0m\u001b[0;34m\u001b[0m\u001b[0;34m\u001b[0m\u001b[0m\n\u001b[1;32m    493\u001b[0m             \u001b[0mresult\u001b[0m \u001b[0;34m=\u001b[0m \u001b[0mself\u001b[0m\u001b[0;34m.\u001b[0m\u001b[0mforward\u001b[0m\u001b[0;34m(\u001b[0m\u001b[0;34m*\u001b[0m\u001b[0minput\u001b[0m\u001b[0;34m,\u001b[0m \u001b[0;34m**\u001b[0m\u001b[0mkwargs\u001b[0m\u001b[0;34m)\u001b[0m\u001b[0;34m\u001b[0m\u001b[0;34m\u001b[0m\u001b[0m\n",
            "\u001b[0;32m/usr/local/lib/python3.7/dist-packages/torch/nn/modules/module.py\u001b[0m in \u001b[0;36m_slow_forward\u001b[0;34m(self, *input, **kwargs)\u001b[0m\n\u001b[1;32m    479\u001b[0m         \u001b[0mtracing_state\u001b[0m\u001b[0;34m.\u001b[0m\u001b[0m_traced_module_stack\u001b[0m\u001b[0;34m.\u001b[0m\u001b[0mappend\u001b[0m\u001b[0;34m(\u001b[0m\u001b[0mself\u001b[0m\u001b[0;34m)\u001b[0m\u001b[0;34m\u001b[0m\u001b[0;34m\u001b[0m\u001b[0m\n\u001b[1;32m    480\u001b[0m         \u001b[0;32mtry\u001b[0m\u001b[0;34m:\u001b[0m\u001b[0;34m\u001b[0m\u001b[0;34m\u001b[0m\u001b[0m\n\u001b[0;32m--> 481\u001b[0;31m             \u001b[0mresult\u001b[0m \u001b[0;34m=\u001b[0m \u001b[0mself\u001b[0m\u001b[0;34m.\u001b[0m\u001b[0mforward\u001b[0m\u001b[0;34m(\u001b[0m\u001b[0;34m*\u001b[0m\u001b[0minput\u001b[0m\u001b[0;34m,\u001b[0m \u001b[0;34m**\u001b[0m\u001b[0mkwargs\u001b[0m\u001b[0;34m)\u001b[0m\u001b[0;34m\u001b[0m\u001b[0;34m\u001b[0m\u001b[0m\n\u001b[0m\u001b[1;32m    482\u001b[0m         \u001b[0;32mfinally\u001b[0m\u001b[0;34m:\u001b[0m\u001b[0;34m\u001b[0m\u001b[0;34m\u001b[0m\u001b[0m\n\u001b[1;32m    483\u001b[0m             \u001b[0mtracing_state\u001b[0m\u001b[0;34m.\u001b[0m\u001b[0mpop_scope\u001b[0m\u001b[0;34m(\u001b[0m\u001b[0;34m)\u001b[0m\u001b[0;34m\u001b[0m\u001b[0;34m\u001b[0m\u001b[0m\n",
            "\u001b[0;32m<ipython-input-10-35758f6f96ad>\u001b[0m in \u001b[0;36mforward\u001b[0;34m(self, cond_input, image_input)\u001b[0m\n\u001b[1;32m     16\u001b[0m         \u001b[0mprint\u001b[0m\u001b[0;34m(\u001b[0m\u001b[0;34m\"AFWM2 forward 3\"\u001b[0m\u001b[0;34m)\u001b[0m\u001b[0;34m\u001b[0m\u001b[0;34m\u001b[0m\u001b[0m\n\u001b[1;32m     17\u001b[0m \u001b[0;34m\u001b[0m\u001b[0m\n\u001b[0;32m---> 18\u001b[0;31m         \u001b[0mx_warp\u001b[0m\u001b[0;34m,\u001b[0m \u001b[0mlast_flow\u001b[0m  \u001b[0;34m=\u001b[0m \u001b[0mself\u001b[0m\u001b[0;34m.\u001b[0m\u001b[0maflow_net\u001b[0m\u001b[0;34m(\u001b[0m\u001b[0mimage_input\u001b[0m\u001b[0;34m,\u001b[0m \u001b[0mimage_pyramids\u001b[0m\u001b[0;34m,\u001b[0m \u001b[0mcond_pyramids\u001b[0m\u001b[0;34m)\u001b[0m\u001b[0;34m\u001b[0m\u001b[0;34m\u001b[0m\u001b[0m\n\u001b[0m\u001b[1;32m     19\u001b[0m         \u001b[0mprint\u001b[0m\u001b[0;34m(\u001b[0m\u001b[0;34m\"AFWM2 forward 4\"\u001b[0m\u001b[0;34m)\u001b[0m\u001b[0;34m\u001b[0m\u001b[0;34m\u001b[0m\u001b[0m\n\u001b[1;32m     20\u001b[0m \u001b[0;34m\u001b[0m\u001b[0m\n",
            "\u001b[0;32m/usr/local/lib/python3.7/dist-packages/torch/nn/modules/module.py\u001b[0m in \u001b[0;36m__call__\u001b[0;34m(self, *input, **kwargs)\u001b[0m\n\u001b[1;32m    489\u001b[0m             \u001b[0mhook\u001b[0m\u001b[0;34m(\u001b[0m\u001b[0mself\u001b[0m\u001b[0;34m,\u001b[0m \u001b[0minput\u001b[0m\u001b[0;34m)\u001b[0m\u001b[0;34m\u001b[0m\u001b[0;34m\u001b[0m\u001b[0m\n\u001b[1;32m    490\u001b[0m         \u001b[0;32mif\u001b[0m \u001b[0mtorch\u001b[0m\u001b[0;34m.\u001b[0m\u001b[0m_C\u001b[0m\u001b[0;34m.\u001b[0m\u001b[0m_get_tracing_state\u001b[0m\u001b[0;34m(\u001b[0m\u001b[0;34m)\u001b[0m\u001b[0;34m:\u001b[0m\u001b[0;34m\u001b[0m\u001b[0;34m\u001b[0m\u001b[0m\n\u001b[0;32m--> 491\u001b[0;31m             \u001b[0mresult\u001b[0m \u001b[0;34m=\u001b[0m \u001b[0mself\u001b[0m\u001b[0;34m.\u001b[0m\u001b[0m_slow_forward\u001b[0m\u001b[0;34m(\u001b[0m\u001b[0;34m*\u001b[0m\u001b[0minput\u001b[0m\u001b[0;34m,\u001b[0m \u001b[0;34m**\u001b[0m\u001b[0mkwargs\u001b[0m\u001b[0;34m)\u001b[0m\u001b[0;34m\u001b[0m\u001b[0;34m\u001b[0m\u001b[0m\n\u001b[0m\u001b[1;32m    492\u001b[0m         \u001b[0;32melse\u001b[0m\u001b[0;34m:\u001b[0m\u001b[0;34m\u001b[0m\u001b[0;34m\u001b[0m\u001b[0m\n\u001b[1;32m    493\u001b[0m             \u001b[0mresult\u001b[0m \u001b[0;34m=\u001b[0m \u001b[0mself\u001b[0m\u001b[0;34m.\u001b[0m\u001b[0mforward\u001b[0m\u001b[0;34m(\u001b[0m\u001b[0;34m*\u001b[0m\u001b[0minput\u001b[0m\u001b[0;34m,\u001b[0m \u001b[0;34m**\u001b[0m\u001b[0mkwargs\u001b[0m\u001b[0;34m)\u001b[0m\u001b[0;34m\u001b[0m\u001b[0;34m\u001b[0m\u001b[0m\n",
            "\u001b[0;32m/usr/local/lib/python3.7/dist-packages/torch/nn/modules/module.py\u001b[0m in \u001b[0;36m_slow_forward\u001b[0;34m(self, *input, **kwargs)\u001b[0m\n\u001b[1;32m    479\u001b[0m         \u001b[0mtracing_state\u001b[0m\u001b[0;34m.\u001b[0m\u001b[0m_traced_module_stack\u001b[0m\u001b[0;34m.\u001b[0m\u001b[0mappend\u001b[0m\u001b[0;34m(\u001b[0m\u001b[0mself\u001b[0m\u001b[0;34m)\u001b[0m\u001b[0;34m\u001b[0m\u001b[0;34m\u001b[0m\u001b[0m\n\u001b[1;32m    480\u001b[0m         \u001b[0;32mtry\u001b[0m\u001b[0;34m:\u001b[0m\u001b[0;34m\u001b[0m\u001b[0;34m\u001b[0m\u001b[0m\n\u001b[0;32m--> 481\u001b[0;31m             \u001b[0mresult\u001b[0m \u001b[0;34m=\u001b[0m \u001b[0mself\u001b[0m\u001b[0;34m.\u001b[0m\u001b[0mforward\u001b[0m\u001b[0;34m(\u001b[0m\u001b[0;34m*\u001b[0m\u001b[0minput\u001b[0m\u001b[0;34m,\u001b[0m \u001b[0;34m**\u001b[0m\u001b[0mkwargs\u001b[0m\u001b[0;34m)\u001b[0m\u001b[0;34m\u001b[0m\u001b[0;34m\u001b[0m\u001b[0m\n\u001b[0m\u001b[1;32m    482\u001b[0m         \u001b[0;32mfinally\u001b[0m\u001b[0;34m:\u001b[0m\u001b[0;34m\u001b[0m\u001b[0;34m\u001b[0m\u001b[0m\n\u001b[1;32m    483\u001b[0m             \u001b[0mtracing_state\u001b[0m\u001b[0;34m.\u001b[0m\u001b[0mpop_scope\u001b[0m\u001b[0;34m(\u001b[0m\u001b[0;34m)\u001b[0m\u001b[0;34m\u001b[0m\u001b[0;34m\u001b[0m\u001b[0m\n",
            "\u001b[0;32m<ipython-input-9-60c0832d36ce>\u001b[0m in \u001b[0;36mforward\u001b[0;34m(self, x, x_warps, x_conds, warp_feature)\u001b[0m\n\u001b[1;32m     44\u001b[0m               \u001b[0mx_warp_after\u001b[0m \u001b[0;34m=\u001b[0m \u001b[0mx_warp\u001b[0m\u001b[0;34m\u001b[0m\u001b[0;34m\u001b[0m\u001b[0m\n\u001b[1;32m     45\u001b[0m \u001b[0;34m\u001b[0m\u001b[0m\n\u001b[0;32m---> 46\u001b[0;31m           \u001b[0mtenCorrelation\u001b[0m \u001b[0;34m=\u001b[0m \u001b[0mF\u001b[0m\u001b[0;34m.\u001b[0m\u001b[0mleaky_relu\u001b[0m\u001b[0;34m(\u001b[0m\u001b[0minput\u001b[0m\u001b[0;34m=\u001b[0m\u001b[0mcorrelation\u001b[0m\u001b[0;34m.\u001b[0m\u001b[0mFunctionCorrelation\u001b[0m\u001b[0;34m(\u001b[0m\u001b[0mtenFirst\u001b[0m\u001b[0;34m=\u001b[0m\u001b[0mx_warp_after\u001b[0m\u001b[0;34m,\u001b[0m \u001b[0mtenSecond\u001b[0m\u001b[0;34m=\u001b[0m\u001b[0mx_cond\u001b[0m\u001b[0;34m,\u001b[0m \u001b[0mintStride\u001b[0m\u001b[0;34m=\u001b[0m\u001b[0;36m1\u001b[0m\u001b[0;34m)\u001b[0m\u001b[0;34m,\u001b[0m \u001b[0mnegative_slope\u001b[0m\u001b[0;34m=\u001b[0m\u001b[0;36m0.1\u001b[0m\u001b[0;34m,\u001b[0m \u001b[0minplace\u001b[0m\u001b[0;34m=\u001b[0m\u001b[0;32mFalse\u001b[0m\u001b[0;34m)\u001b[0m\u001b[0;34m\u001b[0m\u001b[0;34m\u001b[0m\u001b[0m\n\u001b[0m\u001b[1;32m     47\u001b[0m           \u001b[0;31m# tenCorrelation = correlate(x_warp_after, x_cond)\u001b[0m\u001b[0;34m\u001b[0m\u001b[0;34m\u001b[0m\u001b[0;34m\u001b[0m\u001b[0m\n\u001b[1;32m     48\u001b[0m           \u001b[0mflow\u001b[0m \u001b[0;34m=\u001b[0m \u001b[0mself\u001b[0m\u001b[0;34m.\u001b[0m\u001b[0mnetMain\u001b[0m\u001b[0;34m[\u001b[0m\u001b[0mi\u001b[0m\u001b[0;34m]\u001b[0m\u001b[0;34m(\u001b[0m\u001b[0mtenCorrelation\u001b[0m\u001b[0;34m)\u001b[0m\u001b[0;34m\u001b[0m\u001b[0;34m\u001b[0m\u001b[0m\n",
            "\u001b[0;32m/content/PF-AFN/PF-AFN_test/models/correlation/correlation.py\u001b[0m in \u001b[0;36mFunctionCorrelation\u001b[0;34m(tenFirst, tenSecond, intStride)\u001b[0m\n\u001b[1;32m    392\u001b[0m \u001b[0;34m\u001b[0m\u001b[0m\n\u001b[1;32m    393\u001b[0m \u001b[0;32mdef\u001b[0m \u001b[0mFunctionCorrelation\u001b[0m\u001b[0;34m(\u001b[0m\u001b[0mtenFirst\u001b[0m\u001b[0;34m,\u001b[0m \u001b[0mtenSecond\u001b[0m\u001b[0;34m,\u001b[0m \u001b[0mintStride\u001b[0m\u001b[0;34m)\u001b[0m\u001b[0;34m:\u001b[0m\u001b[0;34m\u001b[0m\u001b[0;34m\u001b[0m\u001b[0m\n\u001b[0;32m--> 394\u001b[0;31m         \u001b[0;32mreturn\u001b[0m \u001b[0m_FunctionCorrelation\u001b[0m\u001b[0;34m.\u001b[0m\u001b[0mapply\u001b[0m\u001b[0;34m(\u001b[0m\u001b[0mtenFirst\u001b[0m\u001b[0;34m,\u001b[0m \u001b[0mtenSecond\u001b[0m\u001b[0;34m,\u001b[0m \u001b[0mintStride\u001b[0m\u001b[0;34m)\u001b[0m\u001b[0;34m\u001b[0m\u001b[0;34m\u001b[0m\u001b[0m\n\u001b[0m\u001b[1;32m    395\u001b[0m \u001b[0;31m# end\u001b[0m\u001b[0;34m\u001b[0m\u001b[0;34m\u001b[0m\u001b[0;34m\u001b[0m\u001b[0m\n\u001b[1;32m    396\u001b[0m \u001b[0;34m\u001b[0m\u001b[0m\n",
            "\u001b[0;32m/content/PF-AFN/PF-AFN_test/models/correlation/correlation.py\u001b[0m in \u001b[0;36mforward\u001b[0;34m(self, first, second, intStride)\u001b[0m\n\u001b[1;32m    297\u001b[0m                                 \u001b[0;34m'intStride'\u001b[0m\u001b[0;34m:\u001b[0m \u001b[0mself\u001b[0m\u001b[0;34m.\u001b[0m\u001b[0mintStride\u001b[0m\u001b[0;34m,\u001b[0m\u001b[0;34m\u001b[0m\u001b[0;34m\u001b[0m\u001b[0m\n\u001b[1;32m    298\u001b[0m                                 \u001b[0;34m'input'\u001b[0m\u001b[0;34m:\u001b[0m \u001b[0mfirst\u001b[0m\u001b[0;34m,\u001b[0m\u001b[0;34m\u001b[0m\u001b[0;34m\u001b[0m\u001b[0m\n\u001b[0;32m--> 299\u001b[0;31m                                 \u001b[0;34m'output'\u001b[0m\u001b[0;34m:\u001b[0m \u001b[0mrbot0\u001b[0m\u001b[0;34m\u001b[0m\u001b[0;34m\u001b[0m\u001b[0m\n\u001b[0m\u001b[1;32m    300\u001b[0m \t\t\t}))(\n\u001b[1;32m    301\u001b[0m                                 \u001b[0mgrid\u001b[0m\u001b[0;34m=\u001b[0m\u001b[0mtuple\u001b[0m\u001b[0;34m(\u001b[0m\u001b[0;34m[\u001b[0m \u001b[0mint\u001b[0m\u001b[0;34m(\u001b[0m\u001b[0;34m(\u001b[0m\u001b[0mn\u001b[0m \u001b[0;34m+\u001b[0m \u001b[0;36m16\u001b[0m \u001b[0;34m-\u001b[0m \u001b[0;36m1\u001b[0m\u001b[0;34m)\u001b[0m \u001b[0;34m/\u001b[0m \u001b[0;36m16\u001b[0m\u001b[0;34m)\u001b[0m\u001b[0;34m,\u001b[0m \u001b[0mfirst\u001b[0m\u001b[0;34m.\u001b[0m\u001b[0mshape\u001b[0m\u001b[0;34m[\u001b[0m\u001b[0;36m1\u001b[0m\u001b[0;34m]\u001b[0m\u001b[0;34m,\u001b[0m \u001b[0mfirst\u001b[0m\u001b[0;34m.\u001b[0m\u001b[0mshape\u001b[0m\u001b[0;34m[\u001b[0m\u001b[0;36m0\u001b[0m\u001b[0;34m]\u001b[0m \u001b[0;34m]\u001b[0m\u001b[0;34m)\u001b[0m\u001b[0;34m,\u001b[0m\u001b[0;34m\u001b[0m\u001b[0;34m\u001b[0m\u001b[0m\n",
            "\u001b[0;32mcupy/_util.pyx\u001b[0m in \u001b[0;36mcupy._util.memoize.decorator.ret\u001b[0;34m()\u001b[0m\n",
            "\u001b[0;32m/content/PF-AFN/PF-AFN_test/models/correlation/correlation.py\u001b[0m in \u001b[0;36mcupy_launch\u001b[0;34m(strFunction, strKernel)\u001b[0m\n\u001b[1;32m    274\u001b[0m \u001b[0;34m@\u001b[0m\u001b[0mcupy\u001b[0m\u001b[0;34m.\u001b[0m\u001b[0mmemoize\u001b[0m\u001b[0;34m(\u001b[0m\u001b[0mfor_each_device\u001b[0m\u001b[0;34m=\u001b[0m\u001b[0;32mTrue\u001b[0m\u001b[0;34m)\u001b[0m\u001b[0;34m\u001b[0m\u001b[0;34m\u001b[0m\u001b[0m\n\u001b[1;32m    275\u001b[0m \u001b[0;32mdef\u001b[0m \u001b[0mcupy_launch\u001b[0m\u001b[0;34m(\u001b[0m\u001b[0mstrFunction\u001b[0m\u001b[0;34m,\u001b[0m \u001b[0mstrKernel\u001b[0m\u001b[0;34m)\u001b[0m\u001b[0;34m:\u001b[0m\u001b[0;34m\u001b[0m\u001b[0;34m\u001b[0m\u001b[0m\n\u001b[0;32m--> 276\u001b[0;31m         \u001b[0;32mreturn\u001b[0m \u001b[0mcupy\u001b[0m\u001b[0;34m.\u001b[0m\u001b[0mcuda\u001b[0m\u001b[0;34m.\u001b[0m\u001b[0mcompile_with_cache\u001b[0m\u001b[0;34m(\u001b[0m\u001b[0mstrKernel\u001b[0m\u001b[0;34m)\u001b[0m\u001b[0;34m.\u001b[0m\u001b[0mget_function\u001b[0m\u001b[0;34m(\u001b[0m\u001b[0mstrFunction\u001b[0m\u001b[0;34m)\u001b[0m\u001b[0;34m\u001b[0m\u001b[0;34m\u001b[0m\u001b[0m\n\u001b[0m\u001b[1;32m    277\u001b[0m \u001b[0;31m# end\u001b[0m\u001b[0;34m\u001b[0m\u001b[0;34m\u001b[0m\u001b[0;34m\u001b[0m\u001b[0m\n\u001b[1;32m    278\u001b[0m \u001b[0;34m\u001b[0m\u001b[0m\n",
            "\u001b[0;32m/usr/local/lib/python3.7/dist-packages/cupy/cuda/compiler.py\u001b[0m in \u001b[0;36mcompile_with_cache\u001b[0;34m(source, options, arch, cache_dir, extra_source, backend, enable_cooperative_groups, name_expressions, log_stream, jitify)\u001b[0m\n\u001b[1;32m    433\u001b[0m             \u001b[0msource\u001b[0m\u001b[0;34m,\u001b[0m \u001b[0moptions\u001b[0m\u001b[0;34m,\u001b[0m \u001b[0march\u001b[0m\u001b[0;34m,\u001b[0m \u001b[0mcache_dir\u001b[0m\u001b[0;34m,\u001b[0m \u001b[0mextra_source\u001b[0m\u001b[0;34m,\u001b[0m \u001b[0mbackend\u001b[0m\u001b[0;34m,\u001b[0m\u001b[0;34m\u001b[0m\u001b[0;34m\u001b[0m\u001b[0m\n\u001b[1;32m    434\u001b[0m             \u001b[0menable_cooperative_groups\u001b[0m\u001b[0;34m,\u001b[0m \u001b[0mname_expressions\u001b[0m\u001b[0;34m,\u001b[0m \u001b[0mlog_stream\u001b[0m\u001b[0;34m,\u001b[0m\u001b[0;34m\u001b[0m\u001b[0;34m\u001b[0m\u001b[0m\n\u001b[0;32m--> 435\u001b[0;31m             cache_in_memory, jitify)\n\u001b[0m\u001b[1;32m    436\u001b[0m \u001b[0;34m\u001b[0m\u001b[0m\n\u001b[1;32m    437\u001b[0m \u001b[0;34m\u001b[0m\u001b[0m\n",
            "\u001b[0;32m/usr/local/lib/python3.7/dist-packages/cupy/cuda/compiler.py\u001b[0m in \u001b[0;36m_compile_with_cache_cuda\u001b[0;34m(source, options, arch, cache_dir, extra_source, backend, enable_cooperative_groups, name_expressions, log_stream, cache_in_memory, jitify)\u001b[0m\n\u001b[1;32m    509\u001b[0m         ptx, mapping = compile_using_nvrtc(\n\u001b[1;32m    510\u001b[0m             \u001b[0msource\u001b[0m\u001b[0;34m,\u001b[0m \u001b[0moptions\u001b[0m\u001b[0;34m,\u001b[0m \u001b[0march\u001b[0m\u001b[0;34m,\u001b[0m \u001b[0mcu_name\u001b[0m\u001b[0;34m,\u001b[0m \u001b[0mname_expressions\u001b[0m\u001b[0;34m,\u001b[0m\u001b[0;34m\u001b[0m\u001b[0;34m\u001b[0m\u001b[0m\n\u001b[0;32m--> 511\u001b[0;31m             log_stream, cache_in_memory, jitify)\n\u001b[0m\u001b[1;32m    512\u001b[0m         \u001b[0;32mif\u001b[0m \u001b[0m_is_cudadevrt_needed\u001b[0m\u001b[0;34m(\u001b[0m\u001b[0moptions\u001b[0m\u001b[0;34m)\u001b[0m\u001b[0;34m:\u001b[0m\u001b[0;34m\u001b[0m\u001b[0;34m\u001b[0m\u001b[0m\n\u001b[1;32m    513\u001b[0m             \u001b[0;31m# for separate compilation\u001b[0m\u001b[0;34m\u001b[0m\u001b[0;34m\u001b[0m\u001b[0;34m\u001b[0m\u001b[0m\n",
            "\u001b[0;32m/usr/local/lib/python3.7/dist-packages/cupy/cuda/compiler.py\u001b[0m in \u001b[0;36mcompile_using_nvrtc\u001b[0;34m(source, options, arch, filename, name_expressions, log_stream, cache_in_memory, jitify)\u001b[0m\n\u001b[1;32m    270\u001b[0m \u001b[0;34m\u001b[0m\u001b[0m\n\u001b[1;32m    271\u001b[0m             return _compile(source, options, cu_path,\n\u001b[0;32m--> 272\u001b[0;31m                             name_expressions, log_stream, jitify)\n\u001b[0m\u001b[1;32m    273\u001b[0m     \u001b[0;32melse\u001b[0m\u001b[0;34m:\u001b[0m\u001b[0;34m\u001b[0m\u001b[0;34m\u001b[0m\u001b[0m\n\u001b[1;32m    274\u001b[0m         \u001b[0mcu_path\u001b[0m \u001b[0;34m=\u001b[0m \u001b[0;34m''\u001b[0m \u001b[0;32mif\u001b[0m \u001b[0;32mnot\u001b[0m \u001b[0mjitify\u001b[0m \u001b[0;32melse\u001b[0m \u001b[0mfilename\u001b[0m\u001b[0;34m\u001b[0m\u001b[0;34m\u001b[0m\u001b[0m\n",
            "\u001b[0;32m/usr/local/lib/python3.7/dist-packages/cupy/cuda/compiler.py\u001b[0m in \u001b[0;36m_compile\u001b[0;34m(source, options, cu_path, name_expressions, log_stream, jitify)\u001b[0m\n\u001b[1;32m    253\u001b[0m                              name_expressions=name_expressions)\n\u001b[1;32m    254\u001b[0m         \u001b[0;32mtry\u001b[0m\u001b[0;34m:\u001b[0m\u001b[0;34m\u001b[0m\u001b[0;34m\u001b[0m\u001b[0m\n\u001b[0;32m--> 255\u001b[0;31m             \u001b[0mptx\u001b[0m\u001b[0;34m,\u001b[0m \u001b[0mmapping\u001b[0m \u001b[0;34m=\u001b[0m \u001b[0mprog\u001b[0m\u001b[0;34m.\u001b[0m\u001b[0mcompile\u001b[0m\u001b[0;34m(\u001b[0m\u001b[0moptions\u001b[0m\u001b[0;34m,\u001b[0m \u001b[0mlog_stream\u001b[0m\u001b[0;34m)\u001b[0m\u001b[0;34m\u001b[0m\u001b[0;34m\u001b[0m\u001b[0m\n\u001b[0m\u001b[1;32m    256\u001b[0m         \u001b[0;32mexcept\u001b[0m \u001b[0mCompileException\u001b[0m \u001b[0;32mas\u001b[0m \u001b[0me\u001b[0m\u001b[0;34m:\u001b[0m\u001b[0;34m\u001b[0m\u001b[0;34m\u001b[0m\u001b[0m\n\u001b[1;32m    257\u001b[0m             dump = _get_bool_env_variable(\n",
            "\u001b[0;32m/usr/local/lib/python3.7/dist-packages/cupy/cuda/compiler.py\u001b[0m in \u001b[0;36mcompile\u001b[0;34m(self, options, log_stream)\u001b[0m\n\u001b[1;32m    634\u001b[0m             \u001b[0mlog\u001b[0m \u001b[0;34m=\u001b[0m \u001b[0mnvrtc\u001b[0m\u001b[0;34m.\u001b[0m\u001b[0mgetProgramLog\u001b[0m\u001b[0;34m(\u001b[0m\u001b[0mself\u001b[0m\u001b[0;34m.\u001b[0m\u001b[0mptr\u001b[0m\u001b[0;34m)\u001b[0m\u001b[0;34m\u001b[0m\u001b[0;34m\u001b[0m\u001b[0m\n\u001b[1;32m    635\u001b[0m             raise CompileException(log, self.src, self.name, options,\n\u001b[0;32m--> 636\u001b[0;31m                                    'nvrtc' if not runtime.is_hip else 'hiprtc')\n\u001b[0m\u001b[1;32m    637\u001b[0m \u001b[0;34m\u001b[0m\u001b[0m\n\u001b[1;32m    638\u001b[0m \u001b[0;34m\u001b[0m\u001b[0m\n",
            "\u001b[0;31mCompileException\u001b[0m: /tmp/tmpi5easfgf/ba581234072addc466f2384863ebe18c_2.cubin.cu(16): error: identifier \"tensor\" is undefined\n\n1 error detected in the compilation of \"/tmp/tmpi5easfgf/ba581234072addc466f2384863ebe18c_2.cubin.cu\".\n"
          ]
        }
      ]
    },
    {
      "cell_type": "code",
      "metadata": {
        "id": "yJ0KjfJ9oYx2"
      },
      "source": [
        "dummy_input = torch.rand(1, 3, 256, 192).cpu(), torch.rand(1, 3, 256, 192).cpu()\n",
        "dummy_output = trace(torch.rand(1, 3, 256, 192).cpu(), torch.rand(1, 3, 256, 192).cpu())"
      ],
      "execution_count": null,
      "outputs": []
    },
    {
      "cell_type": "code",
      "metadata": {
        "id": "e_njcMNOR0wQ"
      },
      "source": [
        "torch.jit.save(trace, 'warp_model.pt')"
      ],
      "execution_count": null,
      "outputs": []
    },
    {
      "cell_type": "code",
      "metadata": {
        "colab": {
          "base_uri": "https://localhost:8080/",
          "height": 399
        },
        "id": "bMQLtUVbq0qo",
        "outputId": "4c068d10-3283-447a-f26d-90c4fb7a9dbf"
      },
      "source": [
        "from tempfile import TemporaryFile\n",
        "with TemporaryFile() as temp:\n",
        "  torch.onnx.export(model=model, args=dummy_input,  example_outputs=dummy_output, f=temp,  verbose=True, opset_version=11)"
      ],
      "execution_count": null,
      "outputs": [
        {
          "output_type": "stream",
          "text": [
            "/usr/local/lib/python3.7/dist-packages/torch/nn/functional.py:3982: UserWarning: Default grid_sample and affine_grid behavior has changed to align_corners=False since 1.3.0. Please specify align_corners=True if the old behavior is desired. See the documentation of grid_sample for details.\n",
            "  \"Default grid_sample and affine_grid behavior has changed \"\n"
          ],
          "name": "stderr"
        },
        {
          "output_type": "error",
          "ename": "RuntimeError",
          "evalue": "ignored",
          "traceback": [
            "\u001b[0;31m---------------------------------------------------------------------------\u001b[0m",
            "\u001b[0;31mRuntimeError\u001b[0m                              Traceback (most recent call last)",
            "\u001b[0;32m<ipython-input-132-4058e0b87274>\u001b[0m in \u001b[0;36m<module>\u001b[0;34m()\u001b[0m\n\u001b[1;32m      1\u001b[0m \u001b[0;32mfrom\u001b[0m \u001b[0mtempfile\u001b[0m \u001b[0;32mimport\u001b[0m \u001b[0mTemporaryFile\u001b[0m\u001b[0;34m\u001b[0m\u001b[0;34m\u001b[0m\u001b[0m\n\u001b[1;32m      2\u001b[0m \u001b[0;32mwith\u001b[0m \u001b[0mTemporaryFile\u001b[0m\u001b[0;34m(\u001b[0m\u001b[0;34m)\u001b[0m \u001b[0;32mas\u001b[0m \u001b[0mtemp\u001b[0m\u001b[0;34m:\u001b[0m\u001b[0;34m\u001b[0m\u001b[0;34m\u001b[0m\u001b[0m\n\u001b[0;32m----> 3\u001b[0;31m   \u001b[0mtorch\u001b[0m\u001b[0;34m.\u001b[0m\u001b[0monnx\u001b[0m\u001b[0;34m.\u001b[0m\u001b[0mexport\u001b[0m\u001b[0;34m(\u001b[0m\u001b[0mmodel\u001b[0m\u001b[0;34m=\u001b[0m\u001b[0mmodel\u001b[0m\u001b[0;34m,\u001b[0m \u001b[0margs\u001b[0m\u001b[0;34m=\u001b[0m\u001b[0mdummy_input\u001b[0m\u001b[0;34m,\u001b[0m  \u001b[0mexample_outputs\u001b[0m\u001b[0;34m=\u001b[0m\u001b[0mdummy_output\u001b[0m\u001b[0;34m,\u001b[0m \u001b[0mf\u001b[0m\u001b[0;34m=\u001b[0m\u001b[0mtemp\u001b[0m\u001b[0;34m,\u001b[0m  \u001b[0mverbose\u001b[0m\u001b[0;34m=\u001b[0m\u001b[0;32mTrue\u001b[0m\u001b[0;34m,\u001b[0m \u001b[0mopset_version\u001b[0m\u001b[0;34m=\u001b[0m\u001b[0;36m11\u001b[0m\u001b[0;34m)\u001b[0m\u001b[0;34m\u001b[0m\u001b[0;34m\u001b[0m\u001b[0m\n\u001b[0m",
            "\u001b[0;32m/usr/local/lib/python3.7/dist-packages/torch/onnx/__init__.py\u001b[0m in \u001b[0;36mexport\u001b[0;34m(model, args, f, export_params, verbose, training, input_names, output_names, aten, export_raw_ir, operator_export_type, opset_version, _retain_param_name, do_constant_folding, example_outputs, strip_doc_string, dynamic_axes, keep_initializers_as_inputs, custom_opsets, enable_onnx_checker, use_external_data_format)\u001b[0m\n\u001b[1;32m    278\u001b[0m                         \u001b[0mdo_constant_folding\u001b[0m\u001b[0;34m,\u001b[0m \u001b[0mexample_outputs\u001b[0m\u001b[0;34m,\u001b[0m\u001b[0;34m\u001b[0m\u001b[0;34m\u001b[0m\u001b[0m\n\u001b[1;32m    279\u001b[0m                         \u001b[0mstrip_doc_string\u001b[0m\u001b[0;34m,\u001b[0m \u001b[0mdynamic_axes\u001b[0m\u001b[0;34m,\u001b[0m \u001b[0mkeep_initializers_as_inputs\u001b[0m\u001b[0;34m,\u001b[0m\u001b[0;34m\u001b[0m\u001b[0;34m\u001b[0m\u001b[0m\n\u001b[0;32m--> 280\u001b[0;31m                         custom_opsets, enable_onnx_checker, use_external_data_format)\n\u001b[0m\u001b[1;32m    281\u001b[0m \u001b[0;34m\u001b[0m\u001b[0m\n\u001b[1;32m    282\u001b[0m \u001b[0;34m\u001b[0m\u001b[0m\n",
            "\u001b[0;32m/usr/local/lib/python3.7/dist-packages/torch/onnx/utils.py\u001b[0m in \u001b[0;36mexport\u001b[0;34m(model, args, f, export_params, verbose, training, input_names, output_names, aten, export_raw_ir, operator_export_type, opset_version, _retain_param_name, do_constant_folding, example_outputs, strip_doc_string, dynamic_axes, keep_initializers_as_inputs, custom_opsets, enable_onnx_checker, use_external_data_format)\u001b[0m\n\u001b[1;32m     92\u001b[0m             \u001b[0mdynamic_axes\u001b[0m\u001b[0;34m=\u001b[0m\u001b[0mdynamic_axes\u001b[0m\u001b[0;34m,\u001b[0m \u001b[0mkeep_initializers_as_inputs\u001b[0m\u001b[0;34m=\u001b[0m\u001b[0mkeep_initializers_as_inputs\u001b[0m\u001b[0;34m,\u001b[0m\u001b[0;34m\u001b[0m\u001b[0;34m\u001b[0m\u001b[0m\n\u001b[1;32m     93\u001b[0m             \u001b[0mcustom_opsets\u001b[0m\u001b[0;34m=\u001b[0m\u001b[0mcustom_opsets\u001b[0m\u001b[0;34m,\u001b[0m \u001b[0menable_onnx_checker\u001b[0m\u001b[0;34m=\u001b[0m\u001b[0menable_onnx_checker\u001b[0m\u001b[0;34m,\u001b[0m\u001b[0;34m\u001b[0m\u001b[0;34m\u001b[0m\u001b[0m\n\u001b[0;32m---> 94\u001b[0;31m             use_external_data_format=use_external_data_format)\n\u001b[0m\u001b[1;32m     95\u001b[0m \u001b[0;34m\u001b[0m\u001b[0m\n\u001b[1;32m     96\u001b[0m \u001b[0;34m\u001b[0m\u001b[0m\n",
            "\u001b[0;32m/usr/local/lib/python3.7/dist-packages/torch/onnx/utils.py\u001b[0m in \u001b[0;36m_export\u001b[0;34m(model, args, f, export_params, verbose, training, input_names, output_names, operator_export_type, export_type, example_outputs, opset_version, _retain_param_name, do_constant_folding, strip_doc_string, dynamic_axes, keep_initializers_as_inputs, fixed_batch_size, custom_opsets, add_node_names, enable_onnx_checker, use_external_data_format, onnx_shape_inference)\u001b[0m\n\u001b[1;32m    693\u001b[0m                                 \u001b[0mfixed_batch_size\u001b[0m\u001b[0;34m=\u001b[0m\u001b[0mfixed_batch_size\u001b[0m\u001b[0;34m,\u001b[0m\u001b[0;34m\u001b[0m\u001b[0;34m\u001b[0m\u001b[0m\n\u001b[1;32m    694\u001b[0m                                 \u001b[0mtraining\u001b[0m\u001b[0;34m=\u001b[0m\u001b[0mtraining\u001b[0m\u001b[0;34m,\u001b[0m\u001b[0;34m\u001b[0m\u001b[0;34m\u001b[0m\u001b[0m\n\u001b[0;32m--> 695\u001b[0;31m                                 dynamic_axes=dynamic_axes)\n\u001b[0m\u001b[1;32m    696\u001b[0m \u001b[0;34m\u001b[0m\u001b[0m\n\u001b[1;32m    697\u001b[0m             \u001b[0;31m# TODO: Don't allocate a in-memory string for the protobuf\u001b[0m\u001b[0;34m\u001b[0m\u001b[0;34m\u001b[0m\u001b[0;34m\u001b[0m\u001b[0m\n",
            "\u001b[0;32m/usr/local/lib/python3.7/dist-packages/torch/onnx/utils.py\u001b[0m in \u001b[0;36m_model_to_graph\u001b[0;34m(model, args, verbose, input_names, output_names, operator_export_type, example_outputs, _retain_param_name, do_constant_folding, _disable_torch_constant_prop, fixed_batch_size, training, dynamic_axes)\u001b[0m\n\u001b[1;32m    457\u001b[0m \u001b[0;34m\u001b[0m\u001b[0m\n\u001b[1;32m    458\u001b[0m     graph, params, torch_out, module = _create_jit_graph(model, args,\n\u001b[0;32m--> 459\u001b[0;31m                                                          _retain_param_name)\n\u001b[0m\u001b[1;32m    460\u001b[0m \u001b[0;34m\u001b[0m\u001b[0m\n\u001b[1;32m    461\u001b[0m     \u001b[0mparams_dict\u001b[0m \u001b[0;34m=\u001b[0m \u001b[0m_get_named_param_dict\u001b[0m\u001b[0;34m(\u001b[0m\u001b[0mgraph\u001b[0m\u001b[0;34m,\u001b[0m \u001b[0mparams\u001b[0m\u001b[0;34m)\u001b[0m\u001b[0;34m\u001b[0m\u001b[0;34m\u001b[0m\u001b[0m\n",
            "\u001b[0;32m/usr/local/lib/python3.7/dist-packages/torch/onnx/utils.py\u001b[0m in \u001b[0;36m_create_jit_graph\u001b[0;34m(model, args, _retain_param_name)\u001b[0m\n\u001b[1;32m    420\u001b[0m         \u001b[0;32mreturn\u001b[0m \u001b[0mgraph\u001b[0m\u001b[0;34m,\u001b[0m \u001b[0mparams\u001b[0m\u001b[0;34m,\u001b[0m \u001b[0mtorch_out\u001b[0m\u001b[0;34m,\u001b[0m \u001b[0;32mNone\u001b[0m\u001b[0;34m\u001b[0m\u001b[0;34m\u001b[0m\u001b[0m\n\u001b[1;32m    421\u001b[0m     \u001b[0;32melse\u001b[0m\u001b[0;34m:\u001b[0m\u001b[0;34m\u001b[0m\u001b[0;34m\u001b[0m\u001b[0m\n\u001b[0;32m--> 422\u001b[0;31m         \u001b[0mgraph\u001b[0m\u001b[0;34m,\u001b[0m \u001b[0mtorch_out\u001b[0m \u001b[0;34m=\u001b[0m \u001b[0m_trace_and_get_graph_from_model\u001b[0m\u001b[0;34m(\u001b[0m\u001b[0mmodel\u001b[0m\u001b[0;34m,\u001b[0m \u001b[0margs\u001b[0m\u001b[0;34m)\u001b[0m\u001b[0;34m\u001b[0m\u001b[0;34m\u001b[0m\u001b[0m\n\u001b[0m\u001b[1;32m    423\u001b[0m         \u001b[0mstate_dict\u001b[0m \u001b[0;34m=\u001b[0m \u001b[0m_unique_state_dict\u001b[0m\u001b[0;34m(\u001b[0m\u001b[0mmodel\u001b[0m\u001b[0;34m)\u001b[0m\u001b[0;34m\u001b[0m\u001b[0;34m\u001b[0m\u001b[0m\n\u001b[1;32m    424\u001b[0m         \u001b[0mparams\u001b[0m \u001b[0;34m=\u001b[0m \u001b[0mlist\u001b[0m\u001b[0;34m(\u001b[0m\u001b[0mstate_dict\u001b[0m\u001b[0;34m.\u001b[0m\u001b[0mvalues\u001b[0m\u001b[0;34m(\u001b[0m\u001b[0;34m)\u001b[0m\u001b[0;34m)\u001b[0m\u001b[0;34m\u001b[0m\u001b[0;34m\u001b[0m\u001b[0m\n",
            "\u001b[0;32m/usr/local/lib/python3.7/dist-packages/torch/onnx/utils.py\u001b[0m in \u001b[0;36m_trace_and_get_graph_from_model\u001b[0;34m(model, args)\u001b[0m\n\u001b[1;32m    371\u001b[0m \u001b[0;34m\u001b[0m\u001b[0m\n\u001b[1;32m    372\u001b[0m     \u001b[0mtrace_graph\u001b[0m\u001b[0;34m,\u001b[0m \u001b[0mtorch_out\u001b[0m\u001b[0;34m,\u001b[0m \u001b[0minputs_states\u001b[0m \u001b[0;34m=\u001b[0m\u001b[0;31m \u001b[0m\u001b[0;31m\\\u001b[0m\u001b[0;34m\u001b[0m\u001b[0;34m\u001b[0m\u001b[0m\n\u001b[0;32m--> 373\u001b[0;31m         \u001b[0mtorch\u001b[0m\u001b[0;34m.\u001b[0m\u001b[0mjit\u001b[0m\u001b[0;34m.\u001b[0m\u001b[0m_get_trace_graph\u001b[0m\u001b[0;34m(\u001b[0m\u001b[0mmodel\u001b[0m\u001b[0;34m,\u001b[0m \u001b[0margs\u001b[0m\u001b[0;34m,\u001b[0m \u001b[0mstrict\u001b[0m\u001b[0;34m=\u001b[0m\u001b[0;32mFalse\u001b[0m\u001b[0;34m,\u001b[0m \u001b[0m_force_outplace\u001b[0m\u001b[0;34m=\u001b[0m\u001b[0;32mFalse\u001b[0m\u001b[0;34m,\u001b[0m \u001b[0m_return_inputs_states\u001b[0m\u001b[0;34m=\u001b[0m\u001b[0;32mTrue\u001b[0m\u001b[0;34m)\u001b[0m\u001b[0;34m\u001b[0m\u001b[0;34m\u001b[0m\u001b[0m\n\u001b[0m\u001b[1;32m    374\u001b[0m     \u001b[0mwarn_on_static_input_change\u001b[0m\u001b[0;34m(\u001b[0m\u001b[0minputs_states\u001b[0m\u001b[0;34m)\u001b[0m\u001b[0;34m\u001b[0m\u001b[0;34m\u001b[0m\u001b[0m\n\u001b[1;32m    375\u001b[0m \u001b[0;34m\u001b[0m\u001b[0m\n",
            "\u001b[0;32m/usr/local/lib/python3.7/dist-packages/torch/jit/_trace.py\u001b[0m in \u001b[0;36m_get_trace_graph\u001b[0;34m(f, args, kwargs, strict, _force_outplace, return_inputs, _return_inputs_states)\u001b[0m\n\u001b[1;32m   1158\u001b[0m     \u001b[0;32mif\u001b[0m \u001b[0;32mnot\u001b[0m \u001b[0misinstance\u001b[0m\u001b[0;34m(\u001b[0m\u001b[0margs\u001b[0m\u001b[0;34m,\u001b[0m \u001b[0mtuple\u001b[0m\u001b[0;34m)\u001b[0m\u001b[0;34m:\u001b[0m\u001b[0;34m\u001b[0m\u001b[0;34m\u001b[0m\u001b[0m\n\u001b[1;32m   1159\u001b[0m         \u001b[0margs\u001b[0m \u001b[0;34m=\u001b[0m \u001b[0;34m(\u001b[0m\u001b[0margs\u001b[0m\u001b[0;34m,\u001b[0m\u001b[0;34m)\u001b[0m\u001b[0;34m\u001b[0m\u001b[0;34m\u001b[0m\u001b[0m\n\u001b[0;32m-> 1160\u001b[0;31m     \u001b[0mouts\u001b[0m \u001b[0;34m=\u001b[0m \u001b[0mONNXTracedModule\u001b[0m\u001b[0;34m(\u001b[0m\u001b[0mf\u001b[0m\u001b[0;34m,\u001b[0m \u001b[0mstrict\u001b[0m\u001b[0;34m,\u001b[0m \u001b[0m_force_outplace\u001b[0m\u001b[0;34m,\u001b[0m \u001b[0mreturn_inputs\u001b[0m\u001b[0;34m,\u001b[0m \u001b[0m_return_inputs_states\u001b[0m\u001b[0;34m)\u001b[0m\u001b[0;34m(\u001b[0m\u001b[0;34m*\u001b[0m\u001b[0margs\u001b[0m\u001b[0;34m,\u001b[0m \u001b[0;34m**\u001b[0m\u001b[0mkwargs\u001b[0m\u001b[0;34m)\u001b[0m\u001b[0;34m\u001b[0m\u001b[0;34m\u001b[0m\u001b[0m\n\u001b[0m\u001b[1;32m   1161\u001b[0m     \u001b[0;32mreturn\u001b[0m \u001b[0mouts\u001b[0m\u001b[0;34m\u001b[0m\u001b[0;34m\u001b[0m\u001b[0m\n",
            "\u001b[0;32m/usr/local/lib/python3.7/dist-packages/torch/nn/modules/module.py\u001b[0m in \u001b[0;36m_call_impl\u001b[0;34m(self, *input, **kwargs)\u001b[0m\n\u001b[1;32m   1049\u001b[0m         if not (self._backward_hooks or self._forward_hooks or self._forward_pre_hooks or _global_backward_hooks\n\u001b[1;32m   1050\u001b[0m                 or _global_forward_hooks or _global_forward_pre_hooks):\n\u001b[0;32m-> 1051\u001b[0;31m             \u001b[0;32mreturn\u001b[0m \u001b[0mforward_call\u001b[0m\u001b[0;34m(\u001b[0m\u001b[0;34m*\u001b[0m\u001b[0minput\u001b[0m\u001b[0;34m,\u001b[0m \u001b[0;34m**\u001b[0m\u001b[0mkwargs\u001b[0m\u001b[0;34m)\u001b[0m\u001b[0;34m\u001b[0m\u001b[0;34m\u001b[0m\u001b[0m\n\u001b[0m\u001b[1;32m   1052\u001b[0m         \u001b[0;31m# Do not call functions when jit is used\u001b[0m\u001b[0;34m\u001b[0m\u001b[0;34m\u001b[0m\u001b[0;34m\u001b[0m\u001b[0m\n\u001b[1;32m   1053\u001b[0m         \u001b[0mfull_backward_hooks\u001b[0m\u001b[0;34m,\u001b[0m \u001b[0mnon_full_backward_hooks\u001b[0m \u001b[0;34m=\u001b[0m \u001b[0;34m[\u001b[0m\u001b[0;34m]\u001b[0m\u001b[0;34m,\u001b[0m \u001b[0;34m[\u001b[0m\u001b[0;34m]\u001b[0m\u001b[0;34m\u001b[0m\u001b[0;34m\u001b[0m\u001b[0m\n",
            "\u001b[0;32m/usr/local/lib/python3.7/dist-packages/torch/jit/_trace.py\u001b[0m in \u001b[0;36mforward\u001b[0;34m(self, *args)\u001b[0m\n\u001b[1;32m    130\u001b[0m             \u001b[0m_create_interpreter_name_lookup_fn\u001b[0m\u001b[0;34m(\u001b[0m\u001b[0;34m)\u001b[0m\u001b[0;34m,\u001b[0m\u001b[0;34m\u001b[0m\u001b[0;34m\u001b[0m\u001b[0m\n\u001b[1;32m    131\u001b[0m             \u001b[0mself\u001b[0m\u001b[0;34m.\u001b[0m\u001b[0mstrict\u001b[0m\u001b[0;34m,\u001b[0m\u001b[0;34m\u001b[0m\u001b[0;34m\u001b[0m\u001b[0m\n\u001b[0;32m--> 132\u001b[0;31m             \u001b[0mself\u001b[0m\u001b[0;34m.\u001b[0m\u001b[0m_force_outplace\u001b[0m\u001b[0;34m,\u001b[0m\u001b[0;34m\u001b[0m\u001b[0;34m\u001b[0m\u001b[0m\n\u001b[0m\u001b[1;32m    133\u001b[0m         )\n\u001b[1;32m    134\u001b[0m \u001b[0;34m\u001b[0m\u001b[0m\n",
            "\u001b[0;32m/usr/local/lib/python3.7/dist-packages/torch/jit/_trace.py\u001b[0m in \u001b[0;36mwrapper\u001b[0;34m(*args)\u001b[0m\n\u001b[1;32m    116\u001b[0m             \u001b[0;32mif\u001b[0m \u001b[0mself\u001b[0m\u001b[0;34m.\u001b[0m\u001b[0m_return_inputs_states\u001b[0m\u001b[0;34m:\u001b[0m\u001b[0;34m\u001b[0m\u001b[0;34m\u001b[0m\u001b[0m\n\u001b[1;32m    117\u001b[0m                 \u001b[0minputs_states\u001b[0m\u001b[0;34m.\u001b[0m\u001b[0mappend\u001b[0m\u001b[0;34m(\u001b[0m\u001b[0m_unflatten\u001b[0m\u001b[0;34m(\u001b[0m\u001b[0min_args\u001b[0m\u001b[0;34m,\u001b[0m \u001b[0min_desc\u001b[0m\u001b[0;34m)\u001b[0m\u001b[0;34m)\u001b[0m\u001b[0;34m\u001b[0m\u001b[0;34m\u001b[0m\u001b[0m\n\u001b[0;32m--> 118\u001b[0;31m             \u001b[0mouts\u001b[0m\u001b[0;34m.\u001b[0m\u001b[0mappend\u001b[0m\u001b[0;34m(\u001b[0m\u001b[0mself\u001b[0m\u001b[0;34m.\u001b[0m\u001b[0minner\u001b[0m\u001b[0;34m(\u001b[0m\u001b[0;34m*\u001b[0m\u001b[0mtrace_inputs\u001b[0m\u001b[0;34m)\u001b[0m\u001b[0;34m)\u001b[0m\u001b[0;34m\u001b[0m\u001b[0;34m\u001b[0m\u001b[0m\n\u001b[0m\u001b[1;32m    119\u001b[0m             \u001b[0;32mif\u001b[0m \u001b[0mself\u001b[0m\u001b[0;34m.\u001b[0m\u001b[0m_return_inputs_states\u001b[0m\u001b[0;34m:\u001b[0m\u001b[0;34m\u001b[0m\u001b[0;34m\u001b[0m\u001b[0m\n\u001b[1;32m    120\u001b[0m                 \u001b[0minputs_states\u001b[0m\u001b[0;34m[\u001b[0m\u001b[0;36m0\u001b[0m\u001b[0;34m]\u001b[0m \u001b[0;34m=\u001b[0m \u001b[0;34m(\u001b[0m\u001b[0minputs_states\u001b[0m\u001b[0;34m[\u001b[0m\u001b[0;36m0\u001b[0m\u001b[0;34m]\u001b[0m\u001b[0;34m,\u001b[0m \u001b[0mtrace_inputs\u001b[0m\u001b[0;34m)\u001b[0m\u001b[0;34m\u001b[0m\u001b[0;34m\u001b[0m\u001b[0m\n",
            "\u001b[0;32m/usr/local/lib/python3.7/dist-packages/torch/nn/modules/module.py\u001b[0m in \u001b[0;36m_call_impl\u001b[0;34m(self, *input, **kwargs)\u001b[0m\n\u001b[1;32m   1049\u001b[0m         if not (self._backward_hooks or self._forward_hooks or self._forward_pre_hooks or _global_backward_hooks\n\u001b[1;32m   1050\u001b[0m                 or _global_forward_hooks or _global_forward_pre_hooks):\n\u001b[0;32m-> 1051\u001b[0;31m             \u001b[0;32mreturn\u001b[0m \u001b[0mforward_call\u001b[0m\u001b[0;34m(\u001b[0m\u001b[0;34m*\u001b[0m\u001b[0minput\u001b[0m\u001b[0;34m,\u001b[0m \u001b[0;34m**\u001b[0m\u001b[0mkwargs\u001b[0m\u001b[0;34m)\u001b[0m\u001b[0;34m\u001b[0m\u001b[0;34m\u001b[0m\u001b[0m\n\u001b[0m\u001b[1;32m   1052\u001b[0m         \u001b[0;31m# Do not call functions when jit is used\u001b[0m\u001b[0;34m\u001b[0m\u001b[0;34m\u001b[0m\u001b[0;34m\u001b[0m\u001b[0m\n\u001b[1;32m   1053\u001b[0m         \u001b[0mfull_backward_hooks\u001b[0m\u001b[0;34m,\u001b[0m \u001b[0mnon_full_backward_hooks\u001b[0m \u001b[0;34m=\u001b[0m \u001b[0;34m[\u001b[0m\u001b[0;34m]\u001b[0m\u001b[0;34m,\u001b[0m \u001b[0;34m[\u001b[0m\u001b[0;34m]\u001b[0m\u001b[0;34m\u001b[0m\u001b[0;34m\u001b[0m\u001b[0m\n",
            "\u001b[0;32m/usr/local/lib/python3.7/dist-packages/torch/nn/modules/module.py\u001b[0m in \u001b[0;36m_slow_forward\u001b[0;34m(self, *input, **kwargs)\u001b[0m\n\u001b[1;32m   1037\u001b[0m                 \u001b[0mrecording_scopes\u001b[0m \u001b[0;34m=\u001b[0m \u001b[0;32mFalse\u001b[0m\u001b[0;34m\u001b[0m\u001b[0;34m\u001b[0m\u001b[0m\n\u001b[1;32m   1038\u001b[0m         \u001b[0;32mtry\u001b[0m\u001b[0;34m:\u001b[0m\u001b[0;34m\u001b[0m\u001b[0;34m\u001b[0m\u001b[0m\n\u001b[0;32m-> 1039\u001b[0;31m             \u001b[0mresult\u001b[0m \u001b[0;34m=\u001b[0m \u001b[0mself\u001b[0m\u001b[0;34m.\u001b[0m\u001b[0mforward\u001b[0m\u001b[0;34m(\u001b[0m\u001b[0;34m*\u001b[0m\u001b[0minput\u001b[0m\u001b[0;34m,\u001b[0m \u001b[0;34m**\u001b[0m\u001b[0mkwargs\u001b[0m\u001b[0;34m)\u001b[0m\u001b[0;34m\u001b[0m\u001b[0;34m\u001b[0m\u001b[0m\n\u001b[0m\u001b[1;32m   1040\u001b[0m         \u001b[0;32mfinally\u001b[0m\u001b[0;34m:\u001b[0m\u001b[0;34m\u001b[0m\u001b[0;34m\u001b[0m\u001b[0m\n\u001b[1;32m   1041\u001b[0m             \u001b[0;32mif\u001b[0m \u001b[0mrecording_scopes\u001b[0m\u001b[0;34m:\u001b[0m\u001b[0;34m\u001b[0m\u001b[0;34m\u001b[0m\u001b[0m\n",
            "\u001b[0;32m<ipython-input-16-12b35755026d>\u001b[0m in \u001b[0;36mforward\u001b[0;34m(self, x, grid)\u001b[0m\n\u001b[1;32m      5\u001b[0m \u001b[0;34m\u001b[0m\u001b[0m\n\u001b[1;32m      6\u001b[0m     \u001b[0;32mdef\u001b[0m \u001b[0mforward\u001b[0m\u001b[0;34m(\u001b[0m\u001b[0mself\u001b[0m\u001b[0;34m,\u001b[0m \u001b[0mx\u001b[0m\u001b[0;34m,\u001b[0m \u001b[0mgrid\u001b[0m\u001b[0;34m)\u001b[0m\u001b[0;34m:\u001b[0m\u001b[0;34m\u001b[0m\u001b[0;34m\u001b[0m\u001b[0m\n\u001b[0;32m----> 7\u001b[0;31m         \u001b[0;32mreturn\u001b[0m \u001b[0mself\u001b[0m\u001b[0;34m.\u001b[0m\u001b[0mgrid_sample\u001b[0m\u001b[0;34m.\u001b[0m\u001b[0mapply\u001b[0m\u001b[0;34m(\u001b[0m\u001b[0mx\u001b[0m\u001b[0;34m,\u001b[0m \u001b[0mgrid\u001b[0m\u001b[0;34m)\u001b[0m\u001b[0;34m\u001b[0m\u001b[0;34m\u001b[0m\u001b[0m\n\u001b[0m",
            "\u001b[0;32m<ipython-input-15-ad7434f37f18>\u001b[0m in \u001b[0;36mforward\u001b[0;34m(self, x, grid)\u001b[0m\n\u001b[1;32m     10\u001b[0m     \u001b[0;34m@\u001b[0m\u001b[0mstaticmethod\u001b[0m\u001b[0;34m\u001b[0m\u001b[0;34m\u001b[0m\u001b[0m\n\u001b[1;32m     11\u001b[0m     \u001b[0;32mdef\u001b[0m \u001b[0mforward\u001b[0m\u001b[0;34m(\u001b[0m\u001b[0mself\u001b[0m\u001b[0;34m,\u001b[0m \u001b[0mx\u001b[0m\u001b[0;34m,\u001b[0m \u001b[0mgrid\u001b[0m\u001b[0;34m)\u001b[0m\u001b[0;34m:\u001b[0m\u001b[0;34m\u001b[0m\u001b[0;34m\u001b[0m\u001b[0m\n\u001b[0;32m---> 12\u001b[0;31m         \u001b[0;32mreturn\u001b[0m \u001b[0mF\u001b[0m\u001b[0;34m.\u001b[0m\u001b[0mgrid_sample\u001b[0m\u001b[0;34m(\u001b[0m\u001b[0mx\u001b[0m\u001b[0;34m,\u001b[0m \u001b[0mgrid\u001b[0m\u001b[0;34m,\u001b[0m \u001b[0;34m'bilinear'\u001b[0m\u001b[0;34m,\u001b[0m \u001b[0;34m'border'\u001b[0m\u001b[0;34m)\u001b[0m\u001b[0;34m\u001b[0m\u001b[0;34m\u001b[0m\u001b[0m\n\u001b[0m\u001b[1;32m     13\u001b[0m         \u001b[0;31m# F.grid_sample(x, grid, 'bilinear', 'zeros')\u001b[0m\u001b[0;34m\u001b[0m\u001b[0;34m\u001b[0m\u001b[0;34m\u001b[0m\u001b[0m\n",
            "\u001b[0;32m/usr/local/lib/python3.7/dist-packages/torch/nn/functional.py\u001b[0m in \u001b[0;36mgrid_sample\u001b[0;34m(input, grid, mode, padding_mode, align_corners)\u001b[0m\n\u001b[1;32m   3987\u001b[0m         \u001b[0malign_corners\u001b[0m \u001b[0;34m=\u001b[0m \u001b[0;32mFalse\u001b[0m\u001b[0;34m\u001b[0m\u001b[0;34m\u001b[0m\u001b[0m\n\u001b[1;32m   3988\u001b[0m \u001b[0;34m\u001b[0m\u001b[0m\n\u001b[0;32m-> 3989\u001b[0;31m     \u001b[0;32mreturn\u001b[0m \u001b[0mtorch\u001b[0m\u001b[0;34m.\u001b[0m\u001b[0mgrid_sampler\u001b[0m\u001b[0;34m(\u001b[0m\u001b[0minput\u001b[0m\u001b[0;34m,\u001b[0m \u001b[0mgrid\u001b[0m\u001b[0;34m,\u001b[0m \u001b[0mmode_enum\u001b[0m\u001b[0;34m,\u001b[0m \u001b[0mpadding_mode_enum\u001b[0m\u001b[0;34m,\u001b[0m \u001b[0malign_corners\u001b[0m\u001b[0;34m)\u001b[0m\u001b[0;34m\u001b[0m\u001b[0;34m\u001b[0m\u001b[0m\n\u001b[0m\u001b[1;32m   3990\u001b[0m \u001b[0;34m\u001b[0m\u001b[0m\n\u001b[1;32m   3991\u001b[0m \u001b[0;34m\u001b[0m\u001b[0m\n",
            "\u001b[0;31mRuntimeError\u001b[0m: grid_sampler(): expected grid to have size 2 in last dimension, but got grid with sizes [1, 3, 256, 192]"
          ]
        }
      ]
    },
    {
      "cell_type": "code",
      "metadata": {
        "id": "cCvxFNlUziAW"
      },
      "source": [
        "# https://discuss.pytorch.org/t/cubin-cu-16-error-identifier-tensor-is-undefined/96226/3"
      ],
      "execution_count": null,
      "outputs": []
    },
    {
      "cell_type": "code",
      "metadata": {
        "id": "x1ipm7E22w3P",
        "colab": {
          "base_uri": "https://localhost:8080/"
        },
        "outputId": "c0edc92b-6eef-49a4-c104-c970af72d837"
      },
      "source": [
        "trace2 = torch.jit.trace(gen_model, gen_inputs)"
      ],
      "execution_count": null,
      "outputs": [
        {
          "output_type": "stream",
          "text": [
            "/usr/local/lib/python3.7/dist-packages/torch/jit/__init__.py:444: UserWarning: The .grad attribute of a Tensor that is not a leaf Tensor is being accessed. Its .grad attribute won't be populated during autograd.backward(). If you indeed want the gradient for a non-leaf Tensor, use .retain_grad() on the non-leaf Tensor. If you access the non-leaf Tensor by mistake, make sure you access the leaf Tensor instead. See github.com/pytorch/pytorch/pull/30531 for more informations.\n",
            "  if a.grad is not None:\n"
          ],
          "name": "stderr"
        }
      ]
    },
    {
      "cell_type": "code",
      "metadata": {
        "id": "6ZXjINwho9kC"
      },
      "source": [
        "torch.jit.save(trace2, 'gen_model.pt')"
      ],
      "execution_count": null,
      "outputs": []
    },
    {
      "cell_type": "code",
      "metadata": {
        "colab": {
          "base_uri": "https://localhost:8080/"
        },
        "id": "ai6YW8yG8NdG",
        "outputId": "d6088da5-465d-4658-d56c-dab93615ee4e"
      },
      "source": [
        "trace2(gen_inputs)"
      ],
      "execution_count": null,
      "outputs": [
        {
          "output_type": "execute_result",
          "data": {
            "text/plain": [
              "tensor([[[[ 1.2969e+00,  1.3310e+00,  1.2954e+00,  ...,  1.3646e+00,\n",
              "            1.4311e+00,  1.2938e+00],\n",
              "          [ 1.3477e+00,  1.3145e+00,  1.3298e+00,  ...,  1.3777e+00,\n",
              "            1.4381e+00,  1.3546e+00],\n",
              "          [ 1.3271e+00,  1.3172e+00,  1.3319e+00,  ...,  1.3891e+00,\n",
              "            1.3939e+00,  1.3287e+00],\n",
              "          ...,\n",
              "          [ 1.1830e+00,  1.2130e+00,  1.2205e+00,  ...,  1.3349e+00,\n",
              "            1.3507e+00,  1.3071e+00],\n",
              "          [ 1.2610e+00,  1.2012e+00,  1.2016e+00,  ...,  1.3311e+00,\n",
              "            1.3558e+00,  1.2906e+00],\n",
              "          [ 1.1488e+00,  1.2808e+00,  1.2225e+00,  ...,  1.3009e+00,\n",
              "            1.3632e+00,  1.1800e+00]],\n",
              "\n",
              "         [[ 1.2474e+00,  1.3373e+00,  1.2923e+00,  ...,  1.3967e+00,\n",
              "            1.4395e+00,  1.3746e+00],\n",
              "          [ 1.3321e+00,  1.3358e+00,  1.3496e+00,  ...,  1.3639e+00,\n",
              "            1.4042e+00,  1.3561e+00],\n",
              "          [ 1.3216e+00,  1.3236e+00,  1.3506e+00,  ...,  1.4078e+00,\n",
              "            1.4372e+00,  1.3902e+00],\n",
              "          ...,\n",
              "          [ 1.2033e+00,  1.2360e+00,  1.2099e+00,  ...,  1.2686e+00,\n",
              "            1.2910e+00,  1.2723e+00],\n",
              "          [ 1.1922e+00,  1.2213e+00,  1.2190e+00,  ...,  1.2784e+00,\n",
              "            1.3011e+00,  1.3328e+00],\n",
              "          [ 1.1178e+00,  1.2423e+00,  1.1917e+00,  ...,  1.2512e+00,\n",
              "            1.3227e+00,  1.2205e+00]],\n",
              "\n",
              "         [[ 1.1388e+00,  1.2486e+00,  1.2631e+00,  ...,  1.4236e+00,\n",
              "            1.4088e+00,  1.3167e+00],\n",
              "          [ 1.2433e+00,  1.2701e+00,  1.2928e+00,  ...,  1.4301e+00,\n",
              "            1.4436e+00,  1.3758e+00],\n",
              "          [ 1.2910e+00,  1.2723e+00,  1.2775e+00,  ...,  1.4488e+00,\n",
              "            1.4085e+00,  1.3822e+00],\n",
              "          ...,\n",
              "          [ 1.1631e+00,  1.1679e+00,  1.1707e+00,  ...,  1.2085e+00,\n",
              "            1.2348e+00,  1.2565e+00],\n",
              "          [ 1.1676e+00,  1.1747e+00,  1.1853e+00,  ...,  1.1952e+00,\n",
              "            1.2494e+00,  1.2091e+00],\n",
              "          [ 1.1674e+00,  1.1524e+00,  1.1677e+00,  ...,  1.2574e+00,\n",
              "            1.2426e+00,  1.0505e+00]],\n",
              "\n",
              "         [[ 9.5067e-01,  1.5296e+00,  2.5943e+00,  ...,  3.5188e+00,\n",
              "            6.4146e+00,  6.4560e+00],\n",
              "          [ 2.8954e-01,  8.6120e-01,  2.0072e+00,  ...,  3.6880e+00,\n",
              "            8.1316e+00,  8.9499e+00],\n",
              "          [-4.2902e-01, -4.7322e-01, -1.8271e-01,  ...,  2.0318e+00,\n",
              "            7.1009e+00,  8.4888e+00],\n",
              "          ...,\n",
              "          [-7.5160e-01, -8.8463e-01, -6.4602e-01,  ...,  1.9887e+00,\n",
              "            5.2122e+00,  6.5297e+00],\n",
              "          [-5.3012e-01, -4.3475e-01,  7.0699e-03,  ...,  2.3621e+00,\n",
              "            4.7059e+00,  5.7150e+00],\n",
              "          [ 1.9124e-01,  4.6256e-01,  7.4109e-01,  ...,  2.1001e+00,\n",
              "            3.3194e+00,  3.6109e+00]]]], grad_fn=<MkldnnConvolutionBackward>)"
            ]
          },
          "metadata": {
            "tags": []
          },
          "execution_count": 42
        }
      ]
    },
    {
      "cell_type": "code",
      "metadata": {
        "colab": {
          "base_uri": "https://localhost:8080/",
          "height": 236
        },
        "id": "bytu7S3y8Q88",
        "outputId": "0329518f-c6e4-422e-ba7d-c5c4e21f2832"
      },
      "source": [
        "coreml_model = ct.convert(\n",
        "    trace,\n",
        "    inputs=[ct.TensorType(name=\"input1\", shape=(1, 3, 256, 192)),\n",
        "            ct.TensorType(name=\"intput2\", shape=(1, 3, 256, 192))]\n",
        ")"
      ],
      "execution_count": null,
      "outputs": [
        {
          "output_type": "error",
          "ename": "NameError",
          "evalue": "ignored",
          "traceback": [
            "\u001b[0;31m---------------------------------------------------------------------------\u001b[0m",
            "\u001b[0;31mNameError\u001b[0m                                 Traceback (most recent call last)",
            "\u001b[0;32m<ipython-input-43-ef84277dd4e9>\u001b[0m in \u001b[0;36m<module>\u001b[0;34m()\u001b[0m\n\u001b[0;32m----> 1\u001b[0;31m coreml_model = ct.convert(\n\u001b[0m\u001b[1;32m      2\u001b[0m     \u001b[0mtrace\u001b[0m\u001b[0;34m,\u001b[0m\u001b[0;34m\u001b[0m\u001b[0;34m\u001b[0m\u001b[0m\n\u001b[1;32m      3\u001b[0m     inputs=[ct.TensorType(name=\"input1\", shape=(1, 3, 256, 192)),\n\u001b[1;32m      4\u001b[0m             ct.TensorType(name=\"intput2\", shape=(1, 3, 256, 192))]\n\u001b[1;32m      5\u001b[0m )\n",
            "\u001b[0;31mNameError\u001b[0m: name 'ct' is not defined"
          ]
        }
      ]
    },
    {
      "cell_type": "code",
      "metadata": {
        "colab": {
          "base_uri": "https://localhost:8080/"
        },
        "id": "Kzq6rwGY9mBr",
        "outputId": "558b086e-ff62-46f1-e7e9-531b502e9eea"
      },
      "source": [
        "gen_inputs.shape"
      ],
      "execution_count": null,
      "outputs": [
        {
          "output_type": "execute_result",
          "data": {
            "text/plain": [
              "torch.Size([1, 7, 256, 192])"
            ]
          },
          "metadata": {
            "tags": []
          },
          "execution_count": 49
        }
      ]
    },
    {
      "cell_type": "code",
      "metadata": {
        "id": "R2T2WLTl9yCj"
      },
      "source": [
        "from coremltools.converters.mil import register_torch_op\n",
        "from coremltools.converters.mil.frontend.torch.ops import _get_inputs\n",
        "from coremltools.converters.mil.mil import Builder as mb\n",
        "@register_torch_op\n",
        "def type_as(context, node):\n",
        "    inputs = _get_inputs(context, node)\n",
        "    context.add(mb.cast(x=inputs[0], dtype='int32'), node.name)"
      ],
      "execution_count": null,
      "outputs": []
    },
    {
      "cell_type": "code",
      "metadata": {
        "colab": {
          "base_uri": "https://localhost:8080/"
        },
        "id": "8tnGjixp9ZYr",
        "outputId": "90c0a1e8-dd9e-477c-c17b-36df162bc217"
      },
      "source": [
        "coreml_model = ct.convert(\n",
        "    trace2,\n",
        "    inputs=[ct.TensorType(name=\"input1\", shape=(1, 7, 256, 192))]\n",
        ")"
      ],
      "execution_count": null,
      "outputs": [
        {
          "output_type": "stream",
          "text": [
            "Converting Frontend ==> MIL Ops:  92%|█████████▏| 351/381 [00:00<00:00, 1507.70 ops/s]\n",
            "Running MIL optimization passes: 100%|██████████| 18/18 [00:00<00:00, 88.91 passes/s]\n",
            "Translating MIL ==> MLModel Ops: 100%|██████████| 615/615 [00:05<00:00, 113.97 ops/s]\n"
          ],
          "name": "stderr"
        }
      ]
    },
    {
      "cell_type": "code",
      "metadata": {
        "id": "M7bmFXN19paS",
        "colab": {
          "base_uri": "https://localhost:8080/"
        },
        "outputId": "19c7fc64-fb8e-4525-89f2-fabe958a7b9b"
      },
      "source": [
        "real_image = data['image']\n",
        "clothes = data['clothes']\n",
        "\n",
        "edge = data['edge']\n",
        "edge = torch.FloatTensor((edge.detach().numpy() > 0.5).astype(np.int))\n",
        "clothes = clothes * edge\n",
        "\n",
        "flow_out = warp_model(real_image.cpu(), clothes.cpu())\n",
        "warped_cloth, last_flow, = flow_out\n",
        "warped_edge = F.grid_sample(edge.cpu(), last_flow.permute(0, 2, 3, 1),\n",
        "                mode='bilinear', padding_mode='zeros')\n",
        "\n",
        "gen_inputs = torch.cat([real_image.cpu(), warped_cloth, warped_edge], 1)\n",
        "gen_outputs = gen_model(gen_inputs)\n",
        "p_rendered, m_composite = torch.split(gen_outputs, [3, 1], 1)\n",
        "p_rendered = torch.tanh(p_rendered)\n",
        "m_composite = torch.sigmoid(m_composite)\n",
        "m_composite = m_composite * warped_edge\n",
        "p_tryon = warped_cloth * m_composite + p_rendered * (1 - m_composite)"
      ],
      "execution_count": null,
      "outputs": [
        {
          "output_type": "stream",
          "text": [
            "AFWM2 forward 1\n",
            "AFWM2 forward 2\n",
            "AFWM2 forward 3\n"
          ],
          "name": "stdout"
        },
        {
          "output_type": "stream",
          "text": [
            "/usr/local/lib/python3.7/dist-packages/torch/nn/functional.py:3384: UserWarning: Default grid_sample and affine_grid behavior has changed to align_corners=False since 1.3.0. Please specify align_corners=True if the old behavior is desired. See the documentation of grid_sample for details.\n",
            "  warnings.warn(\"Default grid_sample and affine_grid behavior has changed \"\n",
            "/usr/local/lib/python3.7/dist-packages/torch/nn/functional.py:3121: UserWarning: Default upsampling behavior when mode=bilinear is changed to align_corners=False since 0.4.0. Please specify align_corners=True if the old behavior is desired. See the documentation of nn.Upsample for details.\n",
            "  \"See the documentation of nn.Upsample for details.\".format(mode))\n"
          ],
          "name": "stderr"
        },
        {
          "output_type": "stream",
          "text": [
            "AFWM2 forward 4\n"
          ],
          "name": "stdout"
        }
      ]
    },
    {
      "cell_type": "code",
      "metadata": {
        "id": "wyIoTwhGoDqq"
      },
      "source": [
        "a = real_image.float().cpu()\n",
        "b= clothes.cpu()\n",
        "c = p_tryon\n",
        "combine = torch.cat([a[0],b[0],c[0]], 2).squeeze()\n",
        "cv_img=(combine.permute(1,2,0).detach().cpu().numpy()+1)/2\n",
        "output=(cv_img*255).astype(np.uint8)"
      ],
      "execution_count": null,
      "outputs": []
    },
    {
      "cell_type": "code",
      "metadata": {
        "colab": {
          "base_uri": "https://localhost:8080/",
          "height": 273
        },
        "id": "T-5RR6-yoFZX",
        "outputId": "cbf0e917-baad-48c8-bf22-7c16ffbead35"
      },
      "source": [
        "from PIL import Image\n",
        "Image.fromarray(output)"
      ],
      "execution_count": null,
      "outputs": [
        {
          "output_type": "execute_result",
          "data": {
            "image/png": "[encoded data removed]",
            "text/plain": [
              "<PIL.Image.Image image mode=RGB size=576x256 at 0x7FD502162690>"
            ]
          },
          "metadata": {
            "tags": []
          },
          "execution_count": 47
        }
      ]
    },
    {
      "cell_type": "code",
      "metadata": {
        "id": "qr02oWhOoG53"
      },
      "source": [
        ""
      ],
      "execution_count": null,
      "outputs": []
    }
  ]
}